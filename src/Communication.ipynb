{
 "cells": [
  {
   "cell_type": "code",
   "execution_count": null,
   "outputs": [],
   "source": [
    "import pandas as pd\n",
    "import numpy as np\n",
    "\n",
    "from data.getdata import loaddata\n",
    "import pickle\n",
    "import matplotlib.pyplot as plt\n",
    "plt.style.use('ggplot')\n",
    "\n",
    "from sklearn.preprocessing import StandardScaler, OneHotEncoder, LabelEncoder\n",
    "import minisom\n",
    "from data.split3fold import split3fold\n",
    "from collections import defaultdict\n",
    "from sklearn.cluster import AgglomerativeClustering\n",
    "from scipy.cluster.hierarchy import dendrogram, set_link_color_palette\n",
    "from matplotlib.colors import to_rgb\n",
    "from sklearn.tree import plot_tree\n",
    "import matplotlib\n",
    "import re\n",
    "from sklearn.tree import DecisionTreeClassifier\n",
    "from matplotlib import colors as co\n",
    "import matplotlib.gridspec as gridspec\n",
    "import matplotlib.pylab as pl\n",
    "\n",
    "from vars import plot_colors, color_dict, classes_dict, make_meshgrid, plot_contours, get_rules\n",
    "\n",
    "def getclusterid(x, som, clusterarr):\n",
    "    #x ... normalized instance\n",
    "    bmu = getwinnerid(x, som)\n",
    "    c = clusterarr.loc[clusterarr.node == bmu, 'cluster']\n",
    "    return c\n",
    "\n",
    "def getwinnerid(x, som):\n",
    "    #x ... normalized instance\n",
    "    bmu = som.winner(x)[1]\n",
    "    return bmu\n",
    "\n",
    "def plot_dendrogram(model, **kwargs):\n",
    "    #copied from official documentation: https://scikit-learn.org/stable/auto_examples/cluster/plot_agglomerative_dendrogram.html\n",
    "    # Create linkage matrix and then plot the dendrogram\n",
    "\n",
    "    # create the counts of samples under each node\n",
    "    counts = np.zeros(model.children_.shape[0])\n",
    "    n_samples = len(model.labels_)\n",
    "    for i, merge in enumerate(model.children_):\n",
    "        current_count = 0\n",
    "        for child_idx in merge:\n",
    "            if child_idx < n_samples:\n",
    "                current_count += 1  # leaf node\n",
    "            else:\n",
    "                current_count += counts[child_idx - n_samples]\n",
    "        counts[i] = current_count\n",
    "\n",
    "    linkage_matrix = np.column_stack(\n",
    "        [model.children_, model.distances_, counts]\n",
    "    ).astype(float)\n",
    "    # Plot the corresponding dendrogram\n",
    "    d = dendrogram(linkage_matrix, **kwargs)\n",
    "    return d\n",
    "\n",
    "def replace_text(obj):\n",
    "    if type(obj) == matplotlib.text.Annotation:\n",
    "        txt = obj.get_text()\n",
    "        txt = re.sub(\"samples[^$]*class\", \"class\", txt)\n",
    "        obj.set_text(txt)\n",
    "    return obj\n",
    "\n",
    "def predict(x, explainers):\n",
    "    winner = x[-1]\n",
    "    x = x[:-1]\n",
    "    mod = explainers[winner]\n",
    "    return mod.predict(x.reshape(1, -1))"
   ],
   "metadata": {
    "collapsed": false,
    "pycharm": {
     "name": "#%%\n"
    }
   }
  },
  {
   "cell_type": "markdown",
   "source": [
    "# Running example"
   ],
   "metadata": {
    "collapsed": false,
    "pycharm": {
     "name": "#%% md\n"
    }
   }
  },
  {
   "cell_type": "code",
   "execution_count": null,
   "outputs": [],
   "source": [
    "data = 'running2'\n",
    "train, cols = loaddata(data)\n",
    "modelA = pickle.load(open('blackboxes/' + data + 'A.sav', 'rb'))\n",
    "modelB = pickle.load(open('blackboxes/' + data + 'B.sav', 'rb'))\n",
    "train['yA'] = modelA.predict(train[['x1', 'x2']].values)\n",
    "train['yB'] = modelB.predict(train[['x1', 'x2']].values)\n",
    "\n",
    "train['difference_bin'] = train.apply(lambda row: ~(row['yA']==row['yB']), axis=1)\n",
    "train['difference'] = train.apply(lambda row: '%g' % row['yA'] + '|' + '%g' % row['yB'], axis=1)\n",
    "train.drop(columns=['yA', 'yB'], inplace=True)"
   ],
   "metadata": {
    "collapsed": false,
    "pycharm": {
     "name": "#%%\n"
    }
   }
  },
  {
   "cell_type": "code",
   "execution_count": null,
   "outputs": [],
   "source": [
    "fig, ax = plt.subplots(figsize=(10, 10))\n",
    "\n",
    "plt.xlabel('$x_1$')\n",
    "plt.ylabel('$x_2$')\n",
    "\n",
    "ax.scatter(train.loc[train.difference_bin, 'x1'], train.loc[train.difference_bin, 'x2'],\n",
    "           color=plot_colors[1],\n",
    "           marker = 'o',\n",
    "           label = 'Decision Difference')\n",
    "ax.scatter(train.loc[~train.difference_bin, 'x1'], train.loc[~train.difference_bin, 'x2'],\n",
    "           color=plot_colors[0],\n",
    "           marker = 'x',\n",
    "           label = 'No Decision Difference')\n",
    "\n",
    "fig.legend(frameon=False, ncol=10, loc='lower left',bbox_to_anchor=(0, -0.01))\n",
    "\n",
    "ax.set_facecolor('#FFFFFF')\n",
    "plt.tight_layout()\n",
    "plt.grid(True, color='#F3F3F3')\n",
    "\n",
    "ax.set_xlim(-1, 1)\n",
    "ax.set_ylim(-1, 1)\n",
    "\n",
    "plt.savefig('docout/sections/communication/Step1' + data + '.jpg', dpi=150, bbox_inches='tight', transparent=True,pad_inches=0)"
   ],
   "metadata": {
    "collapsed": false,
    "pycharm": {
     "name": "#%%\n"
    }
   }
  },
  {
   "cell_type": "markdown",
   "source": [
    "### Step 2"
   ],
   "metadata": {
    "collapsed": false,
    "pycharm": {
     "name": "#%% md\n"
    }
   }
  },
  {
   "cell_type": "code",
   "execution_count": null,
   "outputs": [],
   "source": [
    "trainsom = train[cols].copy()\n",
    "d = StandardScaler()\n",
    "scaler = d.fit(trainsom.values)\n",
    "trainsomnorm = scaler.transform(trainsom.values)"
   ],
   "metadata": {
    "collapsed": false,
    "pycharm": {
     "name": "#%%\n"
    }
   }
  },
  {
   "cell_type": "code",
   "execution_count": null,
   "outputs": [],
   "source": [
    "trainsomnormdifference = trainsomnorm[~train.difference.isin(['0|0', '1|1', '2|2'])]\n",
    "trainsomdifference = trainsom[~train.difference.isin(['0|0', '1|1', '2|2'])]"
   ],
   "metadata": {
    "collapsed": false,
    "pycharm": {
     "name": "#%%\n"
    }
   }
  },
  {
   "cell_type": "code",
   "execution_count": null,
   "outputs": [],
   "source": [
    "n_nodes = int(np.floor(5 * np.sqrt(len(trainsomdifference))))\n",
    "som = minisom.MiniSom(1, n_nodes, trainsomdifference.shape[1], sigma=4, learning_rate=0.6, random_seed=1)\n",
    "som.train(trainsomnormdifference, 100000, verbose=True)"
   ],
   "metadata": {
    "collapsed": false,
    "pycharm": {
     "name": "#%%\n"
    }
   }
  },
  {
   "cell_type": "code",
   "execution_count": null,
   "outputs": [],
   "source": [
    "connectivity_matrix = np.zeros((n_nodes, n_nodes))\n",
    "for i in range(n_nodes-1):\n",
    "    connectivity_matrix[i,i+1] = 1.0\n",
    "weights = som.get_weights()[0]"
   ],
   "metadata": {
    "collapsed": false,
    "pycharm": {
     "name": "#%%\n"
    }
   }
  },
  {
   "cell_type": "code",
   "execution_count": null,
   "outputs": [],
   "source": [
    "weights = som.get_weights()[0]\n",
    "model = AgglomerativeClustering(distance_threshold=0, n_clusters=None, linkage='single',\n",
    "                                connectivity=connectivity_matrix)\n",
    "model = model.fit(weights)\n",
    "fig = plt.figure(figsize=(10, 8))\n",
    "ax = fig.add_subplot(1, 1, 1)\n",
    "plt.subplots_adjust(hspace=0.5)\n",
    "set_link_color_palette(plot_colors)\n",
    "threshold = 0.2  #0.225\n",
    "den = plot_dendrogram(model, no_labels=True, color_threshold=threshold, above_threshold_color='k')\n",
    "ax.set_facecolor('#FFFFFF')\n",
    "ax.axhline(y=3, c='black', linestyle='dotted')"
   ],
   "metadata": {
    "collapsed": false,
    "pycharm": {
     "name": "#%%\n"
    }
   }
  },
  {
   "cell_type": "code",
   "execution_count": null,
   "outputs": [],
   "source": [
    "ward = AgglomerativeClustering(connectivity=connectivity_matrix, linkage=\"single\",\n",
    "                               distance_threshold=0.2, n_clusters=None).fit(weights)\n",
    "label = ward.labels_\n",
    "clusterarr = pd.DataFrame({'node': range(n_nodes), 'cluster': label})\n",
    "clusterarr['cluster'] = pd.factorize(clusterarr.cluster)[0]\n",
    "ncluster = len(np.unique(label))\n",
    "print(ncluster)"
   ],
   "metadata": {
    "collapsed": false,
    "pycharm": {
     "name": "#%%\n"
    }
   }
  },
  {
   "cell_type": "code",
   "execution_count": null,
   "outputs": [],
   "source": [
    "#determine cluster ID for each instance of the training set:\n",
    "clusterwinnerspos = np.apply_along_axis(getclusterid, 1, som.get_weights()[0], som, clusterarr)\n",
    "clusterwinners = np.apply_along_axis(getclusterid, 1, trainsomnormdifference, som, clusterarr)\n",
    "nodeswinners = np.apply_along_axis(getwinnerid, 1, trainsomnormdifference, som)\n",
    "clusterdendrogram = [clusterwinnerspos[x, 0] for x in den['leaves']]\n",
    "clustercolor = [[x, y] for x, y in zip(clusterdendrogram, den['leaves_color_list'])]\n",
    "clustercolor = np.unique(clustercolor, axis=0)\n",
    "clustercolor = clustercolor[clustercolor[:, 0].astype(int).argsort()]\n",
    "alreadyused = clustercolor[~(clustercolor[:, 1] == 'k'), 1]\n",
    "available = [x for x in plot_colors if x not in alreadyused]\n",
    "clustercolor[clustercolor[:, 1] == 'k', 1] = available[:(ncluster - len(alreadyused))]\n",
    "clustercolor = pd.DataFrame(clustercolor, columns=['cluster', 'color'])\n",
    "clusterswithoutdata = [x for x in range(ncluster) if x not in list(np.unique(clusterwinners))]\n",
    "nodesofclusterwithoutdata = clusterarr.loc[clusterarr.cluster.isin(clusterswithoutdata), 'node'].tolist()\n",
    "#for each cluster, for each node determine nearest node in cluster with data:\n",
    "for node in nodesofclusterwithoutdata:\n",
    "    weightnode = weights[node]\n",
    "    nextnode = node\n",
    "    i = 1\n",
    "    while nextnode in nodesofclusterwithoutdata:\n",
    "        map = som._activation_distance(weightnode, som._weights)[0, [node - i, node + i]].argsort()\n",
    "        nextnode = node + i if map[0] > 0 else node - i\n",
    "        i = i + 1\n",
    "    oldcluster = clusterarr.loc[clusterarr.node == node, 'cluster'].item()\n",
    "    newcluster = clusterarr.loc[clusterarr.node == nextnode, 'cluster'].item()\n",
    "    clusterarr.loc[clusterarr.node == node, 'cluster'] = newcluster\n",
    "    clustercolor.loc[clustercolor.cluster == str(oldcluster), 'color'] = clustercolor.loc[\n",
    "        clustercolor.cluster == str(newcluster), 'color'].item()"
   ],
   "metadata": {
    "collapsed": false,
    "pycharm": {
     "name": "#%%\n"
    }
   }
  },
  {
   "cell_type": "code",
   "execution_count": null,
   "outputs": [],
   "source": [
    "X0, X1 = train.x1, train.x2\n",
    "xx, yy = make_meshgrid(X0, X1, h = 0.005)\n",
    "\n",
    "grid = np.c_[xx.ravel(), yy.ravel()]\n",
    "grid = scaler.transform(grid)\n",
    "\n",
    "z = np.apply_along_axis(getclusterid, 1, grid, som, clusterarr)\n",
    "z = z.reshape(xx.shape)\n",
    "z = z+0.5"
   ],
   "metadata": {
    "collapsed": false,
    "pycharm": {
     "name": "#%%\n"
    }
   }
  },
  {
   "cell_type": "code",
   "execution_count": null,
   "outputs": [],
   "source": [
    "fig = plt.figure(figsize=(10, 8))\n",
    "ax = fig.add_subplot(1, 1, 1)\n",
    "plt.subplots_adjust(hspace=0.5)\n",
    "\n",
    "collist = list(clustercolor.color)\n",
    "MyCmap=co.ListedColormap(collist)\n",
    "cf = ax.contourf(xx,yy,z, alpha = 0.7, cmap=MyCmap, levels = list(range(ncluster+1)))\n",
    "\n",
    "plt.xlabel('$x_1$')\n",
    "plt.ylabel('$x_2$')\n",
    "\n",
    "ax.scatter(train.loc[train.difference_bin, 'x1'], train.loc[train.difference_bin, 'x2'], color='black', label = 'Decision Difference', alpha = 1, s = 15)\n",
    "\n",
    "h = [plt.plot([],[], color = i, linewidth=10, label = j)[0] for j,i in enumerate(list(dict.fromkeys(collist)))]\n",
    "leg = fig.legend(handles=h, title='Cluster', frameon = False, ncol = 10, loc='lower left',\n",
    "           bbox_to_anchor=(0.125,-0.05))\n",
    "leg._legend_box.align = \"left\"\n",
    "\n",
    "ax.set_facecolor('#FFFFFF')\n",
    "plt.tight_layout()\n",
    "plt.grid(True, color='#F3F3F3')\n",
    "\n",
    "ax.set_xlim(-1, 1)\n",
    "ax.set_ylim(-1, 1)\n",
    "\n",
    "plt.savefig('docout/sections/communication/Step2_Clustering_' + data + '.jpg', dpi=150, bbox_inches='tight', transparent=True,pad_inches=0)"
   ],
   "metadata": {
    "collapsed": false,
    "pycharm": {
     "name": "#%%\n"
    }
   }
  },
  {
   "cell_type": "code",
   "execution_count": null,
   "outputs": [],
   "source": [
    "with open('Approach2Explainer_' + data + '.pickle', 'rb') as handle:\n",
    "    explainers = pickle.load(handle)"
   ],
   "metadata": {
    "collapsed": false,
    "pycharm": {
     "name": "#%%\n"
    }
   }
  },
  {
   "cell_type": "code",
   "execution_count": null,
   "outputs": [],
   "source": [
    "region = 0\n",
    "\n",
    "fig, ax = plt.subplots(figsize=(15, 8))\n",
    "class_names = explainers[region].classes_\n",
    "#class_names_decoded = dec.inverse_transform(class_names)\n",
    "#class_names = [classes_dict[data][x] for x in class_names_decoded]\n",
    "colors = [color_dict[data][x][0] for x in class_names]\n",
    "N = len(class_names)\n",
    "artists = plot_tree(explainers[region], fontsize=9, ax=ax,\n",
    "                    impurity=False, node_ids=True,\n",
    "                    feature_names=cols, class_names=class_names)\n",
    "ax.properties()['children'] = [replace_text(i) for i in ax.properties()['children']]\n",
    "for artist, impurity, value in zip(artists, explainers[region].tree_.impurity, explainers[region].tree_.value):\n",
    "    # let the max value decide the color; whiten the color depending on impurity (gini)\n",
    "    r, g, b = to_rgb(colors[np.argmax(value)])\n",
    "    f = impurity * N / (N - 1) if N > 1 else 0\n",
    "    artist.get_bbox_patch().set_facecolor((f + (1 - f) * r, f + (1 - f) * g, f + (1 - f) * b))\n",
    "    artist.get_bbox_patch().set_edgecolor('black')\n",
    "\n",
    "plt.savefig('docout/sections/communication/Step3_Region' + str(region) + '_Explainer_' + data + \".jpg\", dpi=150, bbox_inches='tight',transparent=True, pad_inches=0)"
   ],
   "metadata": {
    "collapsed": false,
    "pycharm": {
     "name": "#%%\n"
    }
   }
  },
  {
   "cell_type": "code",
   "execution_count": null,
   "outputs": [],
   "source": [
    "rules = get_rules(explainers[region], cols, class_names)\n",
    "rules = '\\n'.join(rules)\n",
    "pyperclip.copy(rules)"
   ],
   "metadata": {
    "collapsed": false,
    "pycharm": {
     "name": "#%%\n"
    }
   }
  },
  {
   "cell_type": "markdown",
   "source": [
    "Rule 1: if ($x1 \\leq -0.428$) and ($x2 \\leq 0.613$) and ($x1 \\leq -0.679$) then class: 2|2\n",
    "Rule 2: if ($x1 \\leq -0.428$) and ($x2 \\leq 0.613$) and ($x1 > -0.679$) then class: 1|2\n",
    "Rule 3: if ($x1 \\leq -0.428$) and ($x2 > 0.613$) and ($x1 \\leq -0.763$) and ($x2 \\leq 0.687$) then class: 2|2\n",
    "Rule 4: if ($x1 \\leq -0.428$) and ($x2 > 0.613$) and ($x1 \\leq -0.763$) and ($x2 > 0.687$) and ($x1 \\leq -1.144$) then class: 2|2\n",
    "Rule 5: if ($x1 \\leq -0.428$) and ($x2 > 0.613$) and ($x1 \\leq -0.763$) and ($x2 > 0.687$) and ($x1 > -1.144$) and ($x2 \\leq 0.745$) and ($x1 \\leq -0.816$) then class: 2|2\n",
    "Rule 6: if ($x1 \\leq -0.428$) and ($x2 > 0.613$) and ($x1 \\leq -0.763$) and ($x2 > 0.687$) and ($x1 > -1.144$) and ($x2 \\leq 0.745$) and ($x1 > -0.816$) then class: 1|2\n",
    "Rule 7: if ($x1 \\leq -0.428$) and ($x2 > 0.613$) and ($x1 \\leq -0.763$) and ($x2 > 0.687$) and ($x1 > -1.144$) and ($x2 > 0.745$) and ($x2 \\leq 0.8$) and ($x1 \\leq -0.915$) then class: 2|2\n",
    "Rule 8: if ($x1 \\leq -0.428$) and ($x2 > 0.613$) and ($x1 \\leq -0.763$) and ($x2 > 0.687$) and ($x1 > -1.144$) and ($x2 > 0.745$) and ($x2 \\leq 0.8$) and ($x1 > -0.915$) then class: 1|2\n",
    "Rule 9: if ($x1 \\leq -0.428$) and ($x2 > 0.613$) and ($x1 \\leq -0.763$) and ($x2 > 0.687$) and ($x1 > -1.144$) and ($x2 > 0.745$) and ($x2 > 0.8$) then class: 1|2\n",
    "Rule 10: if ($x1 \\leq -0.428$) and ($x2 > 0.613$) and ($x1 > -0.763$) then class: 1|2\n",
    "Rule 11: if ($x1 > -0.428$) and ($x1 \\leq -0.372$) and ($x2 \\leq 1.014$) then class: 1|1\n",
    "Rule 12: if ($x1 > -0.428$) and ($x1 \\leq -0.372$) and ($x2 > 1.014$) then class: 1|2\n",
    "Rule 13: if ($x1 > -0.428$) and ($x1 > -0.372$) then class: 1|1"
   ],
   "metadata": {
    "collapsed": false,
    "pycharm": {
     "name": "#%% md\n"
    }
   }
  },
  {
   "cell_type": "code",
   "execution_count": null,
   "outputs": [],
   "source": [
    "X0, X1 = train.x1, train.x2\n",
    "xx, yy = make_meshgrid(np.array([train.x1.min(), 0.3]), np.array([train.x2.max(), 0.55]), h=0.001)\n",
    "\n",
    "grid = np.c_[xx.ravel(), yy.ravel()]\n",
    "gridtransformed = scaler.transform(grid)\n",
    "\n",
    "zcluster = np.apply_along_axis(getclusterid, 1, gridtransformed, som, clusterarr)\n",
    "zcluster = zcluster.reshape(xx.shape)"
   ],
   "metadata": {
    "collapsed": false,
    "pycharm": {
     "name": "#%%\n"
    }
   }
  },
  {
   "cell_type": "code",
   "execution_count": null,
   "outputs": [],
   "source": [
    "zrule = explainers[region].apply(grid)\n",
    "#rulenames = np.unique(zrule) #naming after node ids\n",
    "zrule = pd.factorize(zrule)[0]\n",
    "zrule = zrule.reshape(xx.shape)\n",
    "levelsrule = list(np.unique(zrule)) + [11]\n",
    "rulenames = np.unique(zrule)\n",
    "zrule[zcluster != region] = -100"
   ],
   "metadata": {
    "collapsed": false,
    "pycharm": {
     "name": "#%%\n"
    }
   }
  },
  {
   "cell_type": "code",
   "execution_count": null,
   "outputs": [],
   "source": [
    "fig = plt.figure(figsize=(10, 8))\n",
    "ax = fig.add_subplot(1, 1, 1)\n",
    "plt.subplots_adjust(hspace=0.5)\n",
    "collist = plot_colors[:11]\n",
    "MyCmap=co.ListedColormap(collist)\n",
    "\n",
    "cntr1 = plot_contours(ax, modelA, xx, yy, levels=1, colors='black', linewidths=2, linestyles='dotted')\n",
    "cntr2 = plot_contours(ax, modelB, xx, yy, levels=1, colors='black', linewidths=1, linestyles='dashed')\n",
    "\n",
    "cf = ax.contour(xx, yy, zcluster+0.1, colors = 'k', levels = np.unique(z))\n",
    "cfrule = ax.contourf(xx,yy,zrule+0.1, alpha = 0.7, cmap=MyCmap, levels = levelsrule)\n",
    "\n",
    "plt.xlabel('$x_1$')\n",
    "plt.ylabel('$x_2$')\n",
    "\n",
    "h = [plt.plot([],[], ls = 'solid', color = 'black')[0],\n",
    "     plt.plot([],[], ls = 'dotted', color = 'black')[0],\n",
    "     plt.plot([],[], ls = 'dashed', color = 'black')[0]]\n",
    "h1 = [plt.plot([],[], color = i, linewidth=10)[0] for i in collist]\n",
    "legend2 = ax.legend(handles=h, labels=['Cluster Boundaries', 'Decision Boundary $M_A$','Decision Boundary $M_B$'],\n",
    "          loc='lower left', title='', frameon=False, bbox_to_anchor=(0, -0.12),\n",
    "          ncol=4)\n",
    "\n",
    "legend1 = ax.legend(h1, ['Rule ' + str(j) for j in np.unique(rulenames)+1], loc='lower left', title='', frameon=False, bbox_to_anchor=(0, -0.2), ncol=7)\n",
    "ax.add_artist(legend1)\n",
    "ax.add_artist(legend2)\n",
    "\n",
    "ax.set_facecolor('#FFFFFF')\n",
    "plt.tight_layout()\n",
    "plt.grid(True, color='#F3F3F3')\n",
    "\n",
    "plt.savefig('docout/sections/communication/Step3_Region' + str(region) + '_RegionsRules_' + data + \".jpg\", dpi=150, bbox_inches='tight',transparent=True, pad_inches=0)"
   ],
   "metadata": {
    "collapsed": false,
    "pycharm": {
     "name": "#%%\n"
    }
   }
  },
  {
   "cell_type": "markdown",
   "source": [
    "### Step 3"
   ],
   "metadata": {
    "collapsed": false,
    "pycharm": {
     "name": "#%% md\n"
    }
   }
  },
  {
   "cell_type": "code",
   "execution_count": null,
   "outputs": [],
   "source": [
    "with open('Approach2Neighborhood_' + data + '.pickle', 'rb') as handle:\n",
    "    neighborhoods = pickle.load(handle)"
   ],
   "metadata": {
    "collapsed": false,
    "pycharm": {
     "name": "#%%\n"
    }
   }
  },
  {
   "cell_type": "code",
   "execution_count": null,
   "outputs": [],
   "source": [
    "explainers = dict.fromkeys(neighborhoods.keys())\n",
    "for region in neighborhoods.keys():\n",
    "    subgeneticneighborhood = pd.DataFrame(neighborhoods[region])\n",
    "    subgeneticneighborhood.columns = cols\n",
    "\n",
    "    predA = modelA.predict(subgeneticneighborhood.values).astype(str)\n",
    "    predB = modelB.predict(subgeneticneighborhood.values).astype(str)\n",
    "    difference = pd.Series(np.char.add(np.char.add(predA, '|'), predB))\n",
    "    clf = DecisionTreeClassifier(random_state=0, max_depth=4)\n",
    "    clf.fit(subgeneticneighborhood, difference)\n",
    "    explainers[region] = clf"
   ],
   "metadata": {
    "collapsed": false,
    "pycharm": {
     "name": "#%%\n"
    }
   }
  },
  {
   "cell_type": "code",
   "execution_count": null,
   "outputs": [],
   "source": [
    "somvislist = list()\n",
    "slidingtrainsomnormlist = list()\n",
    "targetlist = list()\n",
    "scalerswindow = list()\n",
    "shapesomregion = 15\n",
    "windowsize = 3\n",
    "ncluster = clusterarr.cluster.max()\n",
    "\n",
    "for currwindow in range(ncluster - 2):\n",
    "    print('window: ', currwindow)\n",
    "\n",
    "    slidingtrainsom = pd.concat([pd.DataFrame(neighborhoods[x]) for x in range(currwindow, currwindow + windowsize)])\n",
    "    slidingtrainsom.columns = cols\n",
    "\n",
    "    target = np.concatenate(\n",
    "        [explainers[x].predict(neighborhoods[x]) for x in range(currwindow, currwindow + windowsize)])\n",
    "    targetlist.append(pd.Series(target))\n",
    "\n",
    "    for feature in discrete_woclassname:\n",
    "        tmp = d[feature].transform(slidingtrainsom[feature].values.reshape(-1, 1)).toarray()\n",
    "        colnames = [feature + str(i) for i in range(tmp.shape[1])]\n",
    "        slidingtrainsom[colnames] = tmp\n",
    "        slidingtrainsom.drop(columns=feature, inplace=True)\n",
    "\n",
    "    scalerwindow = StandardScaler()\n",
    "    slidingtrainsom[continuous] = scalerwindow.fit_transform(slidingtrainsom[continuous])\n",
    "    scalerswindow.append(scalerwindow)\n",
    "    slidingtrainsomnormlist.append(slidingtrainsom)\n",
    "\n",
    "    somvisregion = minisom.MiniSom(shapesomregion, shapesomregion, slidingtrainsom.shape[1], sigma=2.0,\n",
    "                                   learning_rate=1.0, random_seed=0)\n",
    "    somvisregion.train(slidingtrainsom.values, 100000, verbose=False)\n",
    "    somvislist.append(somvisregion)"
   ],
   "metadata": {
    "collapsed": false,
    "pycharm": {
     "name": "#%%\n"
    }
   }
  },
  {
   "cell_type": "code",
   "execution_count": null,
   "outputs": [],
   "source": [
    "rows = 1\n",
    "columns = 5\n",
    "\n",
    "gs = gridspec.GridSpec(rows, columns)\n",
    "fig = plt.figure(figsize=(35, 7))\n",
    "gs.update(wspace=0.07)\n",
    "\n",
    "color_dict[data]['No decision difference'] = color_dict[data]['0|0']\n",
    "classes_dict[data]['No decision difference'] = 'No decision difference'\n",
    "\n",
    "collector_color = dict.fromkeys(color_dict[data].keys())\n",
    "collector_marker = dict.fromkeys(color_dict[data].keys())\n",
    "\n",
    "#plot of iterations training:\n",
    "for index in range(ncluster-2):\n",
    "    col = int(np.mod(index, columns))\n",
    "    row = int(np.floor(index/columns))\n",
    "    ax = pl.subplot(gs[row, col])\n",
    "\n",
    "    Z = np.zeros((shapesomregion, shapesomregion))\n",
    "    somvisregion = somvislist[index]\n",
    "    subgeneticneighborhoodbinary = slidingtrainsomnormlist[index]\n",
    "    target = targetlist[index]\n",
    "    target[target.isin(['0|0', '1|1', '2|2'])] = 'No decision difference'\n",
    "\n",
    "    w_x, w_y = zip(*[somvisregion.winner(d) for d in subgeneticneighborhoodbinary.values])\n",
    "    for i in np.arange(somvisregion._weights.shape[0]):\n",
    "        for j in np.arange(somvisregion._weights.shape[1]):\n",
    "            idx = [x == i and y == j for x, y in zip(w_x, w_y)]\n",
    "            tmp = target[idx]\n",
    "            if len(tmp) > 0:\n",
    "                feature = tmp.value_counts().idxmax()\n",
    "                collector_color[feature] = plt.plot([i + .5], [j + .5], color=color_dict[data][feature][0],\n",
    "                                                    marker='s', markersize=19, linewidth = 0) #15\n",
    "                collector_marker[feature] = plt.plot([i + .5], [j + .5], marker=color_dict[data][feature][1][0],\n",
    "                                                     color=color_dict[data][feature][1][1], markersize=13, markerfacecolor = 'None',linewidth = 0) #10\n",
    "\n",
    "    plt.xlim([0, shapesomregion])\n",
    "    plt.ylim([0, shapesomregion])\n",
    "\n",
    "    plt.grid(False)\n",
    "    ax.set_xlabel('')\n",
    "    ax.set_ylabel('')\n",
    "    ax.set_yticklabels([])\n",
    "    ax.set_xticklabels([])\n",
    "    ax.set_yticks([])\n",
    "    ax.set_xticks([])\n",
    "    ax.set_title('Clusters: ' + ', '.join([str(x) for x in range(index, index + windowsize)]))\n",
    "\n",
    "collector_color = {k: v for k, v in collector_color.items() if v is not None}\n",
    "collector_marker = {k: v for k, v in collector_marker.items() if v is not None}\n",
    "\n",
    "leg = fig.legend([(collector_color[j][0], collector_marker[j][0]) for j in collector_color.keys()],\n",
    "                 [classes_dict[data][j] for j in collector_color.keys()],\n",
    "                 title='Prediction explainer', frameon=False, ncol = 10, loc='lower left',bbox_to_anchor=(0.125, -0.05)\n",
    "                 )\n",
    "leg._legend_box.align = \"left\"\n",
    "plt.savefig(figurepath + 'Step3_combined_' + data + '.jpg', dpi=150,bbox_inches='tight', transparent=True, pad_inches=0)"
   ],
   "metadata": {
    "collapsed": false,
    "pycharm": {
     "name": "#%%\n"
    }
   }
  },
  {
   "cell_type": "code",
   "execution_count": null,
   "outputs": [],
   "source": [],
   "metadata": {
    "collapsed": false,
    "pycharm": {
     "name": "#%%\n"
    }
   }
  },
  {
   "cell_type": "markdown",
   "source": [
    "# Compas"
   ],
   "metadata": {
    "collapsed": false,
    "pycharm": {
     "name": "#%% md\n"
    }
   }
  },
  {
   "cell_type": "code",
   "execution_count": null,
   "outputs": [],
   "source": [
    "data = 'compas'\n",
    "dataA, dataB, cols, discrete, continuous, le = loaddata(data)\n",
    "blackboxtrainA, trainA, testA = split3fold(dataA, 0.4, 0.2, random_state=1)\n",
    "blackboxtrainB, trainB, testB = split3fold(dataB, 0.4, 0.2, random_state=1)\n",
    "modelA = pickle.load(open('blackboxes/' + data + 'A.sav', 'rb'))\n",
    "modelB = pickle.load(open('blackboxes/' + data + 'B.sav', 'rb'))\n",
    "#create difference detection dataset:\n",
    "train = pd.concat([trainA, trainB])\n",
    "train['predA'] = modelA.predict(train[cols].values)\n",
    "train['predB'] = modelB.predict(train[cols].values)\n",
    "train['difference'] = train.apply(lambda row: str(int(row['predA'])) + '|' + str(int(row['predB'])), axis=1)\n",
    "train['difference_binary'] = train.apply(lambda row: not (row['predA']==row['predB']), axis=1)\n",
    "train.drop(columns=['predA', 'predB', 'y'], inplace=True)\n",
    "train = train.reset_index(drop=True)\n",
    "\n",
    "test = pd.concat([testA, testB])\n",
    "test['predA'] = modelA.predict(test[cols].values)\n",
    "test['predB'] = modelB.predict(test[cols].values)\n",
    "test['difference'] = test.apply(lambda row: str(int(row['predA'])) + '|' + str(int(row['predB'])), axis = 1)\n",
    "test['difference_binary'] = test.apply(lambda row: not (row['predA']==row['predB']), axis=1)\n",
    "test.drop(columns=['predA', 'predB', 'y'], inplace=True)\n",
    "test = test.reset_index(drop=True)\n",
    "\n",
    "discrete.append('difference')"
   ],
   "metadata": {
    "collapsed": false,
    "pycharm": {
     "name": "#%%\n"
    }
   }
  },
  {
   "cell_type": "code",
   "execution_count": null,
   "outputs": [],
   "source": [
    "discrete_woclassname = discrete.copy()\n",
    "discrete_woclassname.remove('difference')\n",
    "\n",
    "d = defaultdict(lambda: OneHotEncoder(drop = 'first'))\n",
    "trainbinary = train.copy()\n",
    "testbinary = test.copy()\n",
    "colsbinary = cols.copy()\n",
    "for feature in discrete_woclassname:\n",
    "    uniquevals = np.concatenate((trainbinary[feature].values.reshape(-1,1), testbinary[feature].values.reshape(-1,1)))\n",
    "    d[feature].fit(uniquevals)\n",
    "    tmp = d[feature].transform(trainbinary[feature].values.reshape(-1,1)).toarray()\n",
    "    colnames = [feature + str(i) for i in range(tmp.shape[1])]\n",
    "    trainbinary[colnames] = tmp\n",
    "    testbinary[colnames] = d[feature].transform(testbinary[feature].values.reshape(-1,1)).toarray()\n",
    "    colsbinary = colsbinary + colnames\n",
    "    colsbinary.remove(feature)\n",
    "    trainbinary.drop(columns = feature, inplace = True)\n",
    "    testbinary.drop(columns = feature, inplace = True)\n",
    "\n",
    "trainbinarynorm = trainbinary[colsbinary].copy()\n",
    "testbinarynorm = testbinary[colsbinary].copy()\n",
    "scaler = StandardScaler().fit(trainbinarynorm[continuous].values)\n",
    "trainbinarynorm[continuous] = scaler.transform(trainbinarynorm[continuous].values)\n",
    "testbinarynorm[continuous] = scaler.transform(testbinarynorm[continuous].values)"
   ],
   "metadata": {
    "collapsed": false,
    "pycharm": {
     "name": "#%%\n"
    }
   }
  },
  {
   "cell_type": "code",
   "execution_count": null,
   "outputs": [],
   "source": [
    "shapesom = 20\n",
    "somvis = minisom.MiniSom(shapesom, shapesom, trainbinarynorm.shape[1], sigma=2.0, learning_rate=1.0, random_seed=0)\n",
    "somvis.train(trainbinarynorm.values, 100000, verbose=True)"
   ],
   "metadata": {
    "collapsed": false,
    "pycharm": {
     "name": "#%%\n"
    }
   }
  },
  {
   "cell_type": "code",
   "execution_count": null,
   "outputs": [],
   "source": [
    "Z = np.zeros((shapesom, shapesom))\n",
    "fig, ax = plt.subplots(figsize=(10, 10))\n",
    "\n",
    "colors = {'True': [plot_colors[1], 'o', 'black'], 'False': [plot_colors[0], 'x', 'white']}\n",
    "\n",
    "collector_color = dict.fromkeys(colors.keys())\n",
    "collector_marker = dict.fromkeys(colors.keys())\n",
    "\n",
    "w_x, w_y = zip(*[somvis.winner(d) for d in trainbinarynorm.values])\n",
    "for i in np.arange(somvis._weights.shape[0]):\n",
    "    for j in np.arange(somvis._weights.shape[1]):\n",
    "        idx = [x == i and y == j for x, y in zip(w_x, w_y)]\n",
    "        tmp = train.difference_binary[idx]\n",
    "        if len(tmp) > 0:\n",
    "            feature = tmp.value_counts().idxmax()\n",
    "            collector_color[str(feature)] = plt.plot([i + .5], [j + .5], color=colors[str(feature)][0],marker='s',\n",
    "                                                     markersize=22, linewidth = 0)\n",
    "            collector_marker[str(feature)] = plt.plot([i + .5], [j + .5], color=colors[str(feature)][2], linewidth = 0,\n",
    "                                        marker=colors[str(feature)][1], markersize=15, markerfacecolor = 'None')\n",
    "\n",
    "leg = plt.legend([(collector_color[j][0], collector_marker[j][0]) for j in collector_color.keys()],\n",
    "                 ['Decision differences', 'No decision differences'],markerscale = 0.5,\n",
    "                  frameon=False, ncol=5, loc='lower left',bbox_to_anchor=(0, -0.1)\n",
    "                 )\n",
    "\n",
    "plt.xlim([0, shapesom])\n",
    "plt.ylim([0, shapesom])\n",
    "\n",
    "plt.grid(False)\n",
    "\n",
    "plt.grid(color = '#ffffff')\n",
    "ax.set_xlabel('')\n",
    "ax.set_ylabel('')\n",
    "ax.set_xticks(range(shapesom))\n",
    "ax.set_yticks(range(shapesom))\n",
    "ax.set_yticklabels([])\n",
    "ax.set_xticklabels([])\n",
    "\n",
    "plt.savefig('docout/sections/communication/Step1_SOMprojection_' + data + '.jpg', dpi=150, bbox_inches='tight',\n",
    "            transparent=False, pad_inches=0)"
   ],
   "metadata": {
    "collapsed": false,
    "pycharm": {
     "name": "#%%\n"
    }
   }
  },
  {
   "cell_type": "code",
   "execution_count": null,
   "outputs": [],
   "source": [
    "with open('Approach2SOM_' + data + '.pickle', 'rb') as handle:\n",
    "    som = pickle.load(handle)\n",
    "with open('Approach2Clusterarray_' + data + '.pickle', 'rb') as handle:\n",
    "    clusterarr = pickle.load(handle)"
   ],
   "metadata": {
    "collapsed": false,
    "pycharm": {
     "name": "#%%\n"
    }
   }
  },
  {
   "cell_type": "code",
   "execution_count": null,
   "outputs": [],
   "source": [
    "with open('Approach2Neighborhood_' + data + '.pickle', 'rb') as handle:\n",
    "    neighborhoods = pickle.load(handle)"
   ],
   "metadata": {
    "collapsed": false,
    "pycharm": {
     "name": "#%%\n"
    }
   }
  },
  {
   "cell_type": "code",
   "execution_count": null,
   "outputs": [],
   "source": [
    "clusterwinners = pd.Series(np.apply_along_axis(getclusterid, 1, trainbinarynorm.values, som, clusterarr).flatten())\n",
    "ofinterest = [\n",
    "    (0,10), (1,10), (2,9)\n",
    "]\n",
    "w = [somvis.winner(d) for d in trainbinarynorm.values]\n",
    "ind = [x in ofinterest for x in w]\n",
    "clusterwinners[ind].value_counts()/np.sum(ind)"
   ],
   "metadata": {
    "collapsed": false,
    "pycharm": {
     "name": "#%%\n"
    }
   }
  },
  {
   "cell_type": "code",
   "execution_count": null,
   "outputs": [],
   "source": [
    "clusterarr.groupby('cluster').count()"
   ],
   "metadata": {
    "collapsed": false,
    "pycharm": {
     "name": "#%%\n"
    }
   }
  },
  {
   "cell_type": "code",
   "execution_count": null,
   "outputs": [],
   "source": [
    "#plot of decision differences for specific region based on generated neighborhood:\n",
    "region = 2\n",
    "subgeneticneighborhood = pd.DataFrame(neighborhoods[region])\n",
    "subgeneticneighborhood.columns = cols\n",
    "\n",
    "subgeneticneighborhoodbinary = subgeneticneighborhood.copy()\n",
    "for feature in discrete_woclassname:\n",
    "    tmp = d[feature].transform(subgeneticneighborhoodbinary[feature].values.reshape(-1, 1)).toarray()\n",
    "    colnames = [feature + str(i) for i in range(tmp.shape[1])]\n",
    "    subgeneticneighborhoodbinary[colnames] = tmp\n",
    "    subgeneticneighborhoodbinary.drop(columns = feature, inplace = True)\n",
    "\n",
    "subgeneticneighborhoodbinary[continuous] = scaler.transform(subgeneticneighborhoodbinary[continuous].values)\n",
    "\n",
    "predA = modelA.predict(subgeneticneighborhood.values).astype(str)\n",
    "predB = modelB.predict(subgeneticneighborhood.values).astype(str)\n",
    "difference = pd.Series(np.char.add(np.char.add(predA, '|'), predB))\n",
    "clf = DecisionTreeClassifier(random_state=0, max_depth=3)\n",
    "clf.fit(subgeneticneighborhood, difference)\n",
    "\n",
    "target = pd.Series(clf.predict(subgeneticneighborhood))"
   ],
   "metadata": {
    "collapsed": false,
    "pycharm": {
     "name": "#%%\n"
    }
   }
  },
  {
   "cell_type": "code",
   "execution_count": null,
   "outputs": [],
   "source": [
    "np.sqrt(5 * np.sqrt(len(subgeneticneighborhood)))"
   ],
   "metadata": {
    "collapsed": false,
    "pycharm": {
     "name": "#%%\n"
    }
   }
  },
  {
   "cell_type": "code",
   "execution_count": null,
   "outputs": [],
   "source": [
    "shapesomregion = 15\n",
    "#For visualisation:\n",
    "somvisregion = minisom.MiniSom(shapesomregion, shapesomregion, subgeneticneighborhoodbinary.shape[1], sigma=2.0,learning_rate=1.0, random_seed=0)\n",
    "somvisregion.train(subgeneticneighborhoodbinary.values, 100000, verbose=True)"
   ],
   "metadata": {
    "collapsed": false,
    "pycharm": {
     "name": "#%%\n"
    }
   }
  },
  {
   "cell_type": "code",
   "execution_count": null,
   "outputs": [],
   "source": [
    "Z = np.zeros((shapesomregion, shapesomregion))\n",
    "fig, ax = plt.subplots(figsize=(10, 10))\n",
    "\n",
    "collector_color = dict.fromkeys(color_dict[data].keys())\n",
    "collector_marker = dict.fromkeys(color_dict[data].keys())\n",
    "\n",
    "w_x, w_y = zip(*[somvisregion.winner(d) for d in subgeneticneighborhoodbinary.values])\n",
    "for i in np.arange(somvisregion._weights.shape[0]):\n",
    "    for j in np.arange(somvisregion._weights.shape[1]):\n",
    "        idx = [x == i and y == j for x, y in zip(w_x, w_y)]\n",
    "        tmp = target[idx]\n",
    "        if len(tmp) > 0:\n",
    "            feature = tmp.value_counts().idxmax()\n",
    "            collector_color[feature] = plt.plot([i + .5], [j + .5], color=color_dict[data][feature][0],\n",
    "                     marker='s', markersize=32, linewidth = 0)\n",
    "            collector_marker[feature] = plt.plot([i + .5], [j + .5], marker=color_dict[data][feature][1][0],\n",
    "                     color=color_dict[data][feature][1][1], markersize=20, markerfacecolor = 'None',linewidth = 0)\n",
    "\n",
    "collector_color = {k: v for k, v in collector_color.items() if v is not None}\n",
    "collector_marker = {k: v for k, v in collector_marker.items() if v is not None}\n",
    "\n",
    "leg = plt.legend([(collector_color[j][0], collector_marker[j][0]) for j in collector_color.keys()],\n",
    "    [classes_dict[data][j] for j in collector_color.keys()],markerscale = 0.45,\n",
    "    title='Prediction explainer', frameon=False, ncol=5, loc='lower left',bbox_to_anchor=(0, -0.125)\n",
    ")\n",
    "leg._legend_box.align = \"left\"\n",
    "\n",
    "plt.xlim([0, shapesomregion])\n",
    "plt.ylim([0, shapesomregion])\n",
    "\n",
    "plt.grid(False)\n",
    "\n",
    "plt.grid(color = '#ffffff')\n",
    "ax.set_xlabel('')\n",
    "ax.set_ylabel('')\n",
    "ax.set_xticks(range(shapesomregion))\n",
    "ax.set_yticks(range(shapesomregion))\n",
    "ax.set_yticklabels([])\n",
    "ax.set_xticklabels([])\n",
    "\n",
    "plt.savefig('docout/sections/communication/Step3_Region' + str(region) + '_SOMprojection_ClassColored_' + data + '.jpg', dpi=150,bbox_inches='tight', transparent=False, pad_inches=0)"
   ],
   "metadata": {
    "collapsed": false,
    "pycharm": {
     "name": "#%%\n"
    }
   }
  },
  {
   "cell_type": "code",
   "execution_count": null,
   "outputs": [],
   "source": [
    "fig, ax = plt.subplots(figsize=(10, 10))\n",
    "rules = clf.apply(subgeneticneighborhood.values)\n",
    "label_names = {3:'Rule 1', 4:'Rule 2', 6:'Rule 3',\n",
    "               7:'Rule 4', 10:'Rule 5', 11:'Rule 6',\n",
    "               13:'Rule 7', 14:'Rule 8'}\n",
    "\n",
    "labels_map = somvisregion.labels_map(subgeneticneighborhoodbinary.values, [label_names[t] for t in rules])\n",
    "\n",
    "the_grid = gridspec.GridSpec(shapesomregion, shapesomregion, fig)\n",
    "for position in labels_map.keys():\n",
    "    label_fracs = [labels_map[position][l] for l in label_names.values()]\n",
    "    plt.subplot(the_grid[shapesomregion-1-position[1],\n",
    "                         position[0]], aspect=1)\n",
    "    patches, texts = plt.pie(label_fracs, colors=plot_colors)\n",
    "#region 1(-12.1, -14.7)\n",
    "#region2(-6.1, -2.7)\n",
    "plt.legend(patches, label_names.values(), loc='lower left',bbox_to_anchor=(-11.1, -18.5), frameon=False, ncol = 6)\n",
    "plt.savefig('docout/sections/communication/Step2_Region' + str(region) + '_SOMprojection_PieRules_' + data + '.jpg', dpi=150,bbox_inches='tight', transparent=False, pad_inches=0)"
   ],
   "metadata": {
    "collapsed": false,
    "pycharm": {
     "name": "#%%\n"
    }
   }
  },
  {
   "cell_type": "code",
   "execution_count": null,
   "outputs": [],
   "source": [
    "#U-Matrix.\n",
    "fig, ax = plt.subplots(figsize=(10, 11))\n",
    "plt.grid(False)\n",
    "im = plt.pcolor(somvisregion.distance_map().T, cmap='Greys')\n",
    "\n",
    "ax.set_xlabel('')\n",
    "ax.set_ylabel('')\n",
    "ax.set_yticklabels([])\n",
    "ax.set_xticklabels([])\n",
    "ax.set_yticks([])\n",
    "ax.set_xticks([])\n",
    "\n",
    "plt.subplots_adjust(bottom=0.15)\n",
    "cax = plt.axes([0.1, 0.1, 0.8, 0.017])\n",
    "plt.colorbar(cax=cax, orientation='horizontal')\n",
    "\n",
    "plt.savefig('docout/sections/communication/Step3_Region'+str(region)+'_SOMprojection_UMatrix_' + data + '.jpg',dpi=150, bbox_inches='tight', transparent=True, pad_inches=0)"
   ],
   "metadata": {
    "collapsed": false,
    "pycharm": {
     "name": "#%%\n"
    }
   }
  },
  {
   "cell_type": "code",
   "execution_count": null,
   "outputs": [],
   "source": [
    "fig, ax = plt.subplots(figsize=(17, 5))\n",
    "class_names = clf.classes_\n",
    "class_names_decoded = [classes_dict[data][i] for i in class_names]\n",
    "colors = [color_dict[data][x][0] for x in class_names]\n",
    "N = len(class_names)\n",
    "artists = plot_tree(clf, fontsize=9, ax=ax,\n",
    "                    impurity=False, node_ids=True,\n",
    "                    feature_names=cols, class_names=class_names_decoded)\n",
    "ax.properties()['children'] = [replace_text(i) for i in ax.properties()['children']]\n",
    "for artist, impurity, value in zip(artists, clf.tree_.impurity, clf.tree_.value):\n",
    "    # let the max value decide the color; whiten the color depending on impurity (gini)\n",
    "    r, g, b = to_rgb(colors[np.argmax(value)])\n",
    "    f = impurity * N / (N - 1) if N > 1 else 0\n",
    "    rnew = f + (1 - f) * r\n",
    "    gnew = f + (1 - f) * g\n",
    "    bnew = f + (1 - f) * b\n",
    "    artist.get_bbox_patch().set(facecolor = (rnew, gnew, bnew),\n",
    "                                edgecolor = 'black')\n",
    "    brightness = np.sqrt(0.299*rnew*rnew + 0.587*gnew*gnew + 0.114*bnew*bnew)\n",
    "    if brightness < 0.5:\n",
    "        artist.set(color = 'white')\n",
    "\n",
    "plt.savefig('docout/sections/communication/Step3_Region' + str(region) + '_Explainer_' + data + \".jpg\", dpi=300, bbox_inches='tight', transparent=True, pad_inches=0)"
   ],
   "metadata": {
    "collapsed": false,
    "pycharm": {
     "name": "#%%\n"
    }
   }
  },
  {
   "cell_type": "code",
   "execution_count": null,
   "outputs": [],
   "source": [
    "import pyperclip\n",
    "from sklearn.tree import _tree"
   ],
   "metadata": {
    "collapsed": false,
    "pycharm": {
     "name": "#%%\n"
    }
   }
  },
  {
   "cell_type": "code",
   "execution_count": null,
   "outputs": [],
   "source": [
    "rules = get_rules(clf, ['sex',\n",
    "                        'age',\n",
    "                        'race',\n",
    "                        'juv\\_fel\\_count',\n",
    "                        'juv\\_misd\\_count',\n",
    "                        'juv\\_other\\_count',\n",
    "                        'priors\\_count',\n",
    "                        'c\\_charge\\_degree'], class_names_decoded)\n",
    "rules = '\\n'.join(rules)\n",
    "pyperclip.copy(rules)"
   ],
   "metadata": {
    "collapsed": false,
    "pycharm": {
     "name": "#%%\n"
    }
   }
  },
  {
   "cell_type": "markdown",
   "source": [
    "#### Description of cluster:\n",
    "##### Genetic neighborhood:"
   ],
   "metadata": {
    "collapsed": false
   }
  },
  {
   "cell_type": "code",
   "execution_count": null,
   "outputs": [],
   "source": [
    "regionencoded = subgeneticneighborhood.copy()\n",
    "regionencoded['sex'] = le['sex'].inverse_transform(regionencoded['sex'].astype(int))\n",
    "regionencoded['race'] = le['race'].inverse_transform(regionencoded['race'].astype(int))\n",
    "regionencoded['c_charge_degree'] = le['c_charge_degree'].inverse_transform(regionencoded['c_charge_degree'].astype(int))"
   ],
   "metadata": {
    "collapsed": false,
    "pycharm": {
     "name": "#%%\n"
    }
   }
  },
  {
   "cell_type": "code",
   "execution_count": null,
   "outputs": [],
   "source": [
    "regionencoded[continuous].describe()"
   ],
   "metadata": {
    "collapsed": false,
    "pycharm": {
     "name": "#%%\n"
    }
   }
  },
  {
   "cell_type": "code",
   "execution_count": null,
   "outputs": [],
   "source": [
    "regionencoded['sex'].value_counts() / len(regionencoded)"
   ],
   "metadata": {
    "collapsed": false,
    "pycharm": {
     "name": "#%%\n"
    }
   }
  },
  {
   "cell_type": "code",
   "execution_count": null,
   "outputs": [],
   "source": [
    "regionencoded['race'].value_counts() / len(regionencoded)"
   ],
   "metadata": {
    "collapsed": false,
    "pycharm": {
     "name": "#%%\n"
    }
   }
  },
  {
   "cell_type": "code",
   "execution_count": null,
   "outputs": [],
   "source": [
    "regionencoded['c_charge_degree'].value_counts() / len(regionencoded)"
   ],
   "metadata": {
    "collapsed": false,
    "pycharm": {
     "name": "#%%\n"
    }
   }
  },
  {
   "cell_type": "code",
   "execution_count": null,
   "outputs": [],
   "source": [],
   "metadata": {
    "collapsed": false,
    "pycharm": {
     "name": "#%%\n"
    }
   }
  },
  {
   "cell_type": "markdown",
   "source": [
    "### Step 3"
   ],
   "metadata": {
    "collapsed": false,
    "pycharm": {
     "name": "#%% md\n"
    }
   }
  },
  {
   "cell_type": "code",
   "execution_count": null,
   "outputs": [],
   "source": [
    "fig, ax = plt.subplots(figsize=(10, 10))\n",
    "label_names = {0: 'Explainer 0', 1: 'Explainer 1', 2: 'Explainer 2',\n",
    "               3: 'Explainer 3', 4: 'Explainer 4', 5: 'Explainer 5',\n",
    "               6: 'Explainer 6', 7: 'Explainer 7'}\n",
    "\n",
    "clusterassignmentfull = np.apply_along_axis(getclusterid, 1, trainbinarynorm.values, som, clusterarr).flatten()\n",
    "labels_map = somvis.labels_map(trainbinarynorm.values, [label_names[t] for t in clusterassignmentfull])\n",
    "\n",
    "the_grid = gridspec.GridSpec(shapesom, shapesom, fig)\n",
    "for position in labels_map.keys():\n",
    "    label_fracs = [labels_map[position][l] for l in label_names.values()]\n",
    "    plt.subplot(the_grid[shapesom - 1 - position[1],\n",
    "                         position[0]], aspect=1)\n",
    "    patches, texts = plt.pie(label_fracs, colors=plot_colors)\n",
    "#region 1(-12.1, -14.7)\n",
    "#region2(-6.1, -2.7)\n",
    "plt.legend(patches, label_names.values(), loc='lower left', bbox_to_anchor=(-7.5, -15.5), frameon=False, ncol=5)\n",
    "plt.savefig('docout/sections/communication/Step2_' + str(region) + '_SOMprojection_PieExplainer_' + data + '.jpg',dpi=150, bbox_inches='tight', transparent=False, pad_inches=0)"
   ],
   "metadata": {
    "collapsed": false,
    "pycharm": {
     "name": "#%%\n"
    }
   }
  },
  {
   "cell_type": "markdown",
   "source": [
    "#### Component planes"
   ],
   "metadata": {
    "collapsed": false,
    "pycharm": {
     "name": "#%% md\n"
    }
   }
  },
  {
   "cell_type": "code",
   "execution_count": null,
   "outputs": [],
   "source": [
    "from mpl_toolkits.axes_grid1 import make_axes_locatable"
   ],
   "metadata": {
    "collapsed": false,
    "pycharm": {
     "name": "#%%\n"
    }
   }
  },
  {
   "cell_type": "code",
   "execution_count": null,
   "outputs": [],
   "source": [
    "rows = 2\n",
    "columns = 4\n",
    "\n",
    "gs = gridspec.GridSpec(rows, columns)\n",
    "fig = plt.figure(figsize=(35, 20))\n",
    "gs.update(wspace=0.1, hspace = 0.15)\n",
    "w_x, w_y = zip(*[somvis.winner(d) for d in trainbinarynorm.values])\n",
    "\n",
    "for index, value in enumerate(cols):\n",
    "    col = int(np.mod(index, columns))\n",
    "    row = int(np.floor(index/columns))\n",
    "    ax = pl.subplot(gs[row, col])\n",
    "\n",
    "    target = train[value]\n",
    "\n",
    "    if value in continuous:\n",
    "        Z = np.zeros((shapesom, shapesom))\n",
    "\n",
    "        for i in np.arange(somvis._weights.shape[0]):\n",
    "            for j in np.arange(somvis._weights.shape[1]):\n",
    "                idx = [x == i and y == j for x, y in zip(w_x, w_y)]\n",
    "                Z[i,j] = np.mean(target[idx])\n",
    "\n",
    "        m = plt.pcolor(Z.transpose(), cmap='Greys')\n",
    "        ax.patch.set(hatch='..', edgecolor='red')\n",
    "        ax.set_facecolor('#ffffff')\n",
    "        #cbar = fig.colorbar(m, ax=ax, pad=0.03, orientation='horizontal')\n",
    "        divider = make_axes_locatable(ax)\n",
    "        cax = divider.append_axes(\"bottom\", size=\"5%\", pad=0.1)\n",
    "        plt.colorbar(m, cax=cax,orientation='horizontal')\n",
    "    elif value in discrete:\n",
    "        for i in np.arange(somvis._weights.shape[0]):\n",
    "            for j in np.arange(somvis._weights.shape[1]):\n",
    "                idx = [x == i and y == j for x, y in zip(w_x, w_y)]\n",
    "                tmp = target[idx]\n",
    "                if len(tmp) > 0:\n",
    "                    feature = tmp.value_counts().idxmax()\n",
    "                    patches = plt.plot([i + .5], [j + .5], color=plot_colors[feature],marker='s', markersize=18, linewidth = 0)\n",
    "        uniquevals = le[value].inverse_transform(np.unique(target))\n",
    "        h = [plt.plot([],[], color = plot_colors[i], linewidth=10, label = j)[0] for i,j in enumerate(uniquevals)]\n",
    "        ax.legend(handles=h, loc='lower left', title='', frameon = False, bbox_to_anchor=(0,-0.1), ncol = 4, handlelength = 1)\n",
    "\n",
    "    ax.set_xlabel('')\n",
    "    ax.set_ylabel('')\n",
    "    ax.set_yticklabels([])\n",
    "    ax.set_xticklabels([])\n",
    "    ax.set_yticks([])\n",
    "    ax.set_xticks([])\n",
    "\n",
    "    ax.set_title(value)\n",
    "\n",
    "plt.savefig('docout/sections/communication/Step2_ComponentPlanes_' + data + '.jpg',dpi=150, bbox_inches='tight', transparent=False, pad_inches=0)"
   ],
   "metadata": {
    "collapsed": false,
    "pycharm": {
     "name": "#%%\n"
    }
   }
  },
  {
   "cell_type": "code",
   "execution_count": null,
   "outputs": [],
   "source": [
    "explainers = dict.fromkeys(neighborhoods.keys())\n",
    "for region in neighborhoods.keys():\n",
    "    subgeneticneighborhood = pd.DataFrame(neighborhoods[region])\n",
    "    subgeneticneighborhood.columns = cols\n",
    "\n",
    "    predA = modelA.predict(subgeneticneighborhood.values).astype(str)\n",
    "    predB = modelB.predict(subgeneticneighborhood.values).astype(str)\n",
    "    difference = pd.Series(np.char.add(np.char.add(predA, '|'), predB))\n",
    "    clf = DecisionTreeClassifier(random_state=0, max_depth=4)\n",
    "    clf.fit(subgeneticneighborhood, difference)\n",
    "    explainers[region] = clf"
   ],
   "metadata": {
    "collapsed": false,
    "pycharm": {
     "name": "#%%\n"
    }
   }
  },
  {
   "cell_type": "code",
   "execution_count": null,
   "outputs": [],
   "source": [
    "subgeneticneighborhood = pd.DataFrame(neighborhoods[0])\n",
    "subgeneticneighborhood.columns = cols\n",
    "\n",
    "predA = modelA.predict(subgeneticneighborhood.values).astype(str)\n",
    "predB = modelB.predict(subgeneticneighborhood.values).astype(str)\n",
    "difference = pd.Series(np.char.add(np.char.add(predA, '|'), predB))"
   ],
   "metadata": {
    "collapsed": false,
    "pycharm": {
     "name": "#%%\n"
    }
   }
  },
  {
   "cell_type": "code",
   "execution_count": null,
   "outputs": [],
   "source": [
    "def flatten(l):\n",
    "    return [item for sublist in l for item in sublist]"
   ],
   "metadata": {
    "collapsed": false,
    "pycharm": {
     "name": "#%%\n"
    }
   }
  },
  {
   "cell_type": "code",
   "execution_count": null,
   "outputs": [],
   "source": [
    "somvislist = list()\n",
    "slidingtrainsomnormlist = list()\n",
    "targetlist = list()\n",
    "scalerswindow = list()\n",
    "shapesomregion = 15\n",
    "windowsize = 3\n",
    "ncluster = clusterarr.cluster.max()\n",
    "clusterassignmentfull = list()\n",
    "\n",
    "for currwindow in range(ncluster-2):\n",
    "    print('window: ', currwindow)\n",
    "\n",
    "    slidingtrainsom = pd.concat([pd.DataFrame(neighborhoods[x]) for x in range(currwindow, currwindow + windowsize)])\n",
    "    slidingtrainsom.columns = cols\n",
    "\n",
    "    target = np.concatenate([explainers[x].predict(neighborhoods[x]) for x in range(currwindow, currwindow + windowsize)])\n",
    "    targetlist.append(pd.Series(target))\n",
    "\n",
    "    clusterassignmentfull.append(flatten([[x]*len(neighborhoods[x]) for x in range(currwindow, currwindow + windowsize)]))\n",
    "\n",
    "\n",
    "    for feature in discrete_woclassname:\n",
    "        tmp = d[feature].transform(slidingtrainsom[feature].values.reshape(-1, 1)).toarray()\n",
    "        colnames = [feature + str(i) for i in range(tmp.shape[1])]\n",
    "        slidingtrainsom[colnames] = tmp\n",
    "        slidingtrainsom.drop(columns = feature, inplace = True)\n",
    "\n",
    "    scalerwindow = StandardScaler()\n",
    "    slidingtrainsom[continuous] = scalerwindow.fit_transform(slidingtrainsom[continuous])\n",
    "    scalerswindow.append(scalerwindow)\n",
    "    slidingtrainsomnormlist.append(slidingtrainsom)\n",
    "\n",
    "    somvisregion = minisom.MiniSom(shapesomregion, shapesomregion, slidingtrainsom.shape[1], sigma=2.0,\n",
    "                                   learning_rate=1.0, random_seed=0)\n",
    "    somvisregion.train(slidingtrainsom.values, 100000, verbose=False)\n",
    "    somvislist.append(somvisregion)"
   ],
   "metadata": {
    "collapsed": false,
    "pycharm": {
     "name": "#%%\n"
    }
   }
  },
  {
   "cell_type": "code",
   "execution_count": null,
   "outputs": [],
   "source": [
    "rows = 1\n",
    "columns = 5\n",
    "\n",
    "gs = gridspec.GridSpec(rows, columns)\n",
    "fig = plt.figure(figsize=(35, 7))\n",
    "gs.update(wspace=0.07)\n",
    "\n",
    "#color_dict[data]['No decision difference'] = color_dict[data]['0|0']\n",
    "#classes_dict[data]['No decision difference'] = 'No decision difference'\n",
    "\n",
    "collector_color = dict.fromkeys(color_dict[data].keys())\n",
    "collector_marker = dict.fromkeys(color_dict[data].keys())\n",
    "\n",
    "#plot of iterations training:\n",
    "for index in range(ncluster-2):\n",
    "    col = int(np.mod(index, columns))\n",
    "    row = int(np.floor(index/columns))\n",
    "    ax = pl.subplot(gs[row, col])\n",
    "\n",
    "    Z = np.zeros((shapesomregion, shapesomregion))\n",
    "    somvisregion = somvislist[index]\n",
    "    subgeneticneighborhoodbinary = slidingtrainsomnormlist[index]\n",
    "    target = targetlist[index]\n",
    "    #target[target.isin(['0|0', '1|1', '2|2'])] = 'No decision difference'\n",
    "\n",
    "    w_x, w_y = zip(*[somvisregion.winner(d) for d in subgeneticneighborhoodbinary.values])\n",
    "    for i in np.arange(somvisregion._weights.shape[0]):\n",
    "        for j in np.arange(somvisregion._weights.shape[1]):\n",
    "            idx = [x == i and y == j for x, y in zip(w_x, w_y)]\n",
    "            tmp = target[idx]\n",
    "            if len(tmp) > 0:\n",
    "                feature = tmp.value_counts().idxmax()\n",
    "                collector_color[feature] = plt.plot([i + .5], [j + .5], color=color_dict[data][feature][0],\n",
    "                                                    marker='s', markersize=19, linewidth = 0) #15\n",
    "                collector_marker[feature] = plt.plot([i + .5], [j + .5], marker=color_dict[data][feature][1][0],\n",
    "                                                     color=color_dict[data][feature][1][1], markersize=13, markerfacecolor = 'None',linewidth = 0) #10\n",
    "\n",
    "    plt.xlim([0, shapesomregion])\n",
    "    plt.ylim([0, shapesomregion])\n",
    "\n",
    "    plt.grid(color = '#ffffff')\n",
    "    ax.set_xlabel('')\n",
    "    ax.set_ylabel('')\n",
    "    ax.set_xticks(range(shapesomregion))\n",
    "    ax.set_yticks(range(shapesomregion))\n",
    "    ax.set_yticklabels([])\n",
    "    ax.set_xticklabels([])\n",
    "    ax.set_title('Clusters: ' + ', '.join([str(x) for x in range(index, index + windowsize)]))\n",
    "\n",
    "collector_color = {k: v for k, v in collector_color.items() if v is not None}\n",
    "collector_marker = {k: v for k, v in collector_marker.items() if v is not None}\n",
    "\n",
    "leg = fig.legend([(collector_color[j][0], collector_marker[j][0]) for j in collector_color.keys()],\n",
    "                 [classes_dict[data][j] for j in collector_color.keys()],\n",
    "                 title='Prediction explainer', frameon=False, ncol = 10, loc='lower left',bbox_to_anchor=(0.125, -0.05)\n",
    "                 )\n",
    "leg._legend_box.align = \"left\"\n",
    "plt.savefig('docout/sections/communication/Step2_' + data + '.jpg', dpi=150,bbox_inches='tight', transparent=False, pad_inches=0)"
   ],
   "metadata": {
    "collapsed": false,
    "pycharm": {
     "name": "#%%\n"
    }
   }
  },
  {
   "cell_type": "code",
   "execution_count": null,
   "outputs": [],
   "source": [
    "rows = 1\n",
    "columns = 5\n",
    "\n",
    "gs = gridspec.GridSpec(rows, columns)\n",
    "fig = plt.figure(figsize=(35, 7))\n",
    "gs.update(wspace=0.07)\n",
    "\n",
    "markers = [['o', 'black'], ['v', 'black'], ['^', 'white'],['s', 'black'], ['P', 'white'], ['D', 'black'],['_', 'black'], ['|', 'black'], ['1', 'black'], ['*', 'white']]\n",
    "\n",
    "\n",
    "collector_color = dict.fromkeys(color_dict[data].keys())\n",
    "collector_marker = dict.fromkeys(color_dict[data].keys())\n",
    "\n",
    "#plot of iterations training:\n",
    "for index in range(ncluster - 2):\n",
    "    col = int(np.mod(index, columns))\n",
    "    row = int(np.floor(index / columns))\n",
    "    ax = pl.subplot(gs[row, col])\n",
    "\n",
    "    Z = np.zeros((shapesomregion, shapesomregion))\n",
    "    somvisregion = somvislist[index]\n",
    "    subgeneticneighborhoodbinary = slidingtrainsomnormlist[index]\n",
    "    target = clusterassignmentfull[index]\n",
    "\n",
    "    w_x, w_y = zip(*[somvisregion.winner(d) for d in subgeneticneighborhoodbinary.values])\n",
    "    for i in np.arange(somvisregion._weights.shape[0]):\n",
    "        for j in np.arange(somvisregion._weights.shape[1]):\n",
    "            idx = [x == i and y == j for x, y in zip(w_x, w_y)]\n",
    "            tmp = pd.Series(target)[idx]\n",
    "            if len(tmp) > 0:\n",
    "                feature = tmp.value_counts().idxmax()\n",
    "                collector_color[feature] = plt.plot([i + .5], [j + .5], color=plot_colors[feature],\n",
    "                                                    marker='s', markersize=19, linewidth=0)  #15\n",
    "                collector_marker[feature] = plt.plot([i + .5], [j + .5], marker=markers[feature][0],\n",
    "                                                     color=markers[feature][1], markersize=13,\n",
    "                                                     markerfacecolor='None', linewidth=0)  #10\n",
    "\n",
    "    plt.xlim([0, shapesomregion])\n",
    "    plt.ylim([0, shapesomregion])\n",
    "\n",
    "    plt.grid(color='#ffffff')\n",
    "    ax.set_xlabel('')\n",
    "    ax.set_ylabel('')\n",
    "    ax.set_xticks(range(shapesomregion))\n",
    "    ax.set_yticks(range(shapesomregion))\n",
    "    ax.set_yticklabels([])\n",
    "    ax.set_xticklabels([])\n",
    "    ax.set_title('Clusters: ' + ', '.join([str(x) for x in range(index, index + windowsize)]))\n",
    "\n",
    "collector_color = {k: v for k, v in collector_color.items() if v is not None}\n",
    "collector_marker = {k: v for k, v in collector_marker.items() if v is not None}"
   ],
   "metadata": {
    "collapsed": false,
    "pycharm": {
     "name": "#%%\n"
    }
   }
  },
  {
   "cell_type": "code",
   "execution_count": null,
   "outputs": [],
   "source": [
    "\n",
    "leg = fig.legend([(collector_color[j][0], collector_marker[j][0]) for j in collector_color.keys()],\n",
    "                 [classes_dict[data][j] for j in collector_color.keys()],\n",
    "                 title='Prediction explainer', frameon=False, ncol=10, loc='lower left', bbox_to_anchor=(0.125, -0.05)\n",
    "                 )\n",
    "leg._legend_box.align = \"left\"\n",
    "plt.savefig('docout/sections/communication/Step2_cluster_' + data + '.jpg', dpi=150, bbox_inches='tight', transparent=False,\n",
    "            pad_inches=0)"
   ],
   "metadata": {
    "collapsed": false,
    "pycharm": {
     "name": "#%%\n"
    }
   }
  },
  {
   "cell_type": "code",
   "execution_count": null,
   "outputs": [],
   "source": [],
   "metadata": {
    "collapsed": false,
    "pycharm": {
     "name": "#%%\n"
    }
   }
  },
  {
   "cell_type": "code",
   "execution_count": null,
   "outputs": [],
   "source": [
    "clusterstrain = np.apply_along_axis(getclusterid, 1, trainbinarynorm.values, som=som, clusterarr=clusterarr)\n",
    "clusterstrain = clusterstrain.reshape((len(clusterstrain), 1))\n",
    "res = np.append(train[cols].values, clusterstrain, axis=1)\n",
    "targettrain = pd.Series(np.apply_along_axis(predict, 1, res, explainers).flatten())\n",
    "clusterstrain = pd.Series(clusterstrain.flatten())"
   ],
   "metadata": {
    "collapsed": false,
    "pycharm": {
     "name": "#%%\n"
    }
   }
  },
  {
   "cell_type": "code",
   "execution_count": null,
   "outputs": [],
   "source": [
    "rows = 1\n",
    "columns = 5\n",
    "\n",
    "gs = gridspec.GridSpec(rows, columns)\n",
    "fig = plt.figure(figsize=(35, 7))\n",
    "gs.update(wspace=0.07)\n",
    "\n",
    "collector_color = dict.fromkeys(color_dict[data].keys())\n",
    "collector_marker = dict.fromkeys(color_dict[data].keys())\n",
    "\n",
    "#plot of training data\n",
    "for index in range(ncluster-2):\n",
    "    col = int(np.mod(index, columns))\n",
    "    row = int(np.floor(index/columns))\n",
    "    ax = pl.subplot(gs[row, col])\n",
    "\n",
    "    Z = np.zeros((shapesomregion, shapesomregion))\n",
    "    somvisregion = somvislist[index]\n",
    "\n",
    "    subgeneticneighborhoodbinary = train.loc[clusterstrain.isin([x for x in range(currwindow, currwindow + windowsize)]), cols]\n",
    "\n",
    "    for feature in discrete_woclassname:\n",
    "        tmp = d[feature].transform(subgeneticneighborhoodbinary[feature].values.reshape(-1, 1)).toarray()\n",
    "        colnames = [feature + str(i) for i in range(tmp.shape[1])]\n",
    "        subgeneticneighborhoodbinary[colnames] = tmp\n",
    "        subgeneticneighborhoodbinary.drop(columns = feature, inplace = True)\n",
    "\n",
    "    subgeneticneighborhoodbinary[continuous] = scalerswindow[index].transform(subgeneticneighborhoodbinary[continuous])\n",
    "    target = targettrain[clusterstrain.isin([x for x in range(currwindow, currwindow + windowsize)])]\n",
    "\n",
    "    w_x, w_y = zip(*[somvisregion.winner(d) for d in subgeneticneighborhoodbinary.values])\n",
    "    for i in np.arange(somvisregion._weights.shape[0]):\n",
    "        for j in np.arange(somvisregion._weights.shape[1]):\n",
    "            idx = [x == i and y == j for x, y in zip(w_x, w_y)]\n",
    "            tmp = target[idx]\n",
    "            if len(tmp) > 0:\n",
    "                feature = tmp.value_counts().idxmax()\n",
    "                collector_color[feature] = plt.plot([i + .5], [j + .5], color=color_dict[data][feature][0],\n",
    "                                                    marker='s', markersize=19, linewidth = 0) #15\n",
    "                collector_marker[feature] = plt.plot([i + .5], [j + .5], marker=color_dict[data][feature][1][0],\n",
    "                                                     color=color_dict[data][feature][1][1], markersize=13, markerfacecolor = 'None',linewidth = 0) #10\n",
    "\n",
    "    plt.xlim([0, shapesomregion])\n",
    "    plt.ylim([0, shapesomregion])\n",
    "\n",
    "    plt.grid(color = '#ffffff')\n",
    "    ax.set_xlabel('')\n",
    "    ax.set_ylabel('')\n",
    "    ax.set_xticks(range(shapesomregion))\n",
    "    ax.set_yticks(range(shapesomregion))\n",
    "    ax.set_yticklabels([])\n",
    "    ax.set_xticklabels([])\n",
    "    ax.set_title('Clusters: ' + ', '.join([str(x) for x in range(index, index + windowsize)]))\n",
    "\n",
    "collector_color = {k: v for k, v in collector_color.items() if v is not None}\n",
    "collector_marker = {k: v for k, v in collector_marker.items() if v is not None}\n",
    "\n",
    "leg = fig.legend([(collector_color[j][0], collector_marker[j][0]) for j in collector_color.keys()],\n",
    "                 [classes_dict[data][j] for j in collector_color.keys()],\n",
    "                 title='Prediction explainer', frameon=False, ncol = 10, loc='lower left',bbox_to_anchor=(0.125, -0.05)\n",
    "                 )\n",
    "leg._legend_box.align = \"left\"\n",
    "plt.savefig('docout/sections/communication/Step2_train_' + data + '.jpg', dpi=150,bbox_inches='tight', transparent=False, pad_inches=0)"
   ],
   "metadata": {
    "collapsed": false,
    "pycharm": {
     "name": "#%%\n"
    }
   }
  },
  {
   "cell_type": "code",
   "execution_count": null,
   "outputs": [],
   "source": [],
   "metadata": {
    "collapsed": false,
    "pycharm": {
     "name": "#%%\n"
    }
   }
  }
 ],
 "metadata": {
  "kernelspec": {
   "display_name": "Python 3",
   "language": "python",
   "name": "python3"
  },
  "language_info": {
   "codemirror_mode": {
    "name": "ipython",
    "version": 2
   },
   "file_extension": ".py",
   "mimetype": "text/x-python",
   "name": "python",
   "nbconvert_exporter": "python",
   "pygments_lexer": "ipython2",
   "version": "2.7.6"
  }
 },
 "nbformat": 4,
 "nbformat_minor": 0
}