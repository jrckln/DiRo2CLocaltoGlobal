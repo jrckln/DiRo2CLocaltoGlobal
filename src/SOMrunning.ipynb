{
 "cells": [
  {
   "cell_type": "code",
   "execution_count": null,
   "outputs": [],
   "source": [
    "import pandas as pd\n",
    "import numpy as np\n",
    "import pickle\n",
    "from sklearn.preprocessing import StandardScaler, LabelEncoder\n",
    "import minisom\n",
    "from scipy.cluster.hierarchy import dendrogram, set_link_color_palette\n",
    "import matplotlib.pyplot as plt\n",
    "from diro2c.data_generation.neighborhood_generation import modified_gpdatagenerator\n",
    "from diro2c.data_generation.distance_functions import simple_match_distance, normalized_euclidean_distance, mixed_distance\n",
    "from diro2c.data_generation.helper import *\n",
    "from diro2c.enums.diff_classifier_method_type import diff_classifier_method_type\n",
    "from diro2c.data_generation.neighborhood_generation.gpdatagenerator import calculate_feature_values\n",
    "plt.style.use('ggplot')\n",
    "from data.getdata import loaddata, prepare_df\n",
    "from sklearn.tree import DecisionTreeClassifier\n",
    "from matplotlib import colors\n",
    "from sklearn import metrics\n",
    "import matplotlib.pylab as pl\n",
    "import matplotlib.gridspec as gridspec\n",
    "from sklearn.cluster import AgglomerativeClustering\n",
    "from matplotlib.legend import Legend\n",
    "\n",
    "def getclusterid(x, som, clusterarr):\n",
    "    #x ... normalized instance\n",
    "    bmu = getwinnerid(x, som)\n",
    "    c = clusterarr.loc[clusterarr.node == bmu, 'cluster']\n",
    "    return c\n",
    "\n",
    "def getwinnerid(x, som):\n",
    "    #x ... normalized instance\n",
    "    bmu = som.winner(x)[1]\n",
    "    return bmu\n",
    "\n",
    "def distance_function(x0, x1, discrete, continuous, class_name):\n",
    "    return mixed_distance(x0, x1, discrete, continuous, class_name,\n",
    "                          ddist=simple_match_distance,\n",
    "                          cdist=normalized_euclidean_distance)\n",
    "\n",
    "from vars import plot_colors, plot_contours, make_meshgrid, color_dict"
   ],
   "metadata": {
    "collapsed": false,
    "pycharm": {
     "name": "#%%\n"
    }
   }
  },
  {
   "cell_type": "code",
   "execution_count": null,
   "outputs": [],
   "source": [
    "performancefile = 'results/FromLocalToGlobalrunning.txt'"
   ],
   "metadata": {
    "collapsed": false,
    "pycharm": {
     "name": "#%%\n"
    }
   }
  },
  {
   "cell_type": "code",
   "execution_count": null,
   "outputs": [],
   "source": [
    "data = 'running1'\n",
    "train, cols = loaddata(data)\n",
    "modelA = pickle.load(open('blackboxes/' + data + 'A.sav', 'rb'))\n",
    "modelB = pickle.load(open('blackboxes/' + data + 'B.sav', 'rb'))\n",
    "train['yA'] = modelA.predict(train[['x1', 'x2']].values)\n",
    "train['yB'] = modelB.predict(train[['x1', 'x2']].values)\n",
    "train['difference'] = train.apply(lambda row: '%g' % row['yA'] + '|' + '%g' % row['yB'], axis=1)\n",
    "train.drop(columns=['yA', 'yB'], inplace=True)"
   ],
   "metadata": {
    "collapsed": false,
    "pycharm": {
     "name": "#%%\n"
    }
   }
  },
  {
   "cell_type": "code",
   "execution_count": null,
   "outputs": [],
   "source": [
    "trainsom = train[cols].copy()\n",
    "d = StandardScaler()\n",
    "scaler = d.fit(trainsom.values)\n",
    "trainsomnorm = scaler.transform(trainsom.values)\n",
    "trainsomnorm = trainsomnorm[~train.difference.isin(['0|0', '1|1', '2|2'])]\n",
    "trainsom = trainsom[~train.difference.isin(['0|0', '1|1', '2|2'])]"
   ],
   "metadata": {
    "collapsed": false,
    "pycharm": {
     "name": "#%%\n"
    }
   }
  },
  {
   "cell_type": "code",
   "execution_count": null,
   "outputs": [],
   "source": [
    "n_nodes = int(np.floor(5*np.sqrt(len(trainsom))))\n",
    "som = minisom.MiniSom(1, n_nodes, trainsom.shape[1], sigma=4, learning_rate=0.6, random_seed = 1)\n",
    "som.train(trainsomnorm, 100000, verbose = True)"
   ],
   "metadata": {
    "collapsed": false,
    "pycharm": {
     "name": "#%%\n"
    }
   }
  },
  {
   "cell_type": "code",
   "execution_count": null,
   "outputs": [],
   "source": [
    "pos = som.get_weights()[0]\n",
    "pos = scaler.inverse_transform(pos)"
   ],
   "metadata": {
    "collapsed": false,
    "pycharm": {
     "name": "#%%\n"
    }
   }
  },
  {
   "cell_type": "code",
   "execution_count": null,
   "outputs": [],
   "source": [
    "#plot of trained SOM\n",
    "fig = plt.figure(figsize=(10, 8))\n",
    "ax = fig.add_subplot(1, 1, 1)\n",
    "plt.subplots_adjust(hspace=0.5)\n",
    "\n",
    "ax.scatter(train.loc[~train.difference.isin(['0|0', '1|1', '2|2']), 'x1'],\n",
    "           train.loc[~train.difference.isin(['0|0', '1|1', '2|2']), 'x2'],\n",
    "           alpha=0.5,\n",
    "           color='black',\n",
    "           s=20)\n",
    "ax.scatter(train.loc[train.difference.isin(['0|0', '1|1', '2|2']), 'x1'],\n",
    "           train.loc[train.difference.isin(['0|0', '1|1', '2|2']), 'x2'],\n",
    "           alpha=0.1,\n",
    "           color='black',\n",
    "           s=20)\n",
    "plt.plot(pos[:, 0], pos[:, 1], linestyle='-', color='black')\n",
    "\n",
    "ax.set_facecolor('#FFFFFF')\n",
    "ax.set_xlabel('$x_1$')\n",
    "ax.set_ylabel('$x_2$')\n",
    "ax.grid(True, color='#F3F3F3')\n",
    "\n",
    "plt.savefig('docout/sections/localtoglobal/results/SOMtrained_' + data + '.jpg',dpi=150, bbox_inches='tight',transparent=True,pad_inches=0)"
   ],
   "metadata": {
    "collapsed": false,
    "pycharm": {
     "name": "#%%\n"
    }
   }
  },
  {
   "cell_type": "code",
   "execution_count": null,
   "outputs": [],
   "source": [
    "niterations = [0, 100, 500, 1000, 2000, 5000, 10000, 100000, 1000000]\n",
    "\n",
    "gs = gridspec.GridSpec(3, 3)\n",
    "fig = plt.figure(figsize=(12, 9))\n",
    "\n",
    "#plot of iterations training:\n",
    "for index, value in enumerate(niterations):\n",
    "    col = int(np.mod(index, 3))\n",
    "    row = int(np.floor(index/3))\n",
    "\n",
    "    som = minisom.MiniSom(1, n_nodes, trainsom.shape[1], sigma=5, learning_rate=0.1, random_seed = 0)\n",
    "    if value > 0:\n",
    "        som.train(trainsomnorm, value, verbose = False)\n",
    "    pos = som.get_weights()[0]\n",
    "    pos = scaler.inverse_transform(pos)\n",
    "\n",
    "    quantization = np.round(som.quantization_error(trainsomnorm), 2)\n",
    "    topographic = np.round(som.topographic_error(trainsomnorm), 2)\n",
    "\n",
    "    ax = pl.subplot(gs[row, col])\n",
    "    ax.scatter(train.x1, train.x2,\n",
    "               alpha=0.4,\n",
    "               color='black', s=3)\n",
    "    plt.plot(pos[:, 0], pos[:, 1], linestyle='-', color='black')\n",
    "\n",
    "    ax.set_facecolor('#FFFFFF')\n",
    "    ax.set_xlabel('$x_1$')\n",
    "    ax.set_ylabel('$x_2$')\n",
    "    ax.grid(True, color='#F3F3F3')\n",
    "\n",
    "    ax.set_title('iteration: ' + str(value) + '\\nquantization error: ' + str(quantization) +\n",
    "                 '\\ntopographic error: ' + str(topographic), fontsize = 10, loc = 'left')\n",
    "\n",
    "plt.subplots_adjust(wspace=0.25, hspace=0.7)"
   ],
   "metadata": {
    "collapsed": false,
    "pycharm": {
     "name": "#%%\n"
    }
   }
  },
  {
   "cell_type": "code",
   "execution_count": null,
   "outputs": [],
   "source": [
    "connectivity_matrix = np.zeros((n_nodes, n_nodes))\n",
    "for i in range(n_nodes-1):\n",
    "    connectivity_matrix[i,i+1] = 1.0"
   ],
   "metadata": {
    "collapsed": false,
    "pycharm": {
     "name": "#%%\n"
    }
   }
  },
  {
   "cell_type": "code",
   "execution_count": null,
   "outputs": [],
   "source": [
    "def plot_dendrogram(model, **kwargs):\n",
    "    #copied from official documentation: https://scikit-learn.org/stable/auto_examples/cluster/plot_agglomerative_dendrogram.html\n",
    "    # Create linkage matrix and then plot the dendrogram\n",
    "\n",
    "    # create the counts of samples under each node\n",
    "    counts = np.zeros(model.children_.shape[0])\n",
    "    n_samples = len(model.labels_)\n",
    "    for i, merge in enumerate(model.children_):\n",
    "        current_count = 0\n",
    "        for child_idx in merge:\n",
    "            if child_idx < n_samples:\n",
    "                current_count += 1  # leaf node\n",
    "            else:\n",
    "                current_count += counts[child_idx - n_samples]\n",
    "        counts[i] = current_count\n",
    "\n",
    "    linkage_matrix = np.column_stack(\n",
    "        [model.children_, model.distances_, counts]\n",
    "    ).astype(float)\n",
    "    # Plot the corresponding dendrogram\n",
    "    d = dendrogram(linkage_matrix, **kwargs)\n",
    "    return d"
   ],
   "metadata": {
    "collapsed": false,
    "pycharm": {
     "name": "#%%\n"
    }
   }
  },
  {
   "cell_type": "code",
   "execution_count": null,
   "outputs": [],
   "source": [
    "weights = som.get_weights()[0]\n",
    "model = AgglomerativeClustering(distance_threshold=0, n_clusters=None, linkage = 'single',\n",
    "                                connectivity=connectivity_matrix)\n",
    "model = model.fit(weights)"
   ],
   "metadata": {
    "collapsed": false,
    "pycharm": {
     "name": "#%%\n"
    }
   }
  },
  {
   "cell_type": "code",
   "execution_count": null,
   "outputs": [],
   "source": [
    "fig = plt.figure(figsize=(10, 8))\n",
    "ax = fig.add_subplot(1, 1, 1)\n",
    "plt.subplots_adjust(hspace=0.5)\n",
    "set_link_color_palette(plot_colors)\n",
    "threshold = 0.25#0.225 #0.25\n",
    "den = plot_dendrogram(model, no_labels=True, color_threshold=threshold, above_threshold_color='k')\n",
    "ax.set_facecolor('#FFFFFF')\n",
    "ax.axhline(y=threshold, c = 'black', linestyle = 'dotted')\n",
    "#plt.savefig('docout/sections/localtoglobal/results/approach4_Dendrogram_SOMNodes_' + data + '.jpg',dpi=150, bbox_inches='tight',transparent=True,pad_inches=0)"
   ],
   "metadata": {
    "collapsed": false,
    "pycharm": {
     "name": "#%%\n"
    }
   }
  },
  {
   "cell_type": "code",
   "execution_count": null,
   "outputs": [],
   "source": [
    "ward = AgglomerativeClustering(connectivity=connectivity_matrix, linkage=\"single\",\n",
    "                               distance_threshold=threshold, n_clusters=None).fit(weights)\n",
    "label = ward.labels_\n",
    "clusterarr = pd.DataFrame({'node': range(n_nodes), 'cluster': label})\n",
    "clusterarr['cluster'] = pd.factorize(clusterarr.cluster)[0]\n",
    "ncluster = len(np.unique(label))\n",
    "print(ncluster)"
   ],
   "metadata": {
    "collapsed": false,
    "pycharm": {
     "name": "#%%\n"
    }
   }
  },
  {
   "cell_type": "code",
   "execution_count": null,
   "outputs": [],
   "source": [
    "#determine cluster ID for each instance of the training set:\n",
    "clusterwinnerspos = np.apply_along_axis(getclusterid, 1, som.get_weights()[0], som, clusterarr)\n",
    "clusterwinners = np.apply_along_axis(getclusterid, 1, trainsomnorm, som, clusterarr)\n",
    "nodeswinners = np.apply_along_axis(getwinnerid, 1, trainsomnorm, som)"
   ],
   "metadata": {
    "collapsed": false,
    "pycharm": {
     "name": "#%%\n"
    }
   }
  },
  {
   "cell_type": "code",
   "execution_count": null,
   "outputs": [],
   "source": [
    "clusterdendrogram = [clusterwinnerspos[x, 0] for x in den['leaves']]\n",
    "clustercolor = [[x, y] for x, y in zip(clusterdendrogram, den['leaves_color_list'])]\n",
    "clustercolor = np.unique(clustercolor, axis=0)\n",
    "clustercolor = clustercolor[clustercolor[:, 0].astype(int).argsort()]\n",
    "alreadyused = clustercolor[~(clustercolor[:, 1] == 'k'), 1]\n",
    "available = [x for x in plot_colors if x not in alreadyused]\n",
    "clustercolor[clustercolor[:, 1] == 'k', 1] = available[:(ncluster - len(alreadyused))]\n",
    "clustercolor = pd.DataFrame(clustercolor, columns=['cluster', 'color'])"
   ],
   "metadata": {
    "collapsed": false,
    "pycharm": {
     "name": "#%%\n"
    }
   }
  },
  {
   "cell_type": "code",
   "execution_count": null,
   "outputs": [],
   "source": [
    "clusterswithoutdata = [x for x in range(ncluster) if x not in list(np.unique(clusterwinners))]\n",
    "nodesofclusterwithoutdata = clusterarr.loc[clusterarr.cluster.isin(clusterswithoutdata), 'node'].tolist()"
   ],
   "metadata": {
    "collapsed": false,
    "pycharm": {
     "name": "#%%\n"
    }
   }
  },
  {
   "cell_type": "code",
   "execution_count": null,
   "outputs": [],
   "source": [
    "#for each cluster, for each node determine nearest node in cluster with data:\n",
    "for node in nodesofclusterwithoutdata:\n",
    "    weightnode = weights[node]\n",
    "    nextnode = node\n",
    "    i = 1\n",
    "    while nextnode in nodesofclusterwithoutdata:\n",
    "        map = som._activation_distance(weightnode, som._weights)[0, [node-i, node+i]].argsort()\n",
    "        nextnode = node + i if map[0]>0 else node - i\n",
    "        i = i+1\n",
    "    oldcluster = clusterarr.loc[clusterarr.node == node, 'cluster'].item()\n",
    "    newcluster = clusterarr.loc[clusterarr.node == nextnode, 'cluster'].item()\n",
    "    clusterarr.loc[clusterarr.node == node, 'cluster'] = newcluster\n",
    "    clustercolor.loc[clustercolor.cluster == str(oldcluster), 'color'] = clustercolor.loc[\n",
    "        clustercolor.cluster == str(newcluster), 'color'].item()"
   ],
   "metadata": {
    "collapsed": false,
    "pycharm": {
     "name": "#%%\n"
    }
   }
  },
  {
   "cell_type": "code",
   "execution_count": null,
   "outputs": [],
   "source": [
    "#determine cluster ID for each instance of the training set:\n",
    "clusterwinnerspos = np.apply_along_axis(getclusterid, 1, som.get_weights()[0], som, clusterarr)\n",
    "clusterwinners = np.apply_along_axis(getclusterid, 1, trainsomnorm, som, clusterarr)\n",
    "nodeswinners = np.apply_along_axis(getwinnerid, 1, trainsomnorm, som)"
   ],
   "metadata": {
    "collapsed": false,
    "pycharm": {
     "name": "#%%\n"
    }
   }
  },
  {
   "cell_type": "code",
   "execution_count": null,
   "outputs": [],
   "source": [
    "fig = plt.figure(figsize=(10, 8))\n",
    "ax = fig.add_subplot(1, 1, 1)\n",
    "plt.subplots_adjust(hspace=0.5)\n",
    "\n",
    "markers = [['.', 'black'], ['<', 'black'], ['^', 'black'],['s', 'black'], ['X', 'white'],['>', 'black'], ['D', 'black'],['_', 'black'], ['v', 'black'], ['1', 'black'], ['*', 'white'], ['|', 'black'], ['3', 'black']]\n",
    "\n",
    "plt.plot(pos[:, 0], pos[:, 1], linestyle='-', color='black', alpha = 0.5)\n",
    "for index, (i,col) in clustercolor.iterrows():\n",
    "    i = int(i)\n",
    "    ind = (clusterwinners == i).flatten()\n",
    "    ax.scatter(trainsom[ind].x1, trainsom[ind].x2, c=col, label = col, s=30, marker = markers[i][0])\n",
    "    ind = (clusterwinnerspos == i).flatten()\n",
    "    ax.scatter(pos[ind][:,0], pos[ind][:,1], c=col, label = col, s=90, marker = markers[i][0])\n",
    "\n",
    "ax.scatter(train.loc[train.difference.isin(['0|0', '1|1', '2|2']), 'x1'],\n",
    "           train.loc[train.difference.isin(['0|0', '1|1', '2|2']), 'x2'],\n",
    "           alpha=0.1,\n",
    "           color='black',\n",
    "           s=10)\n",
    "\n",
    "ax.set_facecolor('#FFFFFF')\n",
    "ax.set_xlabel('$x_1$')\n",
    "ax.set_ylabel('$x_2$')\n",
    "ax.grid(True, color = '#F3F3F3')\n",
    "\n",
    "plt.savefig('docout/sections/localtoglobal/results/approach4_SOMclustered_' + data + '.jpg',dpi=150, bbox_inches='tight',transparent=True,pad_inches=0)"
   ],
   "metadata": {
    "collapsed": false,
    "pycharm": {
     "name": "#%%\n"
    }
   }
  },
  {
   "cell_type": "code",
   "execution_count": null,
   "outputs": [],
   "source": [
    "#build a tree (explainer) for each node:\n",
    "#prep for diroc\n",
    "train['difference'] = train['difference'].astype(str)\n",
    "dataset = prepare_df(train, 'train', 'difference', discrete=['difference'], continuous=cols)\n",
    "features = dataset['columns'].copy()\n",
    "features.remove('difference')\n",
    "X = np.array(train[features])\n",
    "feature_values = calculate_feature_values(\n",
    "    X, dataset['columns'], 'difference', dataset['discrete'], dataset['continuous'], len(train)\n",
    ")\n",
    "discrete_no_class = list(dataset['discrete'])\n",
    "discrete_no_class.remove('difference')\n",
    "\n",
    "neighborhoods = dict()\n",
    "explainers = dict.fromkeys(list(range(ncluster)))\n",
    "prunedexplainers = dict.fromkeys(list(range(ncluster)))\n",
    "\n",
    "clusterassignment = np.apply_along_axis(getclusterid, 1, trainsomnorm, som, clusterarr)\n",
    "clusterassignment = clusterassignment.flatten()\n",
    "\n",
    "traindifferences = train.loc[~train.difference.isin(['0|0', '1|1', '2|2'])]\n",
    "\n",
    "indexinstances = []\n",
    "\n",
    "nodeswithoutdata = [x for x in range(n_nodes) if x not in list(np.unique(nodeswinners))]\n",
    "subclusterarr = clusterarr.loc[~clusterarr.node.isin(nodeswithoutdata)]\n",
    "\n",
    "for clusterid in np.unique(clusterassignment):\n",
    "    print('processing cluster ' + str(clusterid))\n",
    "    if len(subclusterarr.loc[subclusterarr.cluster==clusterid])>4:\n",
    "        start = subclusterarr.loc[subclusterarr.cluster == clusterid,'node'].min()\n",
    "        end = subclusterarr.loc[subclusterarr.cluster == clusterid,'node'].max()\n",
    "        middle = int(subclusterarr.loc[subclusterarr.cluster == clusterid,'node'].median())\n",
    "        nodes = [start, end, middle]\n",
    "    elif len(subclusterarr.loc[subclusterarr.cluster==clusterid])>2:\n",
    "        start = subclusterarr.loc[subclusterarr.cluster == clusterid,'node'].min()\n",
    "        end = subclusterarr.loc[subclusterarr.cluster == clusterid,'node'].max()\n",
    "        nodes = [start, end]\n",
    "    else:\n",
    "        nodes = list(subclusterarr.loc[subclusterarr.cluster == clusterid,'node'].sample(n=1, random_state = clusterid))\n",
    "\n",
    "    Z3 = np.empty((0, 2))\n",
    "\n",
    "    for x in nodes:\n",
    "        indx = (nodeswinners == x)\n",
    "        if indx.sum() >0:\n",
    "            instance = traindifferences.loc[indx].sample(n=1, random_state=clusterid+3)\n",
    "            instanceindex = instance.index[0]\n",
    "            indexinstances.append(instanceindex)\n",
    "            instance = instance.values.reshape(-1, )[:-1]\n",
    "            Z = modified_gpdatagenerator.generate_modified_data(instance, feature_values, modelA, modelB,\n",
    "                                                                diff_classifier_method_type.multiclass_diff_classifier,\n",
    "                                                                discrete_no_class, dataset['continuous'], 'difference',\n",
    "                                                                dataset['idx_features'],\n",
    "                                                                distance_function, neigtype={'ss': 0.5, 'sd': 0.5},\n",
    "                                                                population_size=1000, halloffame_ratio=None,\n",
    "                                                                alpha1=0.5, alpha2=0.5, eta1=1, eta2=0.0,\n",
    "                                                                tournsize=10, cxpb=0.2, mutpb=0.2, ngen=100,\n",
    "                                                                return_logbook=False, max_steps=20, is_unique=True)\n",
    "            Z3 = np.concatenate([Z3, Z])\n",
    "\n",
    "            #restrict neighborhood to current cluster\n",
    "            Z3df = pd.DataFrame(Z3, columns = cols)\n",
    "            Z3df = scaler.transform(Z3df.values)\n",
    "            neighborhoodwinners = np.apply_along_axis(getclusterid, 1, Z3df, som, clusterarr)\n",
    "            ind = (neighborhoodwinners == clusterid).flatten()\n",
    "            Z3 = Z3[ind]\n",
    "    neighborhoods[clusterid] = Z3\n",
    "    predA = modelA.predict(Z3).astype(str)\n",
    "    predB = modelB.predict(Z3).astype(str)\n",
    "    difference = pd.Series(np.char.add(np.char.add(predA, '|'), predB))\n",
    "    clf = DecisionTreeClassifier(random_state=0)\n",
    "    clf.fit(Z3, difference)\n",
    "    explainers[clusterid] = clf\n",
    "    print('finished processing cluster ' + str(clusterid))"
   ],
   "metadata": {
    "collapsed": false,
    "pycharm": {
     "name": "#%%\n"
    }
   }
  },
  {
   "cell_type": "code",
   "execution_count": null,
   "outputs": [],
   "source": [
    "with open('Approach2Explainer_' + data + '.pickle', 'wb') as handle:\n",
    "    pickle.dump(explainers, handle, protocol=pickle.HIGHEST_PROTOCOL)\n",
    "with open('Approach2Neighborhood_' + data + '.pickle', 'wb') as handle:\n",
    "    pickle.dump(neighborhoods, handle, protocol=pickle.HIGHEST_PROTOCOL)"
   ],
   "metadata": {
    "collapsed": false,
    "pycharm": {
     "name": "#%%\n"
    }
   }
  },
  {
   "cell_type": "code",
   "execution_count": null,
   "outputs": [],
   "source": [
    "with open('Approach2Explainer_' + data + '.pickle', 'rb') as handle:\n",
    "    explainers = pickle.load(handle)\n",
    "with open('Approach2Neighborhood_' + data + '.pickle', 'rb') as handle:\n",
    "    neighborhoods = pickle.load(handle)"
   ],
   "metadata": {
    "collapsed": false,
    "pycharm": {
     "name": "#%%\n"
    }
   }
  },
  {
   "cell_type": "code",
   "execution_count": null,
   "outputs": [],
   "source": [
    "choseninstances = train.iloc[indexinstances]\n",
    "\n",
    "X0, X1 = train.x1, train.x2\n",
    "xx, yy = make_meshgrid(X0, X1, h = 0.005)\n",
    "\n",
    "grid = np.c_[xx.ravel(), yy.ravel()]\n",
    "grid = scaler.transform(grid)\n",
    "\n",
    "z = np.apply_along_axis(getclusterid, 1, grid, som, clusterarr)\n",
    "z = z.reshape(xx.shape)\n",
    "z = z+0.5"
   ],
   "metadata": {
    "collapsed": false,
    "pycharm": {
     "name": "#%%\n"
    }
   }
  },
  {
   "cell_type": "code",
   "execution_count": null,
   "outputs": [],
   "source": [
    "#plot of chosen instances\n",
    "fig = plt.figure(figsize=(10, 8))\n",
    "ax = fig.add_subplot(1, 1, 1)\n",
    "plt.subplots_adjust(hspace=0.5)\n",
    "\n",
    "collist = list(clustercolor.color)\n",
    "MyCmap=colors.ListedColormap(collist)\n",
    "cf = ax.contourf(xx,yy,z, alpha = 0.8, cmap=MyCmap, levels = list(range(ncluster+1)))\n",
    "\n",
    "choseninstancesnorm = scaler.transform(choseninstances[cols])\n",
    "choseninstancesclusters = np.apply_along_axis(getclusterid, 1, choseninstancesnorm, som, clusterarr)\n",
    "\n",
    "for index, (i,col) in clustercolor.iterrows():\n",
    "    idx = choseninstancesclusters == int(i)\n",
    "    ax.scatter(choseninstances.loc[idx].x1, choseninstances.loc[idx].x2,\n",
    "               color=col,s=150, marker = 'X',edgecolor = 'black')\n",
    "    ind = (clusterwinnerspos == int(i)).flatten()\n",
    "    ax.scatter(pos[ind][:,0], pos[ind][:,1], c=col, label = col, s=50, edgecolor = 'black')\n",
    "plt.plot(pos[:, 0], pos[:, 1], linestyle='-', color='black', linewidth= 1)\n",
    "\n",
    "ax.set_facecolor('#FFFFFF')\n",
    "ax.set_xlabel('$x_1$')\n",
    "ax.set_ylabel('$x_2$')\n",
    "ax.grid(True, color='#F3F3F3')\n",
    "\n",
    "plt.savefig('docout/sections/localtoglobal/results/approach4_SOMregionsexplainer_' + data + '.jpg',dpi=150, bbox_inches='tight',transparent=True,pad_inches=0)"
   ],
   "metadata": {
    "collapsed": false,
    "pycharm": {
     "name": "#%%\n"
    }
   }
  },
  {
   "cell_type": "code",
   "execution_count": null,
   "outputs": [],
   "source": [
    "#load test data:\n",
    "test, cols = loaddata(data+'test')\n",
    "test['yA'] = modelA.predict(test[cols].values)\n",
    "test['yB'] = modelB.predict(test[cols].values)\n",
    "test['difference'] = test.apply(lambda row: '%g' % row['yA'] + '|' + '%g' % row['yB'], axis=1)\n",
    "test.drop(columns=['yA', 'yB'], inplace=True)\n",
    "#transform test data:\n",
    "testnorm = scaler.transform(test[cols].values)"
   ],
   "metadata": {
    "collapsed": false,
    "pycharm": {
     "name": "#%%\n"
    }
   }
  },
  {
   "cell_type": "code",
   "execution_count": null,
   "outputs": [],
   "source": [
    "#predictions for each node\n",
    "winners = np.apply_along_axis(getclusterid, 1, testnorm, som, clusterarr)\n",
    "pred = winners.copy().astype(str)\n",
    "for currwinner in np.unique(winners):\n",
    "    idx = winners == currwinner\n",
    "    pred[idx] = explainers[currwinner].predict(test.loc[idx, cols].values)"
   ],
   "metadata": {
    "collapsed": false,
    "pycharm": {
     "name": "#%%\n"
    }
   }
  },
  {
   "cell_type": "code",
   "execution_count": null,
   "outputs": [],
   "source": [
    "#Evaluation:\n",
    "if data == 'running1':\n",
    "    dataname = '\"Sine\"'\n",
    "else:\n",
    "    dataname = '\"Spiral\"'\n",
    "\n",
    "\n",
    "depths = [x.get_depth() for x in explainers.values() if x is not None]\n",
    "leaves = [x.get_n_leaves() for x in explainers.values() if x is not None]\n",
    "with open(performancefile, 'a') as myfile:\n",
    "    line = ' '.join([dataname,\n",
    "                     '\"Approach 4: Structured sampling\"',\n",
    "                     str(np.round(np.mean(depths), 3)),\n",
    "                     str(np.round(np.mean(leaves), 3)),\n",
    "                     str(metrics.accuracy_score(test.difference, pred)),\n",
    "                     str(metrics.precision_score(test.difference, pred, average='macro')),\n",
    "                     str(metrics.recall_score(test.difference, pred, average='macro'))\n",
    "                     ])\n",
    "    myfile.write(line + '\\n')"
   ],
   "metadata": {
    "collapsed": false,
    "pycharm": {
     "name": "#%%\n"
    }
   }
  },
  {
   "cell_type": "code",
   "execution_count": null,
   "outputs": [],
   "source": [
    "neighborhoodsdf = pd.concat(\n",
    "    [pd.DataFrame(v) for v in neighborhoods.values()], axis = 0)\n",
    "shapes = [v.shape[0] for v in neighborhoods.values()]\n",
    "tuples = [(k,i) for shape,k in zip(shapes, neighborhoods.keys()) for i in range(shape)]\n",
    "neighborhoodsdf.index = pd.MultiIndex.from_tuples(tuples)\n",
    "neighborhoodsdf.columns = ['x1', 'x2']"
   ],
   "metadata": {
    "collapsed": false,
    "pycharm": {
     "name": "#%%\n"
    }
   }
  },
  {
   "cell_type": "code",
   "execution_count": null,
   "outputs": [],
   "source": [
    "fig, ax = plt.subplots(figsize=(10, 8))\n",
    "\n",
    "plt.xlabel('$x_1$')\n",
    "plt.ylabel('$x_2$')\n",
    "\n",
    "X0, X1 = train.x1, train.x2\n",
    "xx, yy = make_meshgrid(X0, X1, h=0.005)\n",
    "\n",
    "z1 = modelA.predict(np.c_[xx.ravel(), yy.ravel()])\n",
    "z1 = z1.reshape(xx.shape)\n",
    "z2 = modelB.predict(np.c_[xx.ravel(), yy.ravel()])\n",
    "z2 = z2.reshape(xx.shape)\n",
    "\n",
    "cntr1 = plot_contours(ax, modelA, xx, yy, levels=1, colors='black', linewidths=2, linestyles='dotted')\n",
    "cntr2 = plot_contours(ax, modelB, xx, yy, levels=1, colors='black', linewidths=1)\n",
    "\n",
    "h = [plt.plot([], [], ls=i, color='black')[0] for i in ['dotted', 'solid']]\n",
    "ax.legend(handles=h, labels=['Decision Boundary $M_A$', 'Decision Boundary $M_B$'],\n",
    "          loc='lower left', title='', frameon=False, bbox_to_anchor=(0, -0.1), ncol=2)\n",
    "\n",
    "#add generated neighborhoods:\n",
    "ax.scatter(neighborhoodsdf.x1, neighborhoodsdf.x2, c='black', alpha=0.3, s=10)\n",
    "\n",
    "#add selected instances\n",
    "choseninstances = train.iloc[indexinstances]\n",
    "ax.scatter(choseninstances.x1, choseninstances.x2, c='#D90429', s=150, marker='X')\n",
    "\n",
    "ax.set_facecolor('#FFFFFF')\n",
    "plt.tight_layout()\n",
    "plt.grid(True, color='#F3F3F3')\n",
    "\n",
    "ax.set_xlim(train.x1.min(), train.x1.max())\n",
    "ax.set_ylim(train.x2.min(), train.x2.max())\n",
    "\n",
    "plt.savefig('docout/sections/localtoglobal/results/approach4_Generatedneighborhoods_' + data + '.jpg',dpi=150, bbox_inches='tight',transparent=True,pad_inches=0)"
   ],
   "metadata": {
    "collapsed": false,
    "pycharm": {
     "name": "#%%\n"
    }
   }
  },
  {
   "cell_type": "code",
   "execution_count": null,
   "outputs": [],
   "source": [
    "def predict(x, explainers):\n",
    "    winner = x[-1]\n",
    "    x = x[:-1]\n",
    "    mod = explainers[winner]\n",
    "    return mod.predict(x.reshape(1, -1))"
   ],
   "metadata": {
    "collapsed": false,
    "pycharm": {
     "name": "#%%\n"
    }
   }
  },
  {
   "cell_type": "code",
   "execution_count": null,
   "outputs": [],
   "source": [
    "X0, X1 = train.x1, train.x2\n",
    "xx, yy = make_meshgrid(X0, X1, h=0.05)\n",
    "grid = np.c_[xx.ravel(), yy.ravel()]\n",
    "gridtransformed = scaler.transform(grid)\n",
    "winners = np.apply_along_axis(getclusterid, 1, gridtransformed, som, clusterarr)\n",
    "winners = winners.reshape((len(winners), 1))\n",
    "res = np.append(grid, winners, axis=1)\n",
    "predgrid = np.apply_along_axis(predict, 1, res, explainers)"
   ],
   "metadata": {
    "collapsed": false,
    "pycharm": {
     "name": "#%%\n"
    }
   }
  },
  {
   "cell_type": "code",
   "execution_count": null,
   "outputs": [],
   "source": [
    "d=LabelEncoder()\n",
    "d.fit(np.array([x for x in color_dict[data].keys()]))\n",
    "z = d.transform(predgrid)\n",
    "z = z.reshape(xx.shape)\n",
    "\n",
    "ordering = [x for x in color_dict[data].keys()]\n",
    "keys = list(ordering)\n",
    "ordering.sort()\n",
    "ordering = [keys.index(x) for x in ordering]\n",
    "\n",
    "values = [x[0] for x in color_dict[data].values()]\n",
    "orderedmap = [values[i] for i in ordering]"
   ],
   "metadata": {
    "collapsed": false,
    "pycharm": {
     "name": "#%%\n"
    }
   }
  },
  {
   "cell_type": "code",
   "execution_count": null,
   "outputs": [],
   "source": [
    "MyCmap=colors.ListedColormap(orderedmap)\n",
    "fig, ax = plt.subplots(figsize = (10,8))\n",
    "\n",
    "cntr1 = plot_contours(ax, modelA, xx, yy, levels = 1,colors = 'black',linewidths = 2, linestyles = 'dotted')\n",
    "cntr2 = plot_contours(ax, modelB, xx, yy, levels = 1, colors = 'black',linewidths = 1)\n",
    "\n",
    "cp = ax.contourf(xx, yy, z+0.1, alpha = 0.7, cmap=MyCmap)\n",
    "\n",
    "h = [plt.plot([],[], color = i[0], linewidth=10, label = j)[0] for j,i in color_dict[data].items()]\n",
    "ax.legend(handles=h, loc='lower left', title='Prediction Explainer', frameon = False, bbox_to_anchor=(0,-0.15), ncol = 9)\n",
    "\n",
    "ax.set_facecolor('#FFFFFF')\n",
    "ax.set_xlabel('$x_1$')\n",
    "ax.set_ylabel('$x_2$')\n",
    "ax.grid(True, color = '#F3F3F3')\n",
    "\n",
    "ax.set_ylim(train.x2.min(), train.x2.max())\n",
    "ax.set_xlim(train.x1.min(), train.x1.max())\n",
    "\n",
    "plt.tight_layout()\n",
    "plt.savefig('docout/sections/localtoglobal/results/approach4_decisionsurface_' + data + '.jpg',dpi=150, bbox_inches='tight',transparent=True,pad_inches=0)"
   ],
   "metadata": {
    "collapsed": false,
    "pycharm": {
     "name": "#%%\n"
    }
   }
  },
  {
   "cell_type": "code",
   "execution_count": null,
   "outputs": [],
   "source": [
    "from matplotlib.colors import to_rgb\n",
    "from sklearn.tree import plot_tree\n",
    "import matplotlib\n",
    "import re\n",
    "import pyperclip\n",
    "\n",
    "\n",
    "def replace_text(obj):\n",
    "    if type(obj) == matplotlib.text.Annotation:\n",
    "        txt = obj.get_text()\n",
    "        txt = re.sub(\"samples[^$]*class\", \"class\", txt)\n",
    "        obj.set_text(txt)\n",
    "    return obj"
   ],
   "metadata": {
    "collapsed": false,
    "pycharm": {
     "name": "#%%\n"
    }
   }
  },
  {
   "cell_type": "code",
   "execution_count": null,
   "outputs": [],
   "source": [
    "region = 0\n",
    "fig, ax = plt.subplots(figsize=(25, 9))\n",
    "class_names = explainers[region].classes_\n",
    "colorss = [color_dict[data][x][0] for x in class_names]\n",
    "N = len(class_names)\n",
    "artists = plot_tree(explainers[region], fontsize=8, ax=ax,\n",
    "                    impurity=False, node_ids=True,\n",
    "                    feature_names=cols, class_names=class_names)\n",
    "ax.properties()['children'] = [replace_text(i) for i in ax.properties()['children']]\n",
    "for artist, impurity, value in zip(artists, explainers[region].tree_.impurity, explainers[region].tree_.value):\n",
    "    # let the max value decide the color; whiten the color depending on impurity (gini)\n",
    "    r, g, b = to_rgb(colorss[np.argmax(value)])\n",
    "    f = impurity * N / (N - 1) if N > 1 else 0\n",
    "    artist.get_bbox_patch().set_facecolor((f + (1 - f) * r, f + (1 - f) * g, f + (1 - f) * b))\n",
    "    artist.get_bbox_patch().set_edgecolor('black')\n",
    "plt.savefig('docout/sections/localtoglobal/results/Approach4_region0_' + data + '_explainer.jpg', dpi=300, bbox_inches='tight',\n",
    "            transparent=True, pad_inches=0)"
   ],
   "metadata": {
    "collapsed": false,
    "pycharm": {
     "name": "#%%\n"
    }
   }
  },
  {
   "cell_type": "code",
   "execution_count": null,
   "outputs": [],
   "source": [
    "from vars import get_rules"
   ],
   "metadata": {
    "collapsed": false,
    "pycharm": {
     "name": "#%%\n"
    }
   }
  },
  {
   "cell_type": "code",
   "execution_count": null,
   "outputs": [],
   "source": [
    "rules = get_rules(explainers[0], ['x_1', 'x_2'], class_names)\n",
    "rules = '\\n'.join(rules)\n",
    "pyperclip.copy(rules)"
   ],
   "metadata": {
    "collapsed": false,
    "pycharm": {
     "name": "#%%\n"
    }
   }
  }
 ],
 "metadata": {
  "kernelspec": {
   "display_name": "Python 3",
   "language": "python",
   "name": "python3"
  },
  "language_info": {
   "codemirror_mode": {
    "name": "ipython",
    "version": 2
   },
   "file_extension": ".py",
   "mimetype": "text/x-python",
   "name": "python",
   "nbconvert_exporter": "python",
   "pygments_lexer": "ipython2",
   "version": "2.7.6"
  }
 },
 "nbformat": 4,
 "nbformat_minor": 0
}