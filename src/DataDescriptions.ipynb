{
 "cells": [
  {
   "cell_type": "code",
   "execution_count": null,
   "outputs": [],
   "source": [
    "import pandas as pd\n",
    "import numpy as np\n",
    "import matplotlib.pylab as pl\n",
    "import matplotlib.gridspec as gridspec\n",
    "from data.getdata import loaddata\n",
    "from data.split3fold import split3fold\n",
    "import pickle\n",
    "import matplotlib.pyplot as plt\n",
    "from matplotlib import colors\n",
    "from matplotlib.legend import Legend\n",
    "plt.style.use('ggplot')\n",
    "\n",
    "from vars import color_dict, make_meshgrid, plot_contours"
   ],
   "metadata": {
    "collapsed": false,
    "pycharm": {
     "name": "#%%\n"
    }
   }
  },
  {
   "cell_type": "markdown",
   "source": [
    "### Running example 1"
   ],
   "metadata": {
    "collapsed": false,
    "pycharm": {
     "name": "#%% md\n"
    }
   }
  },
  {
   "cell_type": "code",
   "execution_count": null,
   "outputs": [],
   "source": [
    "data = 'running1'\n",
    "train, cols = loaddata(data)\n",
    "modelA = pickle.load(open('blackboxes/' + data + 'A.sav', 'rb'))\n",
    "modelB = pickle.load(open('blackboxes/' + data + 'B.sav', 'rb'))\n",
    "train['yA'] = modelA.predict(train[['x1', 'x2']].values)\n",
    "train['yB'] = modelB.predict(train[['x1', 'x2']].values)\n",
    "train['difference'] = train.apply(lambda row: '%g' % row['yA'] + '|' + '%g' % row['yB'], axis=1)"
   ],
   "metadata": {
    "collapsed": false,
    "pycharm": {
     "name": "#%%\n"
    }
   }
  },
  {
   "cell_type": "code",
   "execution_count": null,
   "outputs": [],
   "source": [
    "plt.figure(figsize=(10, 8))\n",
    "plt.xlabel('$x_1$')\n",
    "plt.ylabel('$x_2$')\n",
    "for i, (color, marker) in color_dict['running1'].items():\n",
    "    idx = np.where(train.difference == i)\n",
    "    plt.scatter(train.iloc[idx].x1, train.iloc[idx].x2,\n",
    "                c=color, s=10, label = i, marker=marker[0])\n",
    "ax = plt.gca()\n",
    "lgnd = ax.legend(title = '$M_A$ | $M_B$', frameon = False)\n",
    "\n",
    "for handle in lgnd.legendHandles:\n",
    "    handle.set_sizes([50.0])\n",
    "ax.set_facecolor('#FFFFFF')\n",
    "\n",
    "x = np.arange(-10,10,0.1)\n",
    "bba = 4*np.sin(x)\n",
    "bbb = np.sin(x)/x\n",
    "\n",
    "lines = []\n",
    "lines += ax.plot(x, bba, ':', color = 'black')\n",
    "lines += ax.plot(x, bbb, '-', color = 'black')\n",
    "leg = Legend(ax, lines, ['Decision boundary $M_A$', 'Decision boundary $M_B$'],\n",
    "             loc='lower right', frameon=False)\n",
    "ax.add_artist(leg)\n",
    "plt.tight_layout()\n",
    "plt.grid(True, color = '#F3F3F3')\n",
    "plt.savefig(\"./docout/sections/localtoglobal/experimentdesign/runningexample1.jpg\", dpi=250)"
   ],
   "metadata": {
    "collapsed": false,
    "pycharm": {
     "name": "#%%\n"
    }
   }
  },
  {
   "cell_type": "code",
   "execution_count": null,
   "outputs": [],
   "source": [
    "gs = gridspec.GridSpec(2, 2)\n",
    "\n",
    "x = np.arange(-10,10,0.1)\n",
    "bba = 4*np.sin(x)\n",
    "bbb = np.sin(x)/x\n",
    "fig = pl.figure(figsize=(10, 8))\n",
    "\n",
    "plot_colors = ['#FFB703', '#FB8500']\n",
    "ax1 = pl.subplot(gs[0, 0])\n",
    "for i, color, marker in zip([0,1], plot_colors, ['o', 'x']):\n",
    "    idx = np.where(train.yA == i)\n",
    "    ax1.scatter(train.iloc[idx].x1, train.iloc[idx].x2, c=color, s=10, label = i, marker = marker, alpha = 0.7)\n",
    "ax1.plot(x, bba, ':', color = 'black')\n",
    "lgnd = ax1.legend(title = '$M_A$',\n",
    "                  loc=\"upper right\", frameon = False)\n",
    "for handle in lgnd.legendHandles:\n",
    "    handle.set_sizes([50.0])\n",
    "\n",
    "plot_colors = ['#9E0059', '#FF0054']\n",
    "ax2 = pl.subplot(gs[0, 1]) # row 0, col 1\n",
    "for i, color, marker in zip([0,1], plot_colors, ['o', 'x']):\n",
    "    idx = np.where(train.yB == i)\n",
    "    ax2.scatter(train.iloc[idx].x1, train.iloc[idx].x2, c=color, s=10, label = i, alpha = 0.5, marker=marker)\n",
    "ax2.plot(x, bbb, '-', color = 'black')\n",
    "lgnd = ax2.legend(title = '$M_B$',\n",
    "                  loc=\"upper right\", frameon = False)\n",
    "for handle in lgnd.legendHandles:\n",
    "    handle.set_sizes([50.0])\n",
    "\n",
    "ax3 = pl.subplot(gs[1, :]) # row 1, span all columns\n",
    "plot_colors = ['#DFE667', '#176675','#54C2CC',  '#7EA310']\n",
    "\n",
    "for i, (color, marker) in color_dict['running1'].items():\n",
    "    idx = np.where(train.difference == i)\n",
    "    ax3.scatter(train.iloc[idx].x1, train.iloc[idx].x2,c=color, s=10, label = i, marker = marker[0])\n",
    "\n",
    "lgnd = ax3.legend(title = '$M_A$ | $M_B$',\n",
    "                  loc=\"upper right\", frameon = False)\n",
    "for handle in lgnd.legendHandles:\n",
    "    handle.set_sizes([50.0])\n",
    "ax1.set_facecolor('#FFFFFF')\n",
    "ax2.set_facecolor('#FFFFFF')\n",
    "ax3.set_facecolor('#FFFFFF')\n",
    "\n",
    "lines = []\n",
    "lines += ax3.plot(x, bba, ':', color = 'black')\n",
    "lines += ax3.plot(x, bbb, '-', color = 'black')\n",
    "\n",
    "leg = Legend(ax3,lines, ['Decision boundary $M_A$', 'Decision boundary $M_B$'],\n",
    "             loc=\"lower left\", frameon=False, bbox_to_anchor=(0,2.3), ncol = 2)\n",
    "fig.add_artist(leg)\n",
    "ax1.grid(True, color = '#F3F3F3')\n",
    "ax2.grid(True, color = '#F3F3F3')\n",
    "ax3.grid(True, color = '#F3F3F3')\n",
    "\n",
    "plt.savefig(\"./docout/sections/localtoglobal/experimentdesign/decisiondifferencesrunning1.jpg\", dpi=200)"
   ],
   "metadata": {
    "collapsed": false,
    "pycharm": {
     "name": "#%%\n"
    }
   }
  },
  {
   "cell_type": "markdown",
   "source": [
    "### Running Example 2"
   ],
   "metadata": {
    "collapsed": false,
    "pycharm": {
     "name": "#%% md\n"
    }
   }
  },
  {
   "cell_type": "code",
   "execution_count": null,
   "outputs": [],
   "source": [
    "data = 'running2'\n",
    "train, cols = loaddata(data)\n",
    "modelA = pickle.load(open('blackboxes/' + data + 'A.sav', 'rb'))\n",
    "modelB = pickle.load(open('blackboxes/' + data + 'B.sav', 'rb'))\n",
    "train['yA'] = modelA.predict(train[['x1', 'x2']].values)\n",
    "train['yB'] = modelB.predict(train[['x1', 'x2']].values)\n",
    "train['difference'] = train.apply(lambda row: '%g' % row['yA'] + '|' + '%g' % row['yB'], axis=1)"
   ],
   "metadata": {
    "collapsed": false,
    "pycharm": {
     "name": "#%%\n"
    }
   }
  },
  {
   "cell_type": "code",
   "execution_count": null,
   "outputs": [],
   "source": [
    "X0, X1 = train.x1, train.x2\n",
    "xx, yy = make_meshgrid(X0, X1, h = 0.005)\n",
    "fig, ax = plt.subplots(figsize = (10,8))\n",
    "cntr1 = plot_contours(ax, modelA, xx, yy, levels = 1,colors = 'black',linewidths = 2, linestyles = 'dotted')\n",
    "cntr2 = plot_contours(ax, modelB, xx, yy, levels = 1, colors = 'black',linewidths = 1)\n",
    "\n",
    "for i, (color, marker) in color_dict[data].items():\n",
    "    idx = np.where(train.difference == i)\n",
    "    ax.scatter(train.iloc[idx].x1, train.iloc[idx].x2,c=color, s=20, label = i, marker = marker[0])\n",
    "leg = plt.legend(loc='upper right', title='$M_A$ | $M_B$', frameon = False)\n",
    "for handle in leg.legendHandles:\n",
    "    handle.set_sizes([50.0])\n",
    "ax.add_artist(leg)\n",
    "\n",
    "h = [plt.plot([],[], ls = i, color = 'black')[0] for i in ['solid', 'dotted']]\n",
    "ax.legend(handles=h, labels=['Decision Boundary $M_A$', 'Decision Boundary $M_B$'],\n",
    "          loc='lower right', title='', frameon = False)\n",
    "\n",
    "plt.xlabel('$x_1$')\n",
    "plt.ylabel('$x_2$')\n",
    "plt.grid(True, color = '#F3F3F3')\n",
    "ax.set_facecolor('#FFFFFF')\n",
    "plt.tight_layout()\n",
    "plt.savefig(\"./docout/sections/localtoglobal/experimentdesign/runningexample2.jpg\", dpi=250)"
   ],
   "metadata": {
    "collapsed": false,
    "pycharm": {
     "name": "#%%\n"
    }
   }
  },
  {
   "cell_type": "code",
   "execution_count": null,
   "outputs": [],
   "source": [
    "gs = gridspec.GridSpec(2, 2)\n",
    "fig = pl.figure(figsize=(10, 8))\n",
    "\n",
    "xx, yy = make_meshgrid(X0, X1, h = 0.005)\n",
    "\n",
    "ax1 = pl.subplot(gs[0, 0]) # row 0, col 0\n",
    "for i, color, marker in zip([0,1,2], ['#FFB703', '#FB8500', \"#ce2029\"], ['.', 'x', 'v']):\n",
    "    idx = np.where(train.yA == i)\n",
    "    ax1.scatter(train.iloc[idx].x1, train.iloc[idx].x2,c=color, s=10, label = i, marker = marker)\n",
    "cntr1 = plot_contours(ax1, modelA, xx, yy, levels = 1,colors = 'black',linewidths = 2, linestyles = 'dotted')\n",
    "lgnd = ax1.legend(title = '$M_A$',bbox_to_anchor=(1.0, 1), loc=\"upper left\", frameon = False)\n",
    "for handle in lgnd.legendHandles:\n",
    "    handle.set_sizes([50.0])\n",
    "\n",
    "ax2 = pl.subplot(gs[0, 1]) # row 0, col 1\n",
    "for i, color, marker in zip([0,1,2], ['#9E0059', '#FF0054', \"#2f4b7c\"], ['.', 'x', 'v']):\n",
    "    idx = np.where(train.yB == i)\n",
    "    ax2.scatter(train.iloc[idx].x1, train.iloc[idx].x2,c=color, s=10, label = i, marker = marker)\n",
    "cntr2 = plot_contours(ax2, modelB, xx, yy, levels = 1, colors = 'black',linewidths = 1)\n",
    "lgnd = ax2.legend(title = '$M_B$',bbox_to_anchor=(1.0, 1), loc=\"upper left\", frameon = False)\n",
    "for handle in lgnd.legendHandles:\n",
    "    handle.set_sizes([50.0])\n",
    "\n",
    "ax3 = pl.subplot(gs[1, :]) # row 1, span all columns\n",
    "for i, (color, marker) in color_dict[data].items():\n",
    "    idx = np.where(train.difference == i)\n",
    "    ax3.scatter(train.iloc[idx].x1, train.iloc[idx].x2, c=color, s=10, label = i, marker = marker[0])\n",
    "leg = plt.legend(title='$M_A$ | $M_B$', frameon = False, bbox_to_anchor=(1.0, 1), loc=\"upper left\")\n",
    "for handle in leg.legendHandles:\n",
    "    handle.set_sizes([50.0])\n",
    "ax3.add_artist(leg)\n",
    "\n",
    "ax1.set_facecolor('#FFFFFF')\n",
    "ax2.set_facecolor('#FFFFFF')\n",
    "ax3.set_facecolor('#FFFFFF')\n",
    "\n",
    "cntr1 = plot_contours(ax3, modelA, xx, yy, levels = 1,colors = 'black',linewidths = 2, linestyles = 'dotted')\n",
    "cntr2 = plot_contours(ax3, modelB, xx, yy, levels = 1, colors = 'black',linewidths = 1)\n",
    "\n",
    "h = [plt.plot([],[], ls = i, color = 'black')[0] for i in ['dotted', 'solid']]\n",
    "ax3.legend(handles=h, labels=['Decision Boundary $M_A$', 'Decision Boundary $M_B$'],\n",
    "          loc='lower left', title='', frameon = False, bbox_to_anchor=(0,1), ncol = 2)\n",
    "ax1.grid(True, color = '#F3F3F3')\n",
    "ax2.grid(True, color = '#F3F3F3')\n",
    "ax3.grid(True, color = '#F3F3F3')\n",
    "\n",
    "plt.tight_layout()\n",
    "plt.savefig(\"./docout/sections/localtoglobal/experimentdesign/decisiondifferencesrunning2.jpg\", dpi=300)"
   ],
   "metadata": {
    "collapsed": false,
    "pycharm": {
     "name": "#%%\n"
    }
   }
  },
  {
   "cell_type": "markdown",
   "source": [
    "### Bank Marketing"
   ],
   "metadata": {
    "collapsed": false
   }
  },
  {
   "cell_type": "code",
   "execution_count": null,
   "outputs": [],
   "source": [
    "from data.split3fold import split3fold"
   ],
   "metadata": {
    "collapsed": false,
    "pycharm": {
     "name": "#%%\n"
    }
   }
  },
  {
   "cell_type": "code",
   "execution_count": null,
   "outputs": [],
   "source": [
    "data = 'bankmarketing'"
   ],
   "metadata": {
    "collapsed": false,
    "pycharm": {
     "name": "#%%\n"
    }
   }
  },
  {
   "cell_type": "code",
   "execution_count": null,
   "outputs": [],
   "source": [
    "dataA, dataB, cols, discrete, continuous, le = loaddata(data)\n",
    "blackboxtrainA, trainA, testA = split3fold(dataA, 0.4, 0.2, random_state=1)\n",
    "blackboxtrainB, trainB, testB = split3fold(dataB, 0.4, 0.2, random_state=1)"
   ],
   "metadata": {
    "collapsed": false,
    "pycharm": {
     "name": "#%%\n"
    }
   }
  },
  {
   "cell_type": "code",
   "execution_count": null,
   "outputs": [],
   "source": [
    "modelA = pickle.load(open('blackboxes/'+data+'A.sav', 'rb'))\n",
    "modelB = pickle.load(open('blackboxes/'+data+'B.sav', 'rb'))"
   ],
   "metadata": {
    "collapsed": false,
    "pycharm": {
     "name": "#%%\n"
    }
   }
  },
  {
   "cell_type": "code",
   "execution_count": null,
   "outputs": [],
   "source": [
    "#create difference detection dataset:\n",
    "train = pd.concat([trainA, trainB])\n",
    "train['predA'] = modelA.predict(train[cols].values)\n",
    "train['predB'] = modelB.predict(train[cols].values)\n",
    "train['difference'] = train.apply(lambda row: str(int(row['predA'])) + '|' + str(int(row['predB'])), axis = 1)\n",
    "train.drop(columns=['predA', 'predB', 'y'], inplace=True)\n",
    "train.reset_index(inplace=True, drop = True)\n",
    "\n",
    "test = pd.concat([testA, testB])\n",
    "test['predA'] = modelA.predict(test[cols].values)\n",
    "test['predB'] = modelB.predict(test[cols].values)\n",
    "test['difference'] = test.apply(lambda row: str(int(row['predA'])) + '|' + str(int(row['predB'])), axis = 1)\n",
    "test.drop(columns=['predA', 'predB', 'y'], inplace=True)\n",
    "test.reset_index(inplace=True, drop = True)"
   ],
   "metadata": {
    "collapsed": false,
    "pycharm": {
     "name": "#%%\n"
    }
   }
  },
  {
   "cell_type": "markdown",
   "source": [
    "### Compas"
   ],
   "metadata": {
    "collapsed": false
   }
  },
  {
   "cell_type": "code",
   "execution_count": null,
   "outputs": [],
   "source": [
    "data = 'compas'"
   ],
   "metadata": {
    "collapsed": false,
    "pycharm": {
     "name": "#%%\n"
    }
   }
  },
  {
   "cell_type": "code",
   "execution_count": null,
   "outputs": [],
   "source": [
    "dataA, dataB, cols, discrete, continuous, le = loaddata(data)\n",
    "blackboxtrainA, trainA, testA = split3fold(dataA, 0.4, 0.2, random_state=1)\n",
    "blackboxtrainB, trainB, testB = split3fold(dataB, 0.4, 0.2, random_state=1)"
   ],
   "metadata": {
    "collapsed": false,
    "pycharm": {
     "name": "#%%\n"
    }
   }
  },
  {
   "cell_type": "code",
   "execution_count": null,
   "outputs": [],
   "source": [
    "modelA = pickle.load(open('blackboxes/'+data+'A.sav', 'rb'))\n",
    "modelB = pickle.load(open('blackboxes/'+data+'B.sav', 'rb'))"
   ],
   "metadata": {
    "collapsed": false,
    "pycharm": {
     "name": "#%%\n"
    }
   }
  },
  {
   "cell_type": "code",
   "execution_count": null,
   "outputs": [],
   "source": [
    "#create difference detection dataset:\n",
    "train = pd.concat([trainA, trainB])\n",
    "train['predA'] = modelA.predict(train[cols].values)\n",
    "train['predB'] = modelB.predict(train[cols].values)\n",
    "train['difference'] = train.apply(lambda row: str(int(row['predA'])) + '|' + str(int(row['predB'])), axis = 1)\n",
    "train.drop(columns=['predA', 'predB', 'y'], inplace=True)\n",
    "train.reset_index(inplace=True, drop = True)\n",
    "\n",
    "test = pd.concat([testA, testB])\n",
    "test['predA'] = modelA.predict(test[cols].values)\n",
    "test['predB'] = modelB.predict(test[cols].values)\n",
    "test['difference'] = test.apply(lambda row: str(int(row['predA'])) + '|' + str(int(row['predB'])), axis = 1)\n",
    "test.drop(columns=['predA', 'predB', 'y'], inplace=True)\n",
    "test.reset_index(inplace=True, drop = True)"
   ],
   "metadata": {
    "collapsed": false,
    "pycharm": {
     "name": "#%%\n"
    }
   }
  }
 ],
 "metadata": {
  "kernelspec": {
   "name": "diroc",
   "language": "python",
   "display_name": "diroc"
  },
  "language_info": {
   "codemirror_mode": {
    "name": "ipython",
    "version": 2
   },
   "file_extension": ".py",
   "mimetype": "text/x-python",
   "name": "python",
   "nbconvert_exporter": "python",
   "pygments_lexer": "ipython2",
   "version": "2.7.6"
  }
 },
 "nbformat": 4,
 "nbformat_minor": 0
}