{
 "cells": [
  {
   "cell_type": "code",
   "execution_count": null,
   "outputs": [],
   "source": [
    "import pandas as pd\n",
    "import numpy as np\n",
    "import matplotlib.pyplot as plt\n",
    "from sklearn.tree import DecisionTreeClassifier\n",
    "from sklearn import metrics\n",
    "from data.getdata import loaddata, prepare_df\n",
    "from data.split3fold import split3fold\n",
    "import pickle\n",
    "import matplotlib.pylab as pl\n",
    "import matplotlib.gridspec as gridspec\n",
    "from sklearn.preprocessing import StandardScaler, LabelEncoder, OneHotEncoder\n",
    "import minisom\n",
    "from collections import defaultdict\n",
    "from scipy.cluster.hierarchy import dendrogram, linkage, set_link_color_palette, fcluster\n",
    "from matplotlib.legend import Legend\n",
    "from matplotlib import colors\n",
    "\n",
    "plt.style.use('ggplot')\n",
    "\n",
    "from vars import plot_colors, color_dict, classes_dict, make_meshgrid, plot_contours,get_rules\n",
    "from FromLocalToGlobal import *"
   ],
   "metadata": {
    "collapsed": false,
    "pycharm": {
     "name": "#%%\n"
    }
   }
  },
  {
   "cell_type": "code",
   "execution_count": null,
   "outputs": [],
   "source": [
    "data = 'bankmarketing'"
   ],
   "metadata": {
    "collapsed": false,
    "pycharm": {
     "name": "#%%\n"
    }
   }
  },
  {
   "cell_type": "code",
   "execution_count": null,
   "outputs": [],
   "source": [
    "dataA, dataB, cols, discrete, continuous, le = loaddata(data)\n",
    "blackboxtrainA, trainA, testA = split3fold(dataA, 0.4, 0.2, random_state=1)\n",
    "blackboxtrainB, trainB, testB = split3fold(dataB, 0.4, 0.2, random_state=1)"
   ],
   "metadata": {
    "collapsed": false,
    "pycharm": {
     "name": "#%%\n"
    }
   }
  },
  {
   "cell_type": "code",
   "execution_count": null,
   "outputs": [],
   "source": [
    "modelA = pickle.load(open('blackboxes/'+data+'A.sav', 'rb'))\n",
    "modelB = pickle.load(open('blackboxes/'+data+'B.sav', 'rb'))"
   ],
   "metadata": {
    "collapsed": false,
    "pycharm": {
     "name": "#%%\n"
    }
   }
  },
  {
   "cell_type": "code",
   "execution_count": null,
   "outputs": [],
   "source": [
    "#create difference detection dataset:\n",
    "train = pd.concat([trainA, trainB])\n",
    "train['predA'] = modelA.predict(train[cols].values)\n",
    "train['predB'] = modelB.predict(train[cols].values)\n",
    "train['difference'] = train.apply(lambda row: str(int(row['predA'])) + '|' + str(int(row['predB'])), axis = 1)\n",
    "train.drop(columns=['predA', 'predB', 'y'], inplace=True)\n",
    "train = train.reset_index(drop = True, inplace = False)\n",
    "test = pd.concat([testA, testB])\n",
    "test['predA'] = modelA.predict(test[cols].values)\n",
    "test['predB'] = modelB.predict(test[cols].values)\n",
    "test['difference'] = test.apply(lambda row: str(int(row['predA'])) + '|' + str(int(row['predB'])), axis = 1)\n",
    "test.drop(columns=['predA', 'predB', 'y'], inplace=True)\n",
    "discrete.append('difference')"
   ],
   "metadata": {
    "collapsed": false,
    "pycharm": {
     "name": "#%%\n"
    }
   }
  },
  {
   "cell_type": "markdown",
   "source": [
    "#### Approach 1.3:\n",
    "##### Dendrograms:"
   ],
   "metadata": {
    "collapsed": false,
    "pycharm": {
     "name": "#%% md\n"
    }
   }
  },
  {
   "cell_type": "code",
   "execution_count": null,
   "outputs": [],
   "source": [
    "differenceclasses = train.difference.unique()\n",
    "differenceclasses = differenceclasses[~np.isin(differenceclasses, ['0|0', '1|1', '2|2'])]\n",
    "differenceclasses.sort()\n",
    "\n",
    "discrete_woclassname = discrete.copy()\n",
    "discrete_woclassname.remove('difference')\n",
    "\n",
    "d = defaultdict(lambda: OneHotEncoder(drop = 'first'))\n",
    "trainbinary = train.copy()\n",
    "testbinary = test.copy()\n",
    "colsbinary = cols.copy()\n",
    "for feature in discrete_woclassname:\n",
    "    uniquevals = np.concatenate((trainbinary[feature].values.reshape(-1,1), testbinary[feature].values.reshape(-1,1)))\n",
    "    d[feature].fit(uniquevals)\n",
    "    tmp = d[feature].transform(trainbinary[feature].values.reshape(-1,1)).toarray()\n",
    "    colnames = [feature + str(i) for i in range(tmp.shape[1])]\n",
    "    trainbinary[colnames] = tmp\n",
    "    testbinary[colnames] = d[feature].transform(testbinary[feature].values.reshape(-1,1)).toarray()\n",
    "    colsbinary = colsbinary + colnames\n",
    "    colsbinary.remove(feature)\n",
    "    trainbinary.drop(columns = feature, inplace = True)\n",
    "    testbinary.drop(columns = feature, inplace = True)\n",
    "\n",
    "trainbinarynorm = trainbinary[colsbinary].copy()\n",
    "if(len(continuous)>0):\n",
    "    d = StandardScaler()\n",
    "    scaler = d.fit(trainbinarynorm[continuous].values)\n",
    "    trainbinarynorm[continuous] = scaler.transform(trainbinarynorm[continuous].values)"
   ],
   "metadata": {
    "collapsed": false,
    "pycharm": {
     "name": "#%%\n"
    }
   }
  },
  {
   "cell_type": "code",
   "execution_count": null,
   "outputs": [],
   "source": [
    "linkagetype = 'ward'\n",
    "linked = []\n",
    "for value in differenceclasses:\n",
    "    subtrainbinarynorm = trainbinarynorm.loc[trainbinary.difference == value, colsbinary].values\n",
    "    linked.append(linkage(subtrainbinarynorm, linkagetype))"
   ],
   "metadata": {
    "collapsed": false,
    "pycharm": {
     "name": "#%%\n"
    }
   }
  },
  {
   "cell_type": "code",
   "execution_count": null,
   "outputs": [],
   "source": [
    "#number of instances for which a neighborhood is generated:\n",
    "if data == 'compas':\n",
    "    t = {'2|0': 4, '0|1': 15,\n",
    "         '2|1': 10, '1|2': 4.5,\n",
    "         '0|2': 6, '1|0': 10\n",
    "         } #ward linkage 26\n",
    "elif data == 'bankmarketing':\n",
    "    t = {'0|1': 25, '1|0': 10} #ward linkage 21\n",
    "\n",
    "ninstances = 0\n",
    "for index, value in enumerate(differenceclasses):\n",
    "    clusterarr = pd.DataFrame(fcluster(linked[index], t=t[value], criterion='distance'), columns=['cluster'])\n",
    "    ncluster = len(np.unique(clusterarr))\n",
    "    ninstances +=  ncluster\n",
    "    print(\"{dclass}: {n}\".format(dclass = value, n=ncluster))\n",
    "print(ninstances)"
   ],
   "metadata": {
    "collapsed": false,
    "pycharm": {
     "name": "#%%\n"
    }
   }
  },
  {
   "cell_type": "code",
   "execution_count": null,
   "outputs": [],
   "source": [
    "if data == 'compas':\n",
    "    gs = gridspec.GridSpec(2, 3)\n",
    "    fig = plt.figure(figsize=(12, 6))\n",
    "    t = {'2|0': 4, '0|1': 15,\n",
    "         '2|1': 10, '1|2': 4.5,\n",
    "         '0|2': 6, '1|0': 10\n",
    "         } #26 instances\n",
    "elif data == 'bankmarketing':\n",
    "    gs = gridspec.GridSpec(1, 2)\n",
    "    fig = plt.figure(figsize=(12, 3))\n",
    "\n",
    "for index, value in enumerate(differenceclasses):\n",
    "    col = int(np.mod(index, 3))\n",
    "    row = int(np.floor(index/3))\n",
    "    ax = pl.subplot(gs[row, col])\n",
    "    set_link_color_palette(plot_colors)\n",
    "    D = dendrogram(linked[index], ax=ax, no_labels=True, color_threshold=t[value],\n",
    "                   above_threshold_color='k')\n",
    "    ax.axhline(y=t[value], c = 'black', linestyle = 'dotted')\n",
    "    ax.set_facecolor('#FFFFFF')\n",
    "    ax.set_title('Region ($M_A|M_B$): ' + classes_dict[data][value], fontsize = 10)\n",
    "    ax.grid(False)\n",
    "plt.tight_layout()\n",
    "plt.savefig('docout/sections/localtoglobal/results/Approach3_Dendrograms_'+ linkagetype +'_'+ str(ninstances) +'_' + data + '.jpg', dpi=150)"
   ],
   "metadata": {
    "collapsed": false,
    "pycharm": {
     "name": "#%%\n"
    }
   }
  },
  {
   "cell_type": "markdown",
   "source": [
    "##### SOM projection to 2-dim with colored regions:"
   ],
   "metadata": {
    "collapsed": false
   }
  },
  {
   "cell_type": "code",
   "execution_count": null,
   "outputs": [],
   "source": [
    "print(np.sqrt(5 * np.sqrt(len(train))))\n",
    "shapesom = 30"
   ],
   "metadata": {
    "collapsed": false,
    "pycharm": {
     "name": "#%%\n"
    }
   }
  },
  {
   "cell_type": "code",
   "execution_count": null,
   "outputs": [],
   "source": [
    "som = minisom.MiniSom(shapesom, shapesom, trainbinarynorm.shape[1], sigma=2, learning_rate=1, random_seed = 0)\n",
    "som.train(trainbinarynorm.values, 100000, verbose = True)"
   ],
   "metadata": {
    "collapsed": false,
    "pycharm": {
     "name": "#%%\n"
    }
   }
  },
  {
   "cell_type": "code",
   "execution_count": null,
   "outputs": [],
   "source": [
    "#U-Matrix.\n",
    "fig, ax = plt.subplots(figsize = (10,11))\n",
    "plt.grid(False)\n",
    "im = plt.pcolor(som.distance_map().T, cmap='Greys')  # plotting the distance map as background\n",
    "\n",
    "ax.set_xlabel('')\n",
    "ax.set_ylabel('')\n",
    "ax.set_yticklabels([])\n",
    "ax.set_xticklabels([])\n",
    "ax.set_yticks([])\n",
    "ax.set_xticks([])\n",
    "\n",
    "plt.subplots_adjust(bottom=0.15)\n",
    "cax = plt.axes([0.1, 0.1, 0.8, 0.017])\n",
    "plt.colorbar(cax=cax, orientation = 'horizontal')\n",
    "\n",
    "plt.savefig('docout/sections/localtoglobal/SOMprojection_UMatrix_' + data + '.jpg', dpi=150, bbox_inches='tight', transparent=True, pad_inches=0)"
   ],
   "metadata": {
    "collapsed": false,
    "pycharm": {
     "name": "#%%\n"
    }
   }
  },
  {
   "cell_type": "code",
   "execution_count": null,
   "outputs": [],
   "source": [
    "Z = np.zeros((shapesom, shapesom))\n",
    "fig, ax = plt.subplots(figsize = (10,10))\n",
    "\n",
    "collector_color = dict.fromkeys(color_dict[data].keys())\n",
    "collector_marker = dict.fromkeys(color_dict[data].keys())\n",
    "\n",
    "w_x, w_y = zip(*[som.winner(d) for d in trainbinarynorm.values])\n",
    "for i in np.arange(som._weights.shape[0]):\n",
    "    for j in np.arange(som._weights.shape[1]):\n",
    "        idx = np.logical_and(w_x == i, w_y == j)\n",
    "        tmp = train.difference[idx]\n",
    "        if len(tmp) > 0:\n",
    "            feature = tmp.value_counts().idxmax()\n",
    "            collector_color[feature] = plt.plot([i + .5], [j + .5], color=color_dict[data][feature][0],\n",
    "                                                marker='s', markersize=15, linewidth = 0) #22 #15\n",
    "            collector_marker[feature] = plt.plot([i + .5], [j + .5], marker=color_dict[data][feature][1][0],\n",
    "                                                 color=color_dict[data][feature][1][1], markersize=10, #15 #10\n",
    "                                                 markerfacecolor = 'None',linewidth = 0)\n",
    "\n",
    "collector_color = {k: v for k, v in collector_color.items() if v is not None}\n",
    "collector_marker = {k: v for k, v in collector_marker.items() if v is not None}\n",
    "\n",
    "leg = plt.legend([(collector_color[j][0], collector_marker[j][0]) for j in collector_color.keys()],\n",
    "                 [classes_dict[data][j] for j in collector_color.keys()],#markerscale = 0.5, #0.7\n",
    "                 title='$M_A$ | $M_B$', frameon=False, ncol=5, loc='lower left',bbox_to_anchor=(0, -0.11)\n",
    "                 )\n",
    "leg._legend_box.align = \"left\"\n",
    "\n",
    "plt.xlim([0, shapesom])\n",
    "plt.ylim([0, shapesom])\n",
    "\n",
    "plt.grid(color = '#ffffff')\n",
    "ax.set_xlabel('')\n",
    "ax.set_ylabel('')\n",
    "ax.set_xticks(range(shapesom))\n",
    "ax.set_yticks(range(shapesom))\n",
    "ax.set_yticklabels([])\n",
    "ax.set_xticklabels([])\n",
    "\n",
    "plt.savefig('docout/sections/localtoglobal/SOMprojection_ClassColored_' + data + '.jpg', dpi=150, bbox_inches='tight', transparent=False,pad_inches=0)"
   ],
   "metadata": {
    "collapsed": false,
    "pycharm": {
     "name": "#%%\n"
    }
   }
  },
  {
   "cell_type": "markdown",
   "source": [
    "### Obtain explaining model"
   ],
   "metadata": {
    "collapsed": false,
    "pycharm": {
     "name": "#%% md\n"
    }
   }
  },
  {
   "cell_type": "code",
   "execution_count": null,
   "outputs": [],
   "source": [
    "random_state = 0\n",
    "globaldata = getglobal(train, classname = 'difference', npoints = 1, populationsize=1000, method = clusterbasedinstances, random_state = random_state, discrete = discrete, continuous=continuous, t=t)"
   ],
   "metadata": {
    "collapsed": false,
    "pycharm": {
     "name": "#%%\n"
    }
   }
  },
  {
   "cell_type": "markdown",
   "source": [
    "## Running example plots"
   ],
   "metadata": {
    "collapsed": false
   }
  },
  {
   "cell_type": "code",
   "execution_count": null,
   "outputs": [],
   "source": [
    "performancefile = 'results/FromLocalToGlobalrunning.txt'"
   ],
   "metadata": {
    "collapsed": false,
    "pycharm": {
     "name": "#%%\n"
    }
   }
  },
  {
   "cell_type": "code",
   "execution_count": null,
   "outputs": [],
   "source": [
    "data = 'running1'"
   ],
   "metadata": {
    "collapsed": false,
    "pycharm": {
     "name": "#%%\n"
    }
   }
  },
  {
   "cell_type": "code",
   "execution_count": null,
   "outputs": [],
   "source": [
    "train, cols = loaddata(data)"
   ],
   "metadata": {
    "collapsed": false,
    "pycharm": {
     "name": "#%%\n"
    }
   }
  },
  {
   "cell_type": "code",
   "execution_count": null,
   "outputs": [],
   "source": [
    "modelA = pickle.load(open('blackboxes/'+data+'A.sav', 'rb'))\n",
    "modelB = pickle.load(open('blackboxes/'+data+'B.sav', 'rb'))"
   ],
   "metadata": {
    "collapsed": false,
    "pycharm": {
     "name": "#%%\n"
    }
   }
  },
  {
   "cell_type": "code",
   "execution_count": null,
   "outputs": [],
   "source": [
    "train['yA'] = modelA.predict(train[['x1', 'x2']].values)\n",
    "train['yB'] = modelB.predict(train[['x1', 'x2']].values)\n",
    "train['difference'] = train.apply(lambda row: '%g' % row['yA'] + '|' + '%g' % row['yB'], axis = 1)\n",
    "train.drop(columns=['yA', 'yB'], inplace=True)"
   ],
   "metadata": {
    "collapsed": false,
    "pycharm": {
     "name": "#%%\n"
    }
   }
  },
  {
   "cell_type": "code",
   "execution_count": null,
   "outputs": [],
   "source": [
    "#load test data:\n",
    "test, cols = loaddata(data + 'test')\n",
    "test['yA'] = modelA.predict(test[cols].values)\n",
    "test['yB'] = modelB.predict(test[cols].values)\n",
    "test['difference'] = test.apply(lambda row: '%g' % row['yA'] + '|' + '%g' % row['yB'], axis=1)\n",
    "test.drop(columns=['yA', 'yB'], inplace=True)"
   ],
   "metadata": {
    "collapsed": false,
    "pycharm": {
     "name": "#%%\n"
    }
   }
  },
  {
   "cell_type": "code",
   "execution_count": null,
   "outputs": [],
   "source": [
    "from matplotlib.colors import to_rgb\n",
    "from sklearn.tree import plot_tree\n",
    "import matplotlib\n",
    "import re\n",
    "import pyperclip\n",
    "\n",
    "\n",
    "def replace_text(obj):\n",
    "    if type(obj) == matplotlib.text.Annotation:\n",
    "        txt = obj.get_text()\n",
    "        txt = re.sub(\"samples[^$]*class\", \"class\", txt)\n",
    "        obj.set_text(txt)\n",
    "    return obj"
   ],
   "metadata": {
    "collapsed": false,
    "pycharm": {
     "name": "#%%\n"
    }
   }
  },
  {
   "cell_type": "markdown",
   "source": [
    "### Plot for Approach 1.1"
   ],
   "metadata": {
    "collapsed": false
   }
  },
  {
   "cell_type": "code",
   "execution_count": null,
   "outputs": [],
   "source": [
    "populationsize = 1000\n",
    "globaldata = getglobal(train, modelA=modelA, modelB=modelB, classname='difference', npoints=8,\n",
    "                       populationsize=populationsize, method=randominstances,\n",
    "                       random_state=0, discrete=['difference'],\n",
    "                       continuous=['x1', 'x2'])\n",
    "globaldata.columns = ['x1', 'x2']"
   ],
   "metadata": {
    "collapsed": false,
    "pycharm": {
     "name": "#%%\n"
    }
   }
  },
  {
   "cell_type": "code",
   "execution_count": null,
   "outputs": [],
   "source": [
    "with open('docout/sections/localtoglobal/res/approach1_neighborhood_' + data + '.pickle', 'wb') as handle:\n",
    "    pickle.dump(globaldata, handle, protocol=pickle.HIGHEST_PROTOCOL)"
   ],
   "metadata": {
    "collapsed": false,
    "pycharm": {
     "name": "#%%\n"
    }
   }
  },
  {
   "cell_type": "code",
   "execution_count": null,
   "outputs": [],
   "source": [
    "with open('docout/sections/localtoglobal/res/approach1_neighborhood_' + data + '.pickle', 'rb') as handle:\n",
    "    globaldata = pickle.load(handle)"
   ],
   "metadata": {
    "collapsed": false,
    "pycharm": {
     "name": "#%%\n"
    }
   }
  },
  {
   "cell_type": "code",
   "execution_count": null,
   "outputs": [],
   "source": [
    "fig, ax = plt.subplots(figsize=(10, 8))\n",
    "\n",
    "plt.xlabel('$x_1$')\n",
    "plt.ylabel('$x_2$')\n",
    "\n",
    "X0, X1 = train.x1, train.x2\n",
    "xx, yy = make_meshgrid(X0, X1, h=0.005)\n",
    "\n",
    "z1 = modelA.predict(np.c_[xx.ravel(), yy.ravel()])\n",
    "z1 = z1.reshape(xx.shape)\n",
    "z2 = modelB.predict(np.c_[xx.ravel(), yy.ravel()])\n",
    "z2 = z2.reshape(xx.shape)\n",
    "\n",
    "cntr1 = plot_contours(ax, modelA, xx, yy, levels=1, colors='black', linewidths=2, linestyles='dotted')\n",
    "cntr2 = plot_contours(ax, modelB, xx, yy, levels=1, colors='black', linewidths=1)\n",
    "\n",
    "h = [plt.plot([], [], ls=i, color='black')[0] for i in ['dotted', 'solid']]\n",
    "ax.legend(handles=h, labels=['Decision Boundary $M_A$', 'Decision Boundary $M_B$'],\n",
    "          loc='lower left', title='', frameon=False, bbox_to_anchor=(0, -0.12),\n",
    "          ncol=4)\n",
    "\n",
    "ax.scatter(globaldata.x1, globaldata.x2, c='black', alpha=0.3, s=6)\n",
    "choseninstancesindex = np.unique(globaldata.index.get_level_values(0))\n",
    "choseninstances = train.iloc[choseninstancesindex]\n",
    "ax.scatter(choseninstances.x1, choseninstances.x2, c='#D90429', s=150, marker='X')\n",
    "\n",
    "ax.set_facecolor('#FFFFFF')\n",
    "plt.tight_layout()\n",
    "plt.grid(True, color='#F3F3F3')\n",
    "\n",
    "ax.set_xlim(X0.min(),X0.max())\n",
    "ax.set_ylim(train.x2.min(),train.x2.max())\n",
    "\n",
    "plt.savefig('docout/sections/localtoglobal/results/Approach1_generatedneighborhoods_' + data + '.jpg', dpi=150,bbox_inches='tight',transparent=True, pad_inches=0)"
   ],
   "metadata": {
    "collapsed": false,
    "pycharm": {
     "name": "#%%\n"
    }
   }
  },
  {
   "cell_type": "code",
   "execution_count": null,
   "outputs": [],
   "source": [
    "predA = modelA.predict(globaldata.values)\n",
    "predB = modelB.predict(globaldata.values)\n",
    "difference = np.array([str(x1) + '|' + str(x2) for x1, x2 in zip(predA, predB)])\n",
    "explainer = DecisionTreeClassifier(random_state=0)\n",
    "explainer.fit(globaldata.values, difference)"
   ],
   "metadata": {
    "collapsed": false,
    "pycharm": {
     "name": "#%%\n"
    }
   }
  },
  {
   "cell_type": "code",
   "execution_count": null,
   "outputs": [],
   "source": [
    "X0, X1 = globaldata.x1, globaldata.x2\n",
    "xx, yy = make_meshgrid(X0, X1, h=0.005)\n",
    "z = explainer.predict(np.c_[xx.ravel(), yy.ravel()])\n",
    "d=LabelEncoder()\n",
    "d.fit(np.array([x for x in color_dict[data].keys()]))\n",
    "z = d.transform(z)\n",
    "z = z.reshape(xx.shape)"
   ],
   "metadata": {
    "collapsed": false,
    "pycharm": {
     "name": "#%%\n"
    }
   }
  },
  {
   "cell_type": "code",
   "execution_count": null,
   "outputs": [],
   "source": [
    "ordering = [x for x in color_dict[data].keys()]\n",
    "keys = list(ordering)\n",
    "ordering.sort()\n",
    "ordering = [keys.index(x) for x in ordering]"
   ],
   "metadata": {
    "collapsed": false,
    "pycharm": {
     "name": "#%%\n"
    }
   }
  },
  {
   "cell_type": "code",
   "execution_count": null,
   "outputs": [],
   "source": [
    "#Evaluation:\n",
    "if data == 'running1':\n",
    "    dataname = '\"Sine\"'\n",
    "else:\n",
    "    dataname = '\"Spiral\"'\n",
    "pred = explainer.predict(test[cols].values)\n",
    "with open(performancefile, 'a') as myfile:\n",
    "    line = ' '.join([dataname,\n",
    "                     '\"Approach 1: Random sampling\"',\n",
    "                     str(explainer.get_depth()),\n",
    "                     str(explainer.get_n_leaves()),\n",
    "                     str(metrics.accuracy_score(test.difference, pred)),\n",
    "                     str(metrics.precision_score(test.difference, pred, average='macro')),\n",
    "                     str(metrics.recall_score(test.difference, pred, average='macro'))\n",
    "                     ])\n",
    "    myfile.write(line + '\\n')"
   ],
   "metadata": {
    "collapsed": false,
    "pycharm": {
     "name": "#%%\n"
    }
   }
  },
  {
   "cell_type": "code",
   "execution_count": null,
   "outputs": [],
   "source": [
    "values = [x[0] for x in color_dict[data].values()]\n",
    "orderedmap = [values[i] for i in ordering]\n",
    "MyCmap=colors.ListedColormap(orderedmap)\n",
    "fig, ax = plt.subplots(figsize=(10, 8))\n",
    "\n",
    "cntr1 = plot_contours(ax, modelA, xx, yy, levels=1, colors='black', linewidths=2, linestyles='dotted')\n",
    "cntr2 = plot_contours(ax, modelB, xx, yy, levels=1, colors='black', linewidths=1)\n",
    "\n",
    "cp = ax.contourf(xx, yy, z+0.1, alpha=0.7, cmap=MyCmap)\n",
    "\n",
    "h = [plt.plot([], [], color=i[0], linewidth=10, label=j)[0] for j, i in color_dict[data].items()]\n",
    "ax.legend(handles=h, loc='lower left', title='Prediction Explainer', frameon=False, bbox_to_anchor=(0, -0.12),\n",
    "          ncol=9)\n",
    "\n",
    "ax.set_facecolor('#FFFFFF')\n",
    "ax.set_xlabel('$x_1$')\n",
    "ax.set_ylabel('$x_2$')\n",
    "ax.grid(True, color='#F3F3F3')\n",
    "\n",
    "ax.set_ylim(train.x2.min(), train.x2.max())\n",
    "ax.set_xlim(train.x1.min(), train.x1.max())\n",
    "\n",
    "plt.tight_layout()\n",
    "plt.savefig('docout/sections/localtoglobal/results/Approach1_decisionsurfaceexplainer_' + data + '.jpg', dpi=150, bbox_inches='tight', transparent=True, pad_inches=0)"
   ],
   "metadata": {
    "collapsed": false,
    "pycharm": {
     "name": "#%%\n"
    }
   }
  },
  {
   "cell_type": "code",
   "execution_count": null,
   "outputs": [],
   "source": [
    "fig, ax = plt.subplots(figsize=(55, 10))\n",
    "class_names = explainer.classes_\n",
    "colorss = [color_dict[data][x][0] for x in class_names]\n",
    "N = len(class_names)\n",
    "artists = plot_tree(explainer, fontsize=8, ax=ax,\n",
    "                    impurity=False, node_ids=True,\n",
    "                    feature_names=cols, class_names=class_names)\n",
    "ax.properties()['children'] = [replace_text(i) for i in ax.properties()['children']]\n",
    "for artist, impurity, value in zip(artists, explainer.tree_.impurity, explainer.tree_.value):\n",
    "    # let the max value decide the color; whiten the color depending on impurity (gini)\n",
    "    r, g, b = to_rgb(colorss[np.argmax(value)])\n",
    "    f = impurity * N / (N - 1) if N > 1 else 0\n",
    "    artist.get_bbox_patch().set_facecolor((f + (1 - f) * r, f + (1 - f) * g, f + (1 - f) * b))\n",
    "    artist.get_bbox_patch().set_edgecolor('black')\n",
    "plt.savefig('docout/sections/localtoglobal/results/Approach1_' + data + '_explainer.jpg', dpi=300, bbox_inches='tight',transparent=True, pad_inches=0)"
   ],
   "metadata": {
    "collapsed": false,
    "pycharm": {
     "name": "#%%\n"
    }
   }
  },
  {
   "cell_type": "code",
   "execution_count": null,
   "outputs": [],
   "source": [
    "rules = get_rules(explainer, ['x_1', 'x_2'], class_names)\n",
    "rules = '\\n'.join(rules)\n",
    "pyperclip.copy(rules)"
   ],
   "metadata": {
    "collapsed": false,
    "pycharm": {
     "name": "#%%\n"
    }
   }
  },
  {
   "cell_type": "markdown",
   "source": [
    "### Plot for Approach 1.2"
   ],
   "metadata": {
    "collapsed": false,
    "pycharm": {
     "name": "#%% md\n"
    }
   }
  },
  {
   "cell_type": "code",
   "execution_count": null,
   "outputs": [],
   "source": [
    "populationsize = 1000\n",
    "globaldata = getglobal(train, classname='difference', npoints=8, modelA=modelA, modelB=modelB,\n",
    "                       populationsize=populationsize, method=stratifiedrandominstances,\n",
    "                       random_state=23, discrete=['difference'], #5\n",
    "                       continuous=['x1', 'x2'])\n",
    "globaldata.columns = ['x1', 'x2']"
   ],
   "metadata": {
    "collapsed": false,
    "pycharm": {
     "name": "#%%\n"
    }
   }
  },
  {
   "cell_type": "code",
   "execution_count": null,
   "outputs": [],
   "source": [
    "with open('docout/sections/localtoglobal/res/approach2_neighborhood_' + data + '.pickle', 'wb') as handle:\n",
    "    pickle.dump(globaldata, handle, protocol=pickle.HIGHEST_PROTOCOL)"
   ],
   "metadata": {
    "collapsed": false,
    "pycharm": {
     "name": "#%%\n"
    }
   }
  },
  {
   "cell_type": "code",
   "execution_count": null,
   "outputs": [],
   "source": [
    "with open('docout/sections/localtoglobal/res/approach2_neighborhood_' + data + '.pickle', 'rb') as handle:\n",
    "    globaldata = pickle.load(handle)"
   ],
   "metadata": {
    "collapsed": false,
    "pycharm": {
     "name": "#%%\n"
    }
   }
  },
  {
   "cell_type": "code",
   "execution_count": null,
   "outputs": [],
   "source": [
    "fig, ax = plt.subplots(figsize=(10, 8))\n",
    "\n",
    "plt.xlabel('$x_1$')\n",
    "plt.ylabel('$x_2$')\n",
    "\n",
    "X0, X1 = train.x1, train.x2\n",
    "xx, yy = make_meshgrid(X0, X1, h=0.005)\n",
    "\n",
    "z1 = modelA.predict(np.c_[xx.ravel(), yy.ravel()])\n",
    "z1 = z1.reshape(xx.shape)\n",
    "z2 = modelB.predict(np.c_[xx.ravel(), yy.ravel()])\n",
    "z2 = z2.reshape(xx.shape)\n",
    "\n",
    "cntr1 = plot_contours(ax, modelA, xx, yy, levels=1, colors='black', linewidths=2, linestyles='dotted')\n",
    "cntr2 = plot_contours(ax, modelB, xx, yy, levels=1, colors='black', linewidths=1)\n",
    "\n",
    "h = [plt.plot([], [], ls=i, color='black')[0] for i in ['dotted', 'solid']]\n",
    "ax.legend(handles=h, labels=['Decision Boundary $M_A$', 'Decision Boundary $M_B$'],\n",
    "          loc='lower left', title='', frameon=False, bbox_to_anchor=(0, -0.12),\n",
    "          ncol=4)\n",
    "\n",
    "ax.scatter(globaldata.x1, globaldata.x2, c='black', alpha=0.3, s=6)\n",
    "choseninstancesindex = np.unique(globaldata.index.get_level_values(0))\n",
    "choseninstances = train.iloc[choseninstancesindex]\n",
    "ax.scatter(choseninstances.x1, choseninstances.x2, c='#D90429', s=150, marker='X')\n",
    "\n",
    "ax.set_facecolor('#FFFFFF')\n",
    "plt.tight_layout()\n",
    "plt.grid(True, color='#F3F3F3')\n",
    "\n",
    "ax.set_xlim(X0.min(), X0.max())\n",
    "ax.set_ylim(train.x2.min(), train.x2.max())\n",
    "\n",
    "plt.savefig('docout/sections/localtoglobal/results/Approach2_generatedneighborhoods_' + data + '.jpg', dpi=150,bbox_inches='tight', transparent=True, pad_inches=0)"
   ],
   "metadata": {
    "collapsed": false,
    "pycharm": {
     "name": "#%%\n"
    }
   }
  },
  {
   "cell_type": "code",
   "execution_count": null,
   "outputs": [],
   "source": [
    "predA = modelA.predict(globaldata.values)\n",
    "predB = modelB.predict(globaldata.values)\n",
    "difference = np.array([str(x1) + '|' + str(x2) for x1, x2 in zip(predA, predB)])\n",
    "explainer = DecisionTreeClassifier(random_state=0)\n",
    "explainer.fit(globaldata.values, difference)"
   ],
   "metadata": {
    "collapsed": false,
    "pycharm": {
     "name": "#%%\n"
    }
   }
  },
  {
   "cell_type": "code",
   "execution_count": null,
   "outputs": [],
   "source": [
    "X0, X1 = globaldata.x1, globaldata.x2\n",
    "xx, yy = make_meshgrid(X0, X1, h=0.005)\n",
    "z = explainer.predict(np.c_[xx.ravel(), yy.ravel()])\n",
    "d=LabelEncoder()\n",
    "d.fit(np.array([x for x in color_dict[data].keys()]))\n",
    "z = d.transform(z)\n",
    "z = z.reshape(xx.shape)"
   ],
   "metadata": {
    "collapsed": false,
    "pycharm": {
     "name": "#%%\n"
    }
   }
  },
  {
   "cell_type": "code",
   "execution_count": null,
   "outputs": [],
   "source": [
    "#Evaluation:\n",
    "if data == 'running1':\n",
    "    dataname = '\"Sine\"'\n",
    "else:\n",
    "    dataname = '\"Spiral\"'\n",
    "pred = explainer.predict(test[cols].values)\n",
    "with open(performancefile, 'a') as myfile:\n",
    "    line = ' '.join([dataname,\n",
    "                     '\"Approach 2: Class-stratified sampling\"',\n",
    "                     str(explainer.get_depth()),\n",
    "                     str(explainer.get_n_leaves()),\n",
    "                     str(metrics.accuracy_score(test.difference, pred)),\n",
    "                     str(metrics.precision_score(test.difference, pred, average='macro')),\n",
    "                     str(metrics.recall_score(test.difference, pred, average='macro'))\n",
    "                     ])\n",
    "    myfile.write(line + '\\n')"
   ],
   "metadata": {
    "collapsed": false,
    "pycharm": {
     "name": "#%%\n"
    }
   }
  },
  {
   "cell_type": "code",
   "execution_count": null,
   "outputs": [],
   "source": [
    "ordering = [x for x in color_dict[data].keys()]\n",
    "keys = list(ordering)\n",
    "ordering.sort()\n",
    "ordering = [keys.index(x) for x in ordering]"
   ],
   "metadata": {
    "collapsed": false,
    "pycharm": {
     "name": "#%%\n"
    }
   }
  },
  {
   "cell_type": "code",
   "execution_count": null,
   "outputs": [],
   "source": [
    "values = [x[0] for x in color_dict[data].values()]\n",
    "orderedmap = [values[i] for i in ordering]\n",
    "MyCmap = colors.ListedColormap(orderedmap)\n",
    "fig, ax = plt.subplots(figsize=(10, 8))\n",
    "\n",
    "cntr1 = plot_contours(ax, modelA, xx, yy, levels=1, colors='black', linewidths=2, linestyles='dotted')\n",
    "cntr2 = plot_contours(ax, modelB, xx, yy, levels=1, colors='black', linewidths=1)\n",
    "\n",
    "cp = ax.contourf(xx, yy, z + 0.1, alpha=0.7, cmap=MyCmap)\n",
    "\n",
    "h = [plt.plot([], [], color=i[0], linewidth=10, label=j)[0] for j, i in color_dict[data].items()]\n",
    "ax.legend(handles=h, loc='lower left', title='Prediction Explainer', frameon=False, bbox_to_anchor=(0, -0.12),\n",
    "          ncol=9)\n",
    "\n",
    "ax.set_facecolor('#FFFFFF')\n",
    "ax.set_xlabel('$x_1$')\n",
    "ax.set_ylabel('$x_2$')\n",
    "ax.grid(True, color='#F3F3F3')\n",
    "\n",
    "ax.set_ylim(train.x2.min(), train.x2.max())\n",
    "ax.set_xlim(train.x1.min(), train.x1.max())\n",
    "\n",
    "plt.tight_layout()\n",
    "plt.savefig('docout/sections/localtoglobal/results/Approach2_decisionsurfaceexplainer_' + data + '.jpg', dpi=150,bbox_inches='tight', transparent=True, pad_inches=0)"
   ],
   "metadata": {
    "collapsed": false,
    "pycharm": {
     "name": "#%%\n"
    }
   }
  },
  {
   "cell_type": "code",
   "execution_count": null,
   "outputs": [],
   "source": [
    "fig, ax = plt.subplots(figsize=(57, 10))\n",
    "class_names = explainer.classes_\n",
    "colorss = [color_dict[data][x][0] for x in class_names]\n",
    "N = len(class_names)\n",
    "artists = plot_tree(explainer, fontsize=8, ax=ax,\n",
    "                    impurity=False, node_ids=True,\n",
    "                    feature_names=cols, class_names=class_names)\n",
    "ax.properties()['children'] = [replace_text(i) for i in ax.properties()['children']]\n",
    "for artist, impurity, value in zip(artists, explainer.tree_.impurity, explainer.tree_.value):\n",
    "    # let the max value decide the color; whiten the color depending on impurity (gini)\n",
    "    r, g, b = to_rgb(colorss[np.argmax(value)])\n",
    "    f = impurity * N / (N - 1) if N > 1 else 0\n",
    "    artist.get_bbox_patch().set_facecolor((f + (1 - f) * r, f + (1 - f) * g, f + (1 - f) * b))\n",
    "    artist.get_bbox_patch().set_edgecolor('black')\n",
    "plt.savefig('docout/sections/localtoglobal/results/Approach2_' + data + '_explainer.jpg', dpi=300, bbox_inches='tight',\n",
    "            transparent=True, pad_inches=0)"
   ],
   "metadata": {
    "collapsed": false,
    "pycharm": {
     "name": "#%%\n"
    }
   }
  },
  {
   "cell_type": "code",
   "execution_count": null,
   "outputs": [],
   "source": [
    "rules = get_rules(explainer, ['x_1', 'x_2'], class_names)\n",
    "rules = '\\n'.join(rules)\n",
    "pyperclip.copy(rules)"
   ],
   "metadata": {
    "collapsed": false,
    "pycharm": {
     "name": "#%%\n"
    }
   }
  },
  {
   "cell_type": "markdown",
   "source": [
    "### Plot for Approach 1.3"
   ],
   "metadata": {
    "collapsed": false
   }
  },
  {
   "cell_type": "code",
   "execution_count": null,
   "outputs": [],
   "source": [
    "#create hierarchical clustering:\n",
    "d = StandardScaler()\n",
    "scaler = d.fit(train[cols].values)\n",
    "trainnorm = scaler.transform(train[cols].values)\n",
    "\n",
    "subtrain = trainnorm[train.difference == '1|0']\n",
    "linked = linkage(subtrain, 'single')"
   ],
   "metadata": {
    "collapsed": false,
    "pycharm": {
     "name": "#%%\n"
    }
   }
  },
  {
   "cell_type": "code",
   "execution_count": null,
   "outputs": [],
   "source": [
    "#Plot for running1\n",
    "x = np.arange(train.x1.min(),train.x1.max(),0.1)\n",
    "bba = 4*np.sin(x)\n",
    "bbb = np.sin(x)/x\n",
    "\n",
    "X0, X1 = train.x1, train.x2\n",
    "xx, yy = make_meshgrid(np.array([X0.min(),X0.max()]), X1, h = 0.05)\n",
    "z1 = modelA.predict(np.c_[xx.ravel(), yy.ravel()])\n",
    "z1 = z1.reshape(xx.shape)\n",
    "z2 = modelB.predict(np.c_[xx.ravel(), yy.ravel()])\n",
    "z2 = z2.reshape(xx.shape)\n",
    "\n",
    "res = (z1 == 1) & (z2 == 0)\n",
    "res = res.astype(int).astype(str)\n",
    "\n",
    "gs = gridspec.GridSpec(1, 2)\n",
    "fig = plt.figure(figsize=(16, 7))\n",
    "\n",
    "\n",
    "set_link_color_palette(plot_colors)\n",
    "ax2 = plt.subplot(gs[0, 1])\n",
    "D = dendrogram(linked, ax=ax2, no_labels=True, color_threshold=0.64,\n",
    "           above_threshold_color='k')\n",
    "ax2.set_facecolor('#FFFFFF')\n",
    "ax2.grid(False)\n",
    "\n",
    "tmp = pd.DataFrame({'index': D['leaves'],'nodecolor': D['leaves_color_list']})\n",
    "\n",
    "ax1 = plt.subplot(gs[0, 0])\n",
    "ax1.plot(x, bba, ':', color = 'black')\n",
    "ax1.plot(x, bbb, '-', color = 'black')\n",
    "ax1.contourf(xx,yy,res, alpha = 0.1, cmap = plt.cm.binary)\n",
    "\n",
    "\n",
    "h = [plt.plot([],[], ls = 'dotted', color = 'black')[0],\n",
    "     plt.plot([],[], ls = 'solid', color = 'black')[0],\n",
    "     plt.plot([],[], color = '#BEBEBE', linewidth=10)[0]\n",
    "     ]\n",
    "ax1.legend(handles=h, labels=['Decision Boundary $M_A$', 'Decision Boundary $M_B$', 'Region: $M_A$: 1| $M_B$: 0'],\n",
    "           loc='lower left', title='', frameon = False, bbox_to_anchor=(0,-0.2), ncol = 2)\n",
    "\n",
    "subddata = train.loc[train.difference == '1|0', cols]\n",
    "\n",
    "for col in tmp.nodecolor.unique():\n",
    "    ind = tmp.loc[tmp.nodecolor == col, 'index']\n",
    "    ax1.scatter(subddata.iloc[ind]['x1'],subddata.iloc[ind]['x2'],\n",
    "            color = col, s=15)\n",
    "\n",
    "ax1.scatter(train.loc[train.difference != '1|0', 'x1'],\n",
    "            train.loc[train.difference != '1|0', 'x2'],\n",
    "            color = 'black', s=10, alpha = 0.1)\n",
    "\n",
    "ax1.set_facecolor('#FFFFFF')\n",
    "ax1.set_xlabel('$x_1$')\n",
    "ax1.set_ylabel('$x_2$')\n",
    "ax1.grid(True, color = '#F3F3F3')\n",
    "\n",
    "plt.savefig('docout/sections/localtoglobal/results/Approach3_' + data + \"_colored.jpg\", dpi=150,bbox_inches='tight')"
   ],
   "metadata": {
    "collapsed": false,
    "pycharm": {
     "name": "#%%\n"
    }
   }
  },
  {
   "cell_type": "code",
   "execution_count": null,
   "outputs": [],
   "source": [
    "som = minisom.MiniSom(20, 20, trainnorm.shape[1], sigma=1, learning_rate=1, random_seed = 1)\n",
    "som.train(trainnorm, 100000, verbose = True)"
   ],
   "metadata": {
    "collapsed": false,
    "pycharm": {
     "name": "#%%\n"
    }
   }
  },
  {
   "cell_type": "code",
   "execution_count": null,
   "outputs": [],
   "source": [
    "#U-Matrix.\n",
    "fig, ax = plt.subplots(figsize = (10,11))\n",
    "plt.grid(False)\n",
    "im = plt.pcolor(som.distance_map().T, cmap='Greys')  # plotting the distance map as background\n",
    "\n",
    "ax.set_xlabel('')\n",
    "ax.set_ylabel('')\n",
    "ax.set_yticklabels([])\n",
    "ax.set_xticklabels([])\n",
    "ax.set_yticks([])\n",
    "ax.set_xticks([])\n",
    "\n",
    "plt.subplots_adjust(bottom=0.15)\n",
    "cax = plt.axes([0.1, 0.1, 0.8, 0.017])\n",
    "plt.colorbar(cax=cax, orientation = 'horizontal')\n",
    "\n",
    "plt.savefig(\"docout/sections/localtoglobal/results/SOMprojection_UMatrix_\" + data + \".jpg\", dpi=150, bbox_inches='tight', transparent=True, pad_inches=0)"
   ],
   "metadata": {
    "collapsed": false,
    "pycharm": {
     "name": "#%%\n"
    }
   }
  },
  {
   "cell_type": "code",
   "execution_count": null,
   "outputs": [],
   "source": [
    "Z = np.zeros((20, 20))\n",
    "fig, ax = plt.subplots(figsize=(10, 10))\n",
    "\n",
    "collector_color = dict.fromkeys(color_dict[data].keys())\n",
    "collector_marker = dict.fromkeys(color_dict[data].keys())\n",
    "\n",
    "w_x, w_y = zip(*[som.winner(d) for d in trainnorm])\n",
    "for i in np.arange(som._weights.shape[0]):\n",
    "    for j in np.arange(som._weights.shape[1]):\n",
    "        idx = np.logical_and(w_x == i, w_y == j)\n",
    "        tmp = train.difference[idx]\n",
    "        if len(tmp) > 0:\n",
    "            feature = tmp.value_counts().idxmax()\n",
    "            collector_color[feature] = plt.plot([i + .5], [j + .5], color=color_dict[data][feature][0],\n",
    "                                                marker='s', markersize=20, linewidth = 0)\n",
    "            collector_marker[feature] = plt.plot([i + .5], [j + .5], marker=color_dict[data][feature][1][0],\n",
    "                                                 color=color_dict[data][feature][1][1], markersize=13,\n",
    "                                                 alpha = 0.7, markerfacecolor = 'None',linewidth = 0)\n",
    "\n",
    "collector_color = {k: v for k, v in collector_color.items() if v is not None}\n",
    "collector_marker = {k: v for k, v in collector_marker.items() if v is not None}\n",
    "\n",
    "leg = plt.legend([(collector_color[j][0], collector_marker[j][0]) for j in collector_color.keys()],\n",
    "                 [j for j in collector_color.keys()],\n",
    "                 title='$M_A$ | $M_B$', frameon=False, ncol=5, loc='lower left',bbox_to_anchor=(0, -0.1)\n",
    "                 )\n",
    "leg._legend_box.align = \"left\"\n",
    "\n",
    "plt.xlim([0, 20])\n",
    "plt.ylim([0, 20])\n",
    "\n",
    "plt.grid(False)\n",
    "\n",
    "ax.set_xlabel('')\n",
    "ax.set_ylabel('')\n",
    "ax.set_yticklabels([])\n",
    "ax.set_xticklabels([])\n",
    "ax.set_yticks([])\n",
    "ax.set_xticks([])\n",
    "\n",
    "plt.savefig('docout/sections/localtoglobal/results/SOMprojection_ClassColored_' + data + '.jpg',\n",
    "    dpi=150, bbox_inches='tight', transparent=True, pad_inches=0)"
   ],
   "metadata": {
    "collapsed": false,
    "pycharm": {
     "name": "#%%\n"
    }
   }
  },
  {
   "cell_type": "markdown",
   "source": [
    "### Plot of chosen instances"
   ],
   "metadata": {
    "collapsed": false,
    "pycharm": {
     "name": "#%% md\n"
    }
   }
  },
  {
   "cell_type": "code",
   "execution_count": null,
   "outputs": [],
   "source": [
    "#draw dendrograms to get t\n",
    "differenceclasses = train.difference.unique()\n",
    "differenceclasses = differenceclasses[~np.isin(differenceclasses, ['0|0', '1|1', '2|2'])]\n",
    "linkagetype = 'single'\n",
    "linked = []\n",
    "for value in differenceclasses:\n",
    "    subtrain = trainnorm[train.difference == value]\n",
    "    linked.append(linkage(subtrain, linkagetype))\n",
    "\n",
    "if data == 'running2':\n",
    "    gs = gridspec.GridSpec(2, 3)\n",
    "    fig = plt.figure(figsize=(12, 6))\n",
    "    t={'1|0': 0.1,'2|0': 1,'2|1': 0.15,'0|2': 0.15, '0|1':1, '1|2': 0.15}\n",
    "elif data == 'running1':\n",
    "    gs = gridspec.GridSpec(1, 2)\n",
    "    fig = plt.figure(figsize=(12, 3))\n",
    "    t={'1|0': 0.64, '0|1':0.3}\n",
    "\n",
    "for index, value in enumerate(differenceclasses):\n",
    "    col = int(np.mod(index, 3))\n",
    "    row = int(np.floor(index/3))\n",
    "    ax = pl.subplot(gs[row, col])\n",
    "\n",
    "    set_link_color_palette(plot_colors)\n",
    "    D = dendrogram(linked[index], ax=ax, no_labels=True, color_threshold=t[value], above_threshold_color='k', truncate_mode=None)\n",
    "    ax.axhline(y = t[value], linestyle = 'dashed', color = 'black', alpha = 0.5)\n",
    "    ax.set_facecolor('#FFFFFF')\n",
    "    ax.set_title('Region ($M_A|M_B$): ' + value, fontsize = 10)\n",
    "    ax.grid(False)\n",
    "plt.savefig('docout/sections/localtoglobal/results/Approach3_Dendrograms_' + data + '.jpg',dpi=150, bbox_inches='tight', transparent=True, pad_inches=0)"
   ],
   "metadata": {
    "collapsed": false,
    "pycharm": {
     "name": "#%%\n"
    }
   }
  },
  {
   "cell_type": "code",
   "execution_count": null,
   "outputs": [],
   "source": [
    "if data == 'running2':\n",
    "    c={'1|0':\n",
    "           ['black','#85B832','#ce2029'],\n",
    "       '2|0':\n",
    "           ['#85B832','#ce2029'],\n",
    "       '2|1':\n",
    "           ['#85B832','#ce2029'],\n",
    "       '0|2':\n",
    "           ['black','#85B832'],\n",
    "       '0|1':\n",
    "           ['#85B832'],\n",
    "       '1|2':\n",
    "           ['black','#85B832','#ce2029']\n",
    "       }\n",
    "    gs = gridspec.GridSpec(2, 3)\n",
    "    fig = plt.figure(figsize=(12, 6))\n",
    "\n",
    "    X0, X1 = train.x1, train.x2\n",
    "    xx, yy = make_meshgrid(X0, X1, h = 0.005)\n",
    "\n",
    "    z1 = modelA.predict(np.c_[xx.ravel(), yy.ravel()])\n",
    "    z1 = z1.reshape(xx.shape)\n",
    "    z2 = modelB.predict(np.c_[xx.ravel(), yy.ravel()])\n",
    "    z2 = z2.reshape(xx.shape)\n",
    "\n",
    "    for index, value in enumerate(differenceclasses):\n",
    "        col = int(np.mod(index, 3))\n",
    "        row = int(np.floor(index/3))\n",
    "        ax = pl.subplot(gs[row, col])\n",
    "\n",
    "        cntr1 = plot_contours(ax, modelA, xx, yy, levels = 1,colors = 'black',linewidths = 2, linestyles = 'dotted')\n",
    "        cntr2 = plot_contours(ax, modelB, xx, yy, levels = 1, colors = 'black',linewidths = 1)\n",
    "\n",
    "        clusterassignment = fcluster(linked[index], t=t[value], criterion='distance')\n",
    "        clusters = np.unique(clusterassignment).tolist()\n",
    "        clusters.sort()\n",
    "\n",
    "        traindifference = train.loc[train.difference == value]\n",
    "        colindex = 0\n",
    "        for i in clusters:\n",
    "            tmp = traindifference.loc[clusterassignment == i]\n",
    "            if len(tmp) == 1:\n",
    "                ax.scatter(tmp.x1, tmp.x2, c='black',  s=6)\n",
    "            else:\n",
    "                ax.scatter(tmp.x1, tmp.x2, c=plot_colors[colindex],  s=6)\n",
    "                colindex = colindex +1\n",
    "\n",
    "        tmp = train.loc[~(train.difference == value)]\n",
    "        ax.scatter(tmp.x1, tmp.x2, c='black', alpha = 0.1, s=6)\n",
    "\n",
    "        ax.set_facecolor('#FFFFFF')\n",
    "        ax.set_title('Region ($M_A|M_B$): ' + value, fontsize = 10)\n",
    "\n",
    "    plt.savefig('docout/sections/localtoglobal/results/Approach3_clusteredregions_' + data + '.jpg',dpi=150, bbox_inches='tight', transparent=True, pad_inches=0)\n",
    "elif data == 'running1':\n",
    "    c={'1|0':\n",
    "           ['#2f4b7c','black','#ffa600','#85B832','#ce2029'],\n",
    "       '0|1':\n",
    "           ['#ffa600', 'black','#85B832','#ce2029','black','#2f4b7c']}\n",
    "    gs = gridspec.GridSpec(1, 2)\n",
    "    fig = plt.figure(figsize=(12, 3))\n",
    "\n",
    "    for index, value in enumerate(differenceclasses):\n",
    "        col = int(np.mod(index, 3))\n",
    "        row = int(np.floor(index/3))\n",
    "        ax = pl.subplot(gs[row, col])\n",
    "\n",
    "        x = np.arange(train.x1.min(),train.x1.max(),0.1)\n",
    "        bba = 4*np.sin(x)\n",
    "        bbb = np.sin(x)/x\n",
    "\n",
    "        lines = []\n",
    "        lines += ax.plot(x, bba, ':', color = 'black')\n",
    "        lines += ax.plot(x, bbb, '-', color = 'black')\n",
    "\n",
    "        clusterassignment = fcluster(linked[index], t=t[value], criterion='distance')\n",
    "        clusterassignment = pd.factorize(clusterassignment)[0]\n",
    "        clusters = np.unique(clusterassignment).tolist()\n",
    "\n",
    "        traindifference = train.loc[train.difference == value]\n",
    "\n",
    "        for i in clusters:\n",
    "            tmp = traindifference.loc[clusterassignment == i]\n",
    "            ax.scatter(tmp.x1, tmp.x2, c=c[value][i-1], s=6)\n",
    "        tmp = train.loc[~(train.difference == value)]\n",
    "        ax.scatter(tmp.x1, tmp.x2, c='black', alpha = 0.1, s=6)\n",
    "\n",
    "        ax.set_facecolor('#FFFFFF')\n",
    "        ax.set_title('Region ($M_A|M_B$): ' + value, fontsize = 10)\n",
    "    plt.savefig('docout/sections/localtoglobal/results/Approach3_clusteredregions_' + data + '.jpg',dpi=150, bbox_inches='tight', transparent=True, pad_inches=0)"
   ],
   "metadata": {
    "collapsed": false,
    "pycharm": {
     "name": "#%%\n"
    }
   }
  },
  {
   "cell_type": "code",
   "execution_count": null,
   "outputs": [],
   "source": [
    "t={'1|0': 0.64, '0|1':0.3}"
   ],
   "metadata": {
    "collapsed": false,
    "pycharm": {
     "name": "#%%\n"
    }
   }
  },
  {
   "cell_type": "code",
   "execution_count": null,
   "outputs": [],
   "source": [
    "populationsize = 1000\n",
    "globaldata = getglobal(train, classname='difference', npoints=0, modelA=modelA, modelB=modelB,\n",
    "                       populationsize=populationsize, method=clusterbasedinstances,\n",
    "                       random_state=9, discrete = ['difference'], #2\n",
    "                       continuous=['x1', 'x2'], t=t, linkagetype='single')\n",
    "globaldata.columns = ['x1', 'x2']"
   ],
   "metadata": {
    "collapsed": false,
    "pycharm": {
     "name": "#%%\n"
    }
   }
  },
  {
   "cell_type": "code",
   "execution_count": null,
   "outputs": [],
   "source": [
    "with open('docout/sections/localtoglobal/res/approach3_neighborhood_' + data + '.pickle', 'wb') as handle:\n",
    "    pickle.dump(globaldata, handle, protocol=pickle.HIGHEST_PROTOCOL)"
   ],
   "metadata": {
    "collapsed": false,
    "pycharm": {
     "name": "#%%\n"
    }
   }
  },
  {
   "cell_type": "code",
   "execution_count": null,
   "outputs": [],
   "source": [
    "with open('docout/sections/localtoglobal/res/approach3_neighborhood_' + data + '.pickle', 'rb') as handle:\n",
    "    globaldata = pickle.load(handle)"
   ],
   "metadata": {
    "collapsed": false,
    "pycharm": {
     "name": "#%%\n"
    }
   }
  },
  {
   "cell_type": "code",
   "execution_count": null,
   "outputs": [],
   "source": [
    "fig, ax = plt.subplots(figsize = (10,8))\n",
    "\n",
    "plt.xlabel('$x_1$')\n",
    "plt.ylabel('$x_2$')\n",
    "\n",
    "X0, X1 = train.x1, train.x2\n",
    "xx, yy = make_meshgrid(X0, X1, h = 0.005)\n",
    "\n",
    "z1 = modelA.predict(np.c_[xx.ravel(), yy.ravel()])\n",
    "z1 = z1.reshape(xx.shape)\n",
    "z2 = modelB.predict(np.c_[xx.ravel(), yy.ravel()])\n",
    "z2 = z2.reshape(xx.shape)\n",
    "\n",
    "cntr1 = plot_contours(ax, modelA, xx, yy, levels = 1,colors = 'black',linewidths = 2, linestyles = 'dotted')\n",
    "cntr2 = plot_contours(ax, modelB, xx, yy, levels = 1, colors = 'black',linewidths = 1)\n",
    "\n",
    "h = [plt.plot([],[], ls = i, color = 'black')[0] for i in ['dotted', 'solid']]\n",
    "ax.legend(handles=h, labels=['Decision Boundary $M_A$', 'Decision Boundary $M_B$'],\n",
    "          loc='lower left', title='', frameon=False, bbox_to_anchor=(0, -0.12),\n",
    "          ncol=4)\n",
    "\n",
    "#add generated neighborhoods:\n",
    "ax.scatter(globaldata.x1,globaldata.x2, c='black', alpha = 0.3, s=10)\n",
    "\n",
    "#add selected instances\n",
    "choseninstancesindex = np.unique(globaldata.index.get_level_values(0))\n",
    "choseninstances = train.iloc[choseninstancesindex]\n",
    "ax.scatter(choseninstances.x1,choseninstances.x2, c='#D90429', s=150, marker = 'X')\n",
    "\n",
    "ax.set_facecolor('#FFFFFF')\n",
    "plt.tight_layout()\n",
    "plt.grid(True, color = '#F3F3F3')\n",
    "\n",
    "ax.set_xlim(X0.min(),X0.max())\n",
    "ax.set_ylim(train.x2.min(),train.x2.max())\n",
    "\n",
    "plt.savefig('docout/sections/localtoglobal/results/Approach3_generatedneighborhoods_' + data + '.jpg',dpi=150, bbox_inches='tight',transparent=True,pad_inches=0)"
   ],
   "metadata": {
    "collapsed": false,
    "pycharm": {
     "name": "#%%\n"
    }
   }
  },
  {
   "cell_type": "code",
   "execution_count": null,
   "outputs": [],
   "source": [
    "predA = modelA.predict(globaldata.values)\n",
    "predB = modelB.predict(globaldata.values)\n",
    "difference = np.array([str(x1) + '|' + str(x2) for x1,x2 in zip(predA,predB)])"
   ],
   "metadata": {
    "collapsed": false,
    "pycharm": {
     "name": "#%%\n"
    }
   }
  },
  {
   "cell_type": "code",
   "execution_count": null,
   "outputs": [],
   "source": [
    "explainer = DecisionTreeClassifier(random_state=0)\n",
    "explainer.fit(globaldata.values, difference)"
   ],
   "metadata": {
    "collapsed": false,
    "pycharm": {
     "name": "#%%\n"
    }
   }
  },
  {
   "cell_type": "code",
   "execution_count": null,
   "outputs": [],
   "source": [
    "#Evaluation:\n",
    "if data == 'running1':\n",
    "    dataname = '\"Sine\"'\n",
    "else:\n",
    "    dataname = '\"Spiral\"'\n",
    "pred = explainer.predict(test[cols].values)\n",
    "with open(performancefile, 'a') as myfile:\n",
    "    line = ' '.join([dataname,\n",
    "                     '\"Approach 3: Cluster-stratified sampling\"',\n",
    "                     str(explainer.get_depth()),\n",
    "                     str(explainer.get_n_leaves()),\n",
    "                     str(metrics.accuracy_score(test.difference, pred)),\n",
    "                     str(metrics.precision_score(test.difference, pred, average='macro')),\n",
    "                     str(metrics.recall_score(test.difference, pred, average='macro'))\n",
    "                     ])\n",
    "    myfile.write(line + '\\n')"
   ],
   "metadata": {
    "collapsed": false,
    "pycharm": {
     "name": "#%%\n"
    }
   }
  },
  {
   "cell_type": "code",
   "execution_count": null,
   "outputs": [],
   "source": [
    "X0, X1 = train.x1, train.x2\n",
    "xx, yy = make_meshgrid(X0, X1, h = 0.005)\n",
    "z = explainer.predict(np.c_[xx.ravel(), yy.ravel()])\n",
    "d=LabelEncoder()\n",
    "d.fit(np.array([x for x in color_dict[data].keys()]))\n",
    "z = d.transform(z)\n",
    "z = z.reshape(xx.shape)"
   ],
   "metadata": {
    "collapsed": false,
    "pycharm": {
     "name": "#%%\n"
    }
   }
  },
  {
   "cell_type": "code",
   "execution_count": null,
   "outputs": [],
   "source": [
    "ordering = [x for x in color_dict[data].keys()]\n",
    "keys = list(ordering)\n",
    "ordering.sort()\n",
    "ordering = [keys.index(x) for x in ordering]"
   ],
   "metadata": {
    "collapsed": false,
    "pycharm": {
     "name": "#%%\n"
    }
   }
  },
  {
   "cell_type": "code",
   "execution_count": null,
   "outputs": [],
   "source": [
    "values = [x[0] for x in color_dict[data].values()]\n",
    "orderedmap = [values[i] for i in ordering]\n",
    "MyCmap=colors.ListedColormap(orderedmap)\n",
    "fig, ax = plt.subplots(figsize = (10,8))\n",
    "\n",
    "cntr1 = plot_contours(ax, modelA, xx, yy, levels = 1,colors = 'black',linewidths = 2, linestyles = 'dotted')\n",
    "cntr2 = plot_contours(ax, modelB, xx, yy, levels = 1, colors = 'black',linewidths = 1)\n",
    "\n",
    "cp = ax.contourf(xx, yy, z+0.1, alpha = 0.7, cmap=MyCmap)\n",
    "\n",
    "h = [plt.plot([],[], color = i[0], linewidth=10, label = j)[0] for j,i in color_dict[data].items()]\n",
    "ax.legend(handles=h, loc='lower left', title='Prediction Explainer', frameon = False, bbox_to_anchor=(0,-0.12), ncol = 9)\n",
    "\n",
    "ax.set_facecolor('#FFFFFF')\n",
    "ax.set_xlabel('$x_1$')\n",
    "ax.set_ylabel('$x_2$')\n",
    "ax.grid(True, color = '#F3F3F3')\n",
    "\n",
    "ax.set_ylim(train.x2.min(), train.x2.max())\n",
    "ax.set_xlim(train.x1.min(), train.x1.max())\n",
    "\n",
    "plt.tight_layout()\n",
    "plt.savefig('docout/' + data + '.jpg', dpi=150, bbox_inches='tight',transparent=True,pad_inches=0)"
   ],
   "metadata": {
    "collapsed": false,
    "pycharm": {
     "name": "#%%\n"
    }
   }
  },
  {
   "cell_type": "code",
   "execution_count": null,
   "outputs": [],
   "source": [
    "fig, ax = plt.subplots(figsize=(55, 10))\n",
    "class_names = explainer.classes_\n",
    "colorss = [color_dict[data][x][0] for x in class_names]\n",
    "N = len(class_names)\n",
    "artists = plot_tree(explainer, fontsize=8, ax=ax,\n",
    "                    impurity=False, node_ids=True,\n",
    "                    feature_names=cols, class_names=class_names)\n",
    "ax.properties()['children'] = [replace_text(i) for i in ax.properties()['children']]\n",
    "for artist, impurity, value in zip(artists, explainer.tree_.impurity, explainer.tree_.value):\n",
    "    # let the max value decide the color; whiten the color depending on impurity (gini)\n",
    "    r, g, b = to_rgb(colorss[np.argmax(value)])\n",
    "    f = impurity * N / (N - 1) if N > 1 else 0\n",
    "    artist.get_bbox_patch().set_facecolor((f + (1 - f) * r, f + (1 - f) * g, f + (1 - f) * b))\n",
    "    artist.get_bbox_patch().set_edgecolor('black')\n",
    "plt.savefig('docout/sections/localtoglobal/results/Approach3_' + data + '_explainer.jpg', dpi=300, bbox_inches='tight',\n",
    "            transparent=True, pad_inches=0)"
   ],
   "metadata": {
    "collapsed": false,
    "pycharm": {
     "name": "#%%\n"
    }
   }
  },
  {
   "cell_type": "code",
   "execution_count": null,
   "outputs": [],
   "source": [
    "rules = get_rules(explainer, ['x_1', 'x_2'], class_names)\n",
    "rules = '\\n'.join(rules)\n",
    "pyperclip.copy(rules)"
   ],
   "metadata": {
    "collapsed": false,
    "pycharm": {
     "name": "#%%\n"
    }
   }
  }
 ],
 "metadata": {
  "kernelspec": {
   "display_name": "diroc",
   "language": "python",
   "name": "diroc"
  },
  "language_info": {
   "codemirror_mode": {
    "name": "ipython",
    "version": 3
   },
   "file_extension": ".py",
   "mimetype": "text/x-python",
   "name": "python",
   "nbconvert_exporter": "python",
   "pygments_lexer": "ipython3",
   "version": "3.9.9"
  }
 },
 "nbformat": 4,
 "nbformat_minor": 5
}