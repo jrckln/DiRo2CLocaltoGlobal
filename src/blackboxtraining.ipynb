{
 "cells": [
  {
   "cell_type": "code",
   "execution_count": null,
   "metadata": {
    "collapsed": true
   },
   "outputs": [],
   "source": [
    "import sys\n",
    "import os\n",
    "sys.path.append(os.getcwd() + '/diro2c/')\n",
    "sys.path.append(os.getcwd() + '/data/')"
   ]
  },
  {
   "cell_type": "code",
   "execution_count": null,
   "outputs": [],
   "source": [
    "import pandas as pd\n",
    "from data.getdata import loaddata\n",
    "from data.split3fold import split3fold\n",
    "import matplotlib.pyplot as plt\n",
    "from sklearn.model_selection import GridSearchCV\n",
    "from sklearn.metrics import accuracy_score, precision_score, recall_score\n",
    "from data.runningexampleblackboxes import *\n",
    "import pickle\n",
    "import numpy as np\n",
    "from sklearn import svm\n",
    "from sklearn.naive_bayes import GaussianNB\n",
    "from sklearn.inspection import permutation_importance\n",
    "\n",
    "plt.style.use('ggplot')"
   ],
   "metadata": {
    "collapsed": false,
    "pycharm": {
     "name": "#%%\n"
    }
   }
  },
  {
   "cell_type": "code",
   "execution_count": null,
   "outputs": [],
   "source": [
    "param_grid_SVM = {\n",
    "    'C':[0.1,1,10, 100],\n",
    "    'kernel':['rbf','sigmoid','linear'],\n",
    "    'gamma': ['scale', 'auto']}\n",
    "\n",
    "param_grid_NB = {\n",
    "    'var_smoothing': np.logspace(0,-9, num=10)\n",
    "}"
   ],
   "metadata": {
    "collapsed": false,
    "pycharm": {
     "name": "#%%\n"
    }
   }
  },
  {
   "cell_type": "markdown",
   "source": [
    "### Bank Marketing dataset"
   ],
   "metadata": {
    "collapsed": false
   }
  },
  {
   "cell_type": "code",
   "execution_count": null,
   "outputs": [],
   "source": [
    "dataA, dataB, cols, discrete, continuous, le = loaddata('bankmarketing')\n",
    "blackboxtrainA, trainA, testA = split3fold(dataA, 0.4, 0.2, random_state=1)\n",
    "blackboxtrainB, trainB, testB = split3fold(dataB, 0.4, 0.2, random_state=1)"
   ],
   "metadata": {
    "collapsed": false,
    "pycharm": {
     "name": "#%%\n"
    }
   }
  },
  {
   "cell_type": "markdown",
   "source": [
    "#### Training"
   ],
   "metadata": {
    "collapsed": false
   }
  },
  {
   "cell_type": "markdown",
   "source": [
    "##### Data A"
   ],
   "metadata": {
    "collapsed": false,
    "pycharm": {
     "name": "#%% md\n"
    }
   }
  },
  {
   "cell_type": "code",
   "execution_count": null,
   "outputs": [],
   "source": [
    "svmA = svm.SVC(random_state=1)\n",
    "grid_searchA = GridSearchCV(estimator = svmA, param_grid = param_grid_SVM, cv = 3, verbose = 4)\n",
    "CV_svmA = grid_searchA.fit(blackboxtrainA[cols].values, blackboxtrainA['y'].values)\n",
    "print(CV_svmA.best_params_)"
   ],
   "metadata": {
    "collapsed": false,
    "pycharm": {
     "name": "#%%\n"
    }
   }
  },
  {
   "cell_type": "code",
   "execution_count": null,
   "outputs": [],
   "source": [
    "#{'C': 0.1, 'gamma': 'scale', 'kernel': 'linear'}\n",
    "svmA = svm.SVC(random_state=1, C=0.1, gamma = 'scale', kernel = 'linear')\n",
    "svmA.fit(blackboxtrainA[cols].values, blackboxtrainA['y'].values)\n",
    "filename = 'blackboxes/bankmarketingA.sav'\n",
    "pickle.dump(svmA, open(filename, 'wb'))\n",
    "pred=svmA.predict(trainA[cols].values)\n",
    "accA = accuracy_score(trainA['y'].values,pred)\n",
    "precAmacro = precision_score(trainA['y'].values,pred, average='macro')\n",
    "recAmacro = recall_score(trainA['y'].values,pred, average='macro')\n",
    "print(\"Accuracy on X_train: \",accA)"
   ],
   "metadata": {
    "collapsed": false,
    "pycharm": {
     "name": "#%%\n"
    }
   }
  },
  {
   "cell_type": "markdown",
   "source": [
    "##### Data B"
   ],
   "metadata": {
    "collapsed": false,
    "pycharm": {
     "name": "#%% md\n"
    }
   }
  },
  {
   "cell_type": "code",
   "execution_count": null,
   "outputs": [],
   "source": [
    "nbB = GaussianNB()\n",
    "grid_searchB = GridSearchCV(estimator = nbB, param_grid = param_grid_NB, cv = 3, verbose=4)\n",
    "CV_nbB = grid_searchB.fit(blackboxtrainB[cols].values, blackboxtrainB['y'].values)\n",
    "print(CV_nbB.best_params_)"
   ],
   "metadata": {
    "collapsed": false,
    "pycharm": {
     "name": "#%%\n"
    }
   }
  },
  {
   "cell_type": "code",
   "execution_count": null,
   "outputs": [],
   "source": [
    "#{'var_smoothing': 0.01}\n",
    "nbB=GaussianNB(var_smoothing = 0.01)\n",
    "nbB.fit(blackboxtrainB[cols].values, blackboxtrainB['y'].values)\n",
    "filename = 'blackboxes/bankmarketingB.sav'\n",
    "pickle.dump(nbB, open(filename, 'wb'))\n",
    "pred=nbB.predict(trainB[cols].values)\n",
    "accB = accuracy_score(trainB['y'].values,pred)\n",
    "precBmacro = precision_score(trainB['y'].values,pred, average='macro')\n",
    "recBmacro = recall_score(trainB['y'].values,pred, average='macro')\n",
    "print(\"Accuracy on X_train: \", accB)"
   ],
   "metadata": {
    "collapsed": false,
    "pycharm": {
     "name": "#%%\n"
    }
   }
  },
  {
   "cell_type": "markdown",
   "source": [
    "##### Performance table"
   ],
   "metadata": {
    "collapsed": false,
    "pycharm": {
     "name": "#%% md\n"
    }
   }
  },
  {
   "cell_type": "code",
   "execution_count": null,
   "outputs": [],
   "source": [
    "performance_bankmarketing = pd.DataFrame({\n",
    "    'Metric': ['Accuracy', 'Precision (macro)', 'Recall (macro)'],\n",
    "    'Data A': [accA, precAmacro, recAmacro],\n",
    "    'Data B': [accB, precBmacro, recBmacro]\n",
    "})"
   ],
   "metadata": {
    "collapsed": false,
    "pycharm": {
     "name": "#%%\n"
    }
   }
  },
  {
   "cell_type": "markdown",
   "source": [
    "##### Parameter table"
   ],
   "metadata": {
    "collapsed": false,
    "pycharm": {
     "name": "#%% md\n"
    }
   }
  },
  {
   "cell_type": "code",
   "execution_count": null,
   "outputs": [],
   "source": [
    "parameter_bankmarketingA = pd.DataFrame.from_dict({k: str(v) for k, v in svmA.get_params().items()}, orient='index',\n",
    "                                           columns = ['Bank-Marketing']).reset_index()\n",
    "parameter_bankmarketingB = pd.DataFrame.from_dict({k: str(v) for k, v in nbB.get_params().items()}, orient='index',\n",
    "                                           columns = ['Bank-Marketing']).reset_index()"
   ],
   "metadata": {
    "collapsed": false,
    "pycharm": {
     "name": "#%%\n"
    }
   }
  },
  {
   "cell_type": "markdown",
   "source": [
    "### Compas dataset"
   ],
   "metadata": {
    "collapsed": false,
    "pycharm": {
     "name": "#%% md\n"
    }
   }
  },
  {
   "cell_type": "code",
   "execution_count": null,
   "outputs": [],
   "source": [
    "dataA, dataB, cols, continuous, discrete, le = loaddata('compas')\n",
    "blackboxtrainA, trainA, testA = split3fold(dataA, 0.4, 0.2, random_state=1)\n",
    "blackboxtrainB, trainB, testB = split3fold(dataB, 0.4, 0.2, random_state=1)"
   ],
   "metadata": {
    "collapsed": false,
    "pycharm": {
     "name": "#%%\n"
    }
   }
  },
  {
   "cell_type": "markdown",
   "source": [
    "#### Training"
   ],
   "metadata": {
    "collapsed": false,
    "pycharm": {
     "name": "#%% md\n"
    }
   }
  },
  {
   "cell_type": "markdown",
   "source": [
    "##### Data A"
   ],
   "metadata": {
    "collapsed": false,
    "pycharm": {
     "name": "#%% md\n"
    }
   }
  },
  {
   "cell_type": "code",
   "execution_count": null,
   "outputs": [],
   "source": [
    "svmA = svm.SVC(random_state=1)\n",
    "grid_searchA = GridSearchCV(estimator = svmA, param_grid = param_grid_SVM, cv = 3, verbose = 4)\n",
    "CV_svmA = grid_searchA.fit(blackboxtrainA[cols].values, blackboxtrainA['y'].values)\n",
    "print(CV_svmA.best_params_)"
   ],
   "metadata": {
    "collapsed": false,
    "pycharm": {
     "name": "#%%\n"
    }
   }
  },
  {
   "cell_type": "code",
   "execution_count": null,
   "outputs": [],
   "source": [
    "#{'C': 100, 'gamma': 'scale', 'kernel': 'rbf'}\n",
    "svmA = svm.SVC(random_state=1, C=100, gamma = 'scale', kernel = 'rbf')\n",
    "svmA.fit(blackboxtrainA[cols].values, blackboxtrainA['y'].values)\n",
    "filename = 'blackboxes/compasA.sav'\n",
    "pickle.dump(svmA, open(filename, 'wb'))\n",
    "pred=svmA.predict(trainA[cols].values)\n",
    "accA = accuracy_score(trainA['y'].values,pred)\n",
    "precAmicro = precision_score(trainA['y'].values,pred, average='micro')\n",
    "precAmacro = precision_score(trainA['y'].values,pred, average='macro')\n",
    "recAmicro = recall_score(trainA['y'].values,pred, average='micro')\n",
    "recAmacro = recall_score(trainA['y'].values,pred, average='macro')\n",
    "print(\"Accuracy on X_train: \",accA)"
   ],
   "metadata": {
    "collapsed": false,
    "pycharm": {
     "name": "#%%\n"
    }
   }
  },
  {
   "cell_type": "markdown",
   "source": [
    "##### Data B"
   ],
   "metadata": {
    "collapsed": false,
    "pycharm": {
     "name": "#%% md\n"
    }
   },
   "execution_count": 7
  },
  {
   "cell_type": "code",
   "execution_count": null,
   "outputs": [],
   "source": [
    "nbB = GaussianNB()\n",
    "grid_searchB = GridSearchCV(estimator = nbB, param_grid = param_grid_NB, cv = 3, verbose=4)\n",
    "CV_nbB = grid_searchB.fit(blackboxtrainB[cols].values, blackboxtrainB['y'].values)\n",
    "print(CV_nbB.best_params_)"
   ],
   "metadata": {
    "collapsed": false,
    "pycharm": {
     "name": "#%%\n"
    }
   }
  },
  {
   "cell_type": "code",
   "execution_count": null,
   "outputs": [],
   "source": [
    "nbB=GaussianNB(var_smoothing = 0.0001)\n",
    "nbB.fit(blackboxtrainB[cols].values, blackboxtrainB['y'].values)\n",
    "filename = 'blackboxes/compasB.sav'\n",
    "pickle.dump(nbB, open(filename, 'wb'))\n",
    "pred=nbB.predict(trainB[cols].values)\n",
    "accB = accuracy_score(trainB['y'].values,pred)\n",
    "precBmicro = precision_score(trainB['y'].values,pred, average='micro')\n",
    "precBmacro = precision_score(trainB['y'].values,pred, average='macro')\n",
    "recBmicro = recall_score(trainB['y'].values,pred, average='micro')\n",
    "recBmacro = recall_score(trainB['y'].values,pred, average='macro')\n",
    "print(\"Accuracy on X_train: \", accB)"
   ],
   "metadata": {
    "collapsed": false,
    "pycharm": {
     "name": "#%%\n"
    }
   }
  },
  {
   "cell_type": "markdown",
   "source": [
    "#### Permutation importance"
   ],
   "metadata": {
    "collapsed": false,
    "pycharm": {
     "name": "#%% md\n"
    }
   }
  },
  {
   "cell_type": "code",
   "execution_count": null,
   "outputs": [],
   "source": [
    "val = pd.concat([trainA, trainB])"
   ],
   "metadata": {
    "collapsed": false,
    "pycharm": {
     "name": "#%%\n"
    }
   }
  },
  {
   "cell_type": "code",
   "execution_count": null,
   "outputs": [],
   "source": [
    "from sklearn.inspection import permutation_importance\n",
    "r = permutation_importance(svmA, val[cols].values, val.y.values, n_repeats=30,random_state=0)"
   ],
   "metadata": {
    "collapsed": false,
    "pycharm": {
     "name": "#%%\n"
    }
   }
  },
  {
   "cell_type": "code",
   "execution_count": null,
   "outputs": [],
   "source": [
    "for i in r.importances_mean.argsort()[::-1]:\n",
    "    print(f\"{cols[i]:<8}\"\n",
    "          f\"{r.importances_mean[i]:.3f}\"\n",
    "          f\" +/- {r.importances_std[i]:.3f}\")\n",
    "#Negative values for permutation importance indicate that the predictions on the shuffled (or noisy) data are more accurate than the real data"
   ],
   "metadata": {
    "collapsed": false,
    "pycharm": {
     "name": "#%%\n"
    }
   }
  },
  {
   "cell_type": "code",
   "execution_count": null,
   "outputs": [],
   "source": [
    "r = permutation_importance(nbB, val[cols].values, val.y.values, n_repeats=30,random_state=0)\n",
    "for i in r.importances_mean.argsort()[::-1]:\n",
    "    print(f\"{cols[i]:<8}\"\n",
    "          f\"{r.importances_mean[i]:.3f}\"\n",
    "          f\" +/- {r.importances_std[i]:.3f}\")"
   ],
   "metadata": {
    "collapsed": false,
    "pycharm": {
     "name": "#%%\n"
    }
   }
  },
  {
   "cell_type": "code",
   "execution_count": null,
   "outputs": [],
   "source": [],
   "metadata": {
    "collapsed": false,
    "pycharm": {
     "name": "#%%\n"
    }
   }
  },
  {
   "cell_type": "markdown",
   "source": [
    "##### Performance table"
   ],
   "metadata": {
    "collapsed": false,
    "pycharm": {
     "name": "#%% md\n"
    }
   }
  },
  {
   "cell_type": "code",
   "execution_count": null,
   "outputs": [],
   "source": [
    "performance_compas = pd.DataFrame({\n",
    "    'Metric': ['Accuracy', 'Precision (macro)', 'Recall (macro)'],\n",
    "    'Data A': [accA, precAmacro, recAmacro],\n",
    "    'Data B': [accB, precBmacro, recBmacro]\n",
    "})\n",
    "parameter_compasA = pd.DataFrame.from_dict({k: str(v) for k, v in svmA.get_params().items()}, orient='index',\n",
    "                                           columns = ['Compas']).reset_index()\n",
    "parameter_compasB = pd.DataFrame.from_dict({k: str(v) for k, v in nbB.get_params().items()}, orient='index',\n",
    "                                          columns = ['Compas']).reset_index()"
   ],
   "metadata": {
    "collapsed": false,
    "pycharm": {
     "name": "#%%\n"
    }
   }
  },
  {
   "cell_type": "markdown",
   "source": [
    "## Summary Performance table"
   ],
   "metadata": {
    "collapsed": false,
    "pycharm": {
     "name": "#%% md\n"
    }
   }
  },
  {
   "cell_type": "code",
   "source": [
    "performance = pd.merge(performance_bankmarketing, performance_compas, on = 'Metric')\n",
    "performance.columns = pd.MultiIndex.from_tuples([\n",
    "    ('', 'Metric'), ('Bank-Marketing', 'Data A'), ('Bank-Marketing', 'Data B'), ('Compas', 'Data A'), ('Compas', 'Data B')\n",
    "])"
   ],
   "metadata": {
    "collapsed": false,
    "pycharm": {
     "name": "#%%\n"
    }
   },
   "execution_count": null,
   "outputs": []
  },
  {
   "cell_type": "code",
   "execution_count": null,
   "outputs": [],
   "source": [
    "performance"
   ],
   "metadata": {
    "collapsed": false,
    "pycharm": {
     "name": "#%%\n"
    }
   }
  },
  {
   "cell_type": "markdown",
   "source": [
    "## Summary Parameter table"
   ],
   "metadata": {
    "collapsed": false,
    "pycharm": {
     "name": "#%% md\n"
    }
   }
  },
  {
   "cell_type": "code",
   "source": [
    "parameterA = pd.merge(pd.DataFrame.from_dict({k: str(v) for k, v in param_grid_SVM.items()}, orient='index',\n",
    "                       columns = ['List of values']).reset_index(), parameter_compasA)\n",
    "parameterA = pd.merge(parameterA, parameter_bankmarketingA)\n",
    "parameterA['Model'] = 'Black box A: SVM'\n",
    "parameterB = pd.merge(pd.DataFrame.from_dict({k: str(v) for k, v in param_grid_NB.items()}, orient='index',\n",
    "                                             columns = ['List of values']).reset_index(), parameter_compasB)\n",
    "parameterB = pd.merge(parameterB, parameter_bankmarketingB)\n",
    "parameterB['Model'] = 'Black box B: Naive Bayes'"
   ],
   "metadata": {
    "collapsed": false,
    "pycharm": {
     "name": "#%%\n"
    }
   },
   "execution_count": null,
   "outputs": []
  },
  {
   "cell_type": "code",
   "execution_count": null,
   "outputs": [],
   "source": [
    "parameter = pd.concat([parameterA, parameterB])[['Model','index','List of values','Bank-Marketing','Compas']].\\\n",
    "    rename(columns = {'index':'Parameter'})"
   ],
   "metadata": {
    "collapsed": false,
    "pycharm": {
     "name": "#%%\n"
    }
   }
  },
  {
   "cell_type": "markdown",
   "source": [
    "### Running Example 1"
   ],
   "metadata": {
    "collapsed": false,
    "pycharm": {
     "name": "#%% md\n"
    }
   }
  },
  {
   "cell_type": "code",
   "execution_count": null,
   "outputs": [],
   "source": [
    "filename = 'blackboxes/running1A.sav'\n",
    "mod = FClassifier()\n",
    "pickle.dump(mod, open(filename, 'wb'))\n",
    "filename = 'blackboxes/running1B.sav'\n",
    "mod = SClassifier()\n",
    "pickle.dump(mod, open(filename, 'wb'))"
   ],
   "metadata": {
    "collapsed": false,
    "pycharm": {
     "name": "#%%\n"
    }
   }
  },
  {
   "cell_type": "markdown",
   "source": [
    "### Running Example 2"
   ],
   "metadata": {
    "collapsed": false,
    "pycharm": {
     "name": "#%% md\n"
    }
   }
  },
  {
   "cell_type": "code",
   "execution_count": null,
   "outputs": [],
   "source": [
    "data, cols = loaddata('running2')"
   ],
   "metadata": {
    "collapsed": false,
    "pycharm": {
     "name": "#%%\n"
    }
   }
  },
  {
   "cell_type": "code",
   "execution_count": null,
   "outputs": [],
   "source": [
    "svmA = svm.SVC(random_state=1, kernel = 'linear')\n",
    "svmA.fit(data[cols].values, data.y)\n",
    "filename = 'blackboxes/running2A.sav'\n",
    "pickle.dump(svmA, open(filename, 'wb'))"
   ],
   "metadata": {
    "collapsed": false,
    "pycharm": {
     "name": "#%%\n"
    }
   }
  },
  {
   "cell_type": "code",
   "execution_count": null,
   "outputs": [],
   "source": [
    "svmB = svm.SVC(random_state=1, kernel = 'rbf', gamma = 0.2)\n",
    "svmB.fit(data[cols].values, data.y)\n",
    "filename = 'blackboxes/running2B.sav'\n",
    "pickle.dump(svmB, open(filename, 'wb'))"
   ],
   "metadata": {
    "collapsed": false,
    "pycharm": {
     "name": "#%%\n"
    }
   }
  }
 ],
 "metadata": {
  "kernelspec": {
   "display_name": "Python 3",
   "language": "python",
   "name": "python3"
  },
  "language_info": {
   "codemirror_mode": {
    "name": "ipython",
    "version": 2
   },
   "file_extension": ".py",
   "mimetype": "text/x-python",
   "name": "python",
   "nbconvert_exporter": "python",
   "pygments_lexer": "ipython2",
   "version": "2.7.6"
  }
 },
 "nbformat": 4,
 "nbformat_minor": 0
}