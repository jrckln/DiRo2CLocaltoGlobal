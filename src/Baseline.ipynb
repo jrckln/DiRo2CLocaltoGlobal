{
 "cells": [
  {
   "cell_type": "code",
   "execution_count": null,
   "outputs": [],
   "source": [
    "import pandas as pd\n",
    "import numpy as np\n",
    "import matplotlib.pyplot as plt\n",
    "from sklearn import metrics\n",
    "from data.getdata import loaddata\n",
    "from data.split3fold import split3fold\n",
    "import pickle\n",
    "from sklearn.tree import DecisionTreeClassifier\n",
    "from matplotlib import colors\n",
    "from sklearn.preprocessing import LabelEncoder\n",
    "\n",
    "plt.style.use('ggplot')\n",
    "\n",
    "from vars import plot_colors, color_dict, make_meshgrid, plot_contours,get_rules"
   ],
   "metadata": {
    "collapsed": false,
    "pycharm": {
     "name": "#%%\n"
    }
   }
  },
  {
   "cell_type": "code",
   "execution_count": null,
   "outputs": [],
   "source": [
    "data = 'compas'"
   ],
   "metadata": {
    "collapsed": false,
    "pycharm": {
     "name": "#%%\n"
    }
   }
  },
  {
   "cell_type": "code",
   "execution_count": null,
   "outputs": [],
   "source": [
    "dataA, dataB, cols, discrete, continuous, le = loaddata(data)\n",
    "blackboxtrainA, trainA, testA = split3fold(dataA, 0.4, 0.2, random_state=1)\n",
    "blackboxtrainB, trainB, testB = split3fold(dataB, 0.4, 0.2, random_state=1)"
   ],
   "metadata": {
    "collapsed": false,
    "pycharm": {
     "name": "#%%\n"
    }
   }
  },
  {
   "cell_type": "code",
   "execution_count": null,
   "outputs": [],
   "source": [
    "modelA = pickle.load(open('blackboxes/'+data+'A.sav', 'rb'))\n",
    "modelB = pickle.load(open('blackboxes/'+data+'B.sav', 'rb'))"
   ],
   "metadata": {
    "collapsed": false,
    "pycharm": {
     "name": "#%%\n"
    }
   }
  },
  {
   "cell_type": "code",
   "execution_count": null,
   "outputs": [],
   "source": [
    "#create difference detection dataset:\n",
    "train = pd.concat([trainA, trainB])\n",
    "train['predA'] = modelA.predict(train[cols].values)\n",
    "train['predB'] = modelB.predict(train[cols].values)\n",
    "train['difference'] = train.apply(lambda row: str(int(row['predA'])) + '|' + str(int(row['predB'])), axis = 1)\n",
    "train.drop(columns=['predA', 'predB', 'y'], inplace=True)\n",
    "train.reset_index(inplace=True, drop = True)\n",
    "test = pd.concat([testA, testB])\n",
    "test['predA'] = modelA.predict(test[cols].values)\n",
    "test['predB'] = modelB.predict(test[cols].values)\n",
    "test['difference'] = test.apply(lambda row: str(int(row['predA'])) + '|' + str(int(row['predB'])), axis = 1)\n",
    "test.drop(columns=['predA', 'predB', 'y'], inplace=True)\n",
    "test.reset_index(inplace=True, drop = True)"
   ],
   "metadata": {
    "collapsed": false,
    "pycharm": {
     "name": "#%%\n"
    }
   }
  },
  {
   "cell_type": "code",
   "execution_count": null,
   "outputs": [],
   "source": [
    "#baseline global explainer:\n",
    "baseline = DecisionTreeClassifier(random_state=0)\n",
    "baseline.fit(train[cols].values, train.difference)"
   ],
   "metadata": {
    "collapsed": false,
    "pycharm": {
     "name": "#%%\n"
    }
   }
  },
  {
   "cell_type": "code",
   "execution_count": null,
   "outputs": [],
   "source": [
    "pred = baseline.predict(test[cols].values)"
   ],
   "metadata": {
    "collapsed": false,
    "pycharm": {
     "name": "#%%\n"
    }
   }
  },
  {
   "cell_type": "code",
   "execution_count": null,
   "outputs": [],
   "source": [
    "performancefile = 'results/Baselineperformance.txt'\n",
    "with open(performancefile, 'a') as myfile:\n",
    "    myfile.write('model data iteration depthexplainer leavesexplainer accuracy precisionmacro recallmacro\\n')\n",
    "for j in range(5):\n",
    "    baseline = DecisionTreeClassifier(random_state=j)\n",
    "    baseline.fit(train[cols].values, train.difference)\n",
    "    pred = baseline.predict(test[cols].values)\n",
    "    with open(performancefile, 'a') as f:\n",
    "        line = ' '.join([\"Approach 0: Baseline\",\n",
    "                         data,\n",
    "                         str(j),\n",
    "                         str(baseline.get_depth()),\n",
    "                         str(baseline.get_n_leaves()),\n",
    "                         str(metrics.accuracy_score(test.difference, pred)),\n",
    "                         str(metrics.precision_score(test.difference, pred, average='macro')),\n",
    "                         str(metrics.recall_score(test.difference, pred, average='macro'))\n",
    "                         ])\n",
    "        f.write(line + '\\n')"
   ],
   "metadata": {
    "collapsed": false,
    "pycharm": {
     "name": "#%%\n"
    }
   }
  },
  {
   "cell_type": "markdown",
   "source": [
    "#### Varying depth of tree"
   ],
   "metadata": {
    "collapsed": false,
    "pycharm": {
     "name": "#%% md\n"
    }
   }
  },
  {
   "cell_type": "code",
   "execution_count": null,
   "outputs": [],
   "source": [
    "performancefile = 'results/Baselineperformance_depth.txt'\n",
    "with open(performancefile, 'a') as myfile:\n",
    "    myfile.write('model data maxdepthexplainer depthexplainer leavesexplainer accuracy precisionmacro recallmacro\\n')\n",
    "for j in [3,5,7,None]:\n",
    "    baseline = DecisionTreeClassifier(random_state=0, max_depth=j)\n",
    "    baseline.fit(train[cols].values, train.difference)\n",
    "    pred = baseline.predict(test[cols].values)\n",
    "    with open(performancefile, 'a') as f:\n",
    "        line = ' '.join(['Baseline',\n",
    "                         data,\n",
    "                         str(j),\n",
    "                         str(baseline.get_depth()),\n",
    "                         str(baseline.get_n_leaves()),\n",
    "                         str(metrics.accuracy_score(test.difference, pred)),\n",
    "                         str(metrics.precision_score(test.difference, pred, average='macro')),\n",
    "                         str(metrics.recall_score(test.difference, pred, average='macro'))\n",
    "                         ])\n",
    "        f.write(line + '\\n')"
   ],
   "metadata": {
    "collapsed": false,
    "pycharm": {
     "name": "#%%\n"
    }
   }
  },
  {
   "cell_type": "markdown",
   "source": [
    "#### Reduced training data"
   ],
   "metadata": {
    "collapsed": false,
    "pycharm": {
     "name": "#%% md\n"
    }
   }
  },
  {
   "cell_type": "code",
   "execution_count": null,
   "outputs": [],
   "source": [
    "performancefile = 'results/Baselineperformance_reduced.txt'\n",
    "with open(performancefile, 'a') as myfile:\n",
    "    myfile.write('model data iteration maxdepthexplainer depthexplainer leavesexplainer accuracy precisionmacro recallmacro\\n')\n",
    "for j in range(5):\n",
    "    trainsub = train.sample(n=100, random_state=j).reset_index(drop=True)\n",
    "    for i in [3,5,7,None]:\n",
    "        baseline = DecisionTreeClassifier(random_state=0, max_depth=i)\n",
    "        baseline.fit(trainsub[cols].values, trainsub.difference)\n",
    "        pred = baseline.predict(test[cols].values)\n",
    "        with open(performancefile, 'a') as f:\n",
    "            line = ' '.join(['Baseline',\n",
    "                             data,\n",
    "                             str(j),\n",
    "                             str(i),\n",
    "                             str(baseline.get_depth()),\n",
    "                             str(baseline.get_n_leaves()),\n",
    "                             str(metrics.accuracy_score(test.difference, pred)),\n",
    "                             str(metrics.precision_score(test.difference, pred, average='macro')),\n",
    "                             str(metrics.recall_score(test.difference, pred, average='macro'))\n",
    "                             ])\n",
    "            f.write(line + '\\n')"
   ],
   "metadata": {
    "collapsed": false,
    "pycharm": {
     "name": "#%%\n"
    }
   }
  },
  {
   "cell_type": "markdown",
   "source": [
    "## Running example"
   ],
   "metadata": {
    "collapsed": false,
    "pycharm": {
     "name": "#%% md\n"
    }
   }
  },
  {
   "cell_type": "code",
   "execution_count": null,
   "outputs": [],
   "source": [
    "data = 'running2'"
   ],
   "metadata": {
    "collapsed": false,
    "pycharm": {
     "name": "#%%\n"
    }
   }
  },
  {
   "cell_type": "code",
   "execution_count": null,
   "outputs": [],
   "source": [
    "train, cols = loaddata(data)"
   ],
   "metadata": {
    "collapsed": false,
    "pycharm": {
     "name": "#%%\n"
    }
   }
  },
  {
   "cell_type": "code",
   "execution_count": null,
   "outputs": [],
   "source": [
    "modelA = pickle.load(open('blackboxes/'+data+'A.sav', 'rb'))\n",
    "modelB = pickle.load(open('blackboxes/'+data+'B.sav', 'rb'))"
   ],
   "metadata": {
    "collapsed": false,
    "pycharm": {
     "name": "#%%\n"
    }
   }
  },
  {
   "cell_type": "code",
   "execution_count": null,
   "outputs": [],
   "source": [
    "train['yA'] = modelA.predict(train[['x1', 'x2']].values)\n",
    "train['yB'] = modelB.predict(train[['x1', 'x2']].values)\n",
    "train['difference'] = train.apply(lambda row: '%g' % row['yA'] + '|' + '%g' % row['yB'], axis = 1)\n",
    "train.drop(columns=['yA', 'yB'], inplace=True)"
   ],
   "metadata": {
    "collapsed": false,
    "pycharm": {
     "name": "#%%\n"
    }
   }
  },
  {
   "cell_type": "code",
   "execution_count": null,
   "outputs": [],
   "source": [
    "#baseline global explainer:\n",
    "baseline = DecisionTreeClassifier(random_state=0)\n",
    "baseline.fit(train[cols].values, train.difference)"
   ],
   "metadata": {
    "collapsed": false,
    "pycharm": {
     "name": "#%%\n"
    }
   }
  },
  {
   "cell_type": "code",
   "execution_count": null,
   "outputs": [],
   "source": [
    "#load test data:\n",
    "test, cols = loaddata(data + 'test')\n",
    "test['yA'] = modelA.predict(test[cols].values)\n",
    "test['yB'] = modelB.predict(test[cols].values)\n",
    "test['difference'] = test.apply(lambda row: '%g' % row['yA'] + '|' + '%g' % row['yB'], axis=1)\n",
    "test.drop(columns=['yA', 'yB'], inplace=True)\n",
    "#Evaluation:\n",
    "pred = baseline.predict(test[cols])\n",
    "\n",
    "if data == 'running1':\n",
    "    dataname = '\"Sine\"'\n",
    "else:\n",
    "    dataname = '\"Spiral\"'\n",
    "pred = baseline.predict(test[cols].values)\n",
    "with open('results/FromLocalToGlobalrunning.txt', 'a') as myfile:\n",
    "    line = ' '.join([dataname,\n",
    "                     '\"Approach 0: Baseline\"',\n",
    "                     str(baseline.get_depth()),\n",
    "                     str(baseline.get_n_leaves()),\n",
    "                     str(metrics.accuracy_score(test.difference, pred)),\n",
    "                     str(metrics.precision_score(test.difference, pred, average='macro')),\n",
    "                     str(metrics.recall_score(test.difference, pred, average='macro'))\n",
    "                     ])\n",
    "    myfile.write(line + '\\n')"
   ],
   "metadata": {
    "collapsed": false,
    "pycharm": {
     "name": "#%%\n"
    }
   }
  },
  {
   "cell_type": "code",
   "execution_count": null,
   "outputs": [],
   "source": [
    "X0 = train.x1\n",
    "X1 = train.x1\n",
    "xx, yy = make_meshgrid(X0, X1, h = 0.005)\n",
    "z = baseline.predict(np.c_[xx.ravel(), yy.ravel()])\n",
    "d=LabelEncoder()\n",
    "d.fit(np.array([x for x in color_dict[data].keys()]))\n",
    "z = d.transform(z)\n",
    "z = z.reshape(xx.shape)"
   ],
   "metadata": {
    "collapsed": false,
    "pycharm": {
     "name": "#%%\n"
    }
   }
  },
  {
   "cell_type": "code",
   "execution_count": null,
   "outputs": [],
   "source": [
    "ordering = [x for x in color_dict[data].keys()]\n",
    "keys = list(ordering)\n",
    "ordering.sort()\n",
    "ordering = [keys.index(x) for x in ordering]"
   ],
   "metadata": {
    "collapsed": false,
    "pycharm": {
     "name": "#%%\n"
    }
   }
  },
  {
   "cell_type": "code",
   "execution_count": null,
   "outputs": [],
   "source": [
    "values = [x[0] for x in color_dict[data].values()]\n",
    "orderedmap = [values[i] for i in ordering]\n",
    "MyCmap=colors.ListedColormap(orderedmap)\n",
    "fig, ax = plt.subplots(figsize = (10,8))\n",
    "\n",
    "cntr1 = plot_contours(ax, modelA, xx, yy, levels = 1,colors = 'black',linewidths = 2, linestyles = 'dotted')\n",
    "cntr2 = plot_contours(ax, modelB, xx, yy, levels = 1, colors = 'black',linewidths = 1)\n",
    "\n",
    "cp = ax.contourf(xx, yy, z+0.1, alpha = 0.7, cmap=MyCmap)\n",
    "\n",
    "h = [plt.plot([],[], color = i[0], linewidth=10, label = j)[0] for j,i in color_dict[data].items()]\n",
    "ax.legend(handles=h, loc='lower left', title='Prediction Explainer', frameon = False, bbox_to_anchor=(0,-0.15), ncol = 9)\n",
    "\n",
    "ax.scatter(train.x1, train.x2, c='black', alpha = 0.3, s=10)\n",
    "\n",
    "ax.set_facecolor('#FFFFFF')\n",
    "ax.set_xlabel('$x_1$')\n",
    "ax.set_ylabel('$x_2$')\n",
    "ax.grid(True, color = '#F3F3F3')\n",
    "\n",
    "ax.set_ylim(train.x2.min(), train.x2.max())\n",
    "ax.set_xlim(train.x1.min(), train.x1.max())\n",
    "\n",
    "plt.tight_layout()\n",
    "plt.savefig(\"docout/sections/localtoglobal/results/Baseline_decisionsurfaceexplainer_\" + data + \".jpg\", dpi=150, bbox_inches='tight', transparent=True, pad_inches=0)"
   ],
   "metadata": {
    "collapsed": false,
    "pycharm": {
     "name": "#%%\n"
    }
   }
  },
  {
   "cell_type": "code",
   "execution_count": null,
   "outputs": [],
   "source": [
    "from matplotlib.colors import to_rgb\n",
    "from sklearn.tree import plot_tree\n",
    "import matplotlib\n",
    "import re\n",
    "\n",
    "def replace_text(obj):\n",
    "    if type(obj) == matplotlib.text.Annotation:\n",
    "        txt = obj.get_text()\n",
    "        txt = re.sub(\"samples[^$]*class\", \"class\", txt)\n",
    "        obj.set_text(txt)\n",
    "    return obj"
   ],
   "metadata": {
    "collapsed": false,
    "pycharm": {
     "name": "#%%\n"
    }
   }
  },
  {
   "cell_type": "code",
   "execution_count": null,
   "outputs": [],
   "source": [
    "fig, ax = plt.subplots(figsize=(28, 5))\n",
    "class_names = baseline.classes_\n",
    "#class_names_decoded = dec.inverse_transform(class_names)\n",
    "#class_names = [classes_dict[data][x] for x in class_names_decoded]\n",
    "c = [color_dict[data][x][0] for x in class_names]\n",
    "N = len(class_names)\n",
    "artists = plot_tree(baseline, fontsize=6, ax=ax,\n",
    "                    impurity=False, node_ids=True,\n",
    "                    feature_names=cols, class_names=class_names)\n",
    "ax.properties()['children'] = [replace_text(i) for i in ax.properties()['children']]\n",
    "for artist, impurity, value in zip(artists, baseline.tree_.impurity, baseline.tree_.value):\n",
    "    # let the max value decide the color; whiten the color depending on impurity (gini)\n",
    "    r, g, b = to_rgb(c[np.argmax(value)])\n",
    "    f = impurity * N / (N - 1) if N > 1 else 0\n",
    "    rnew = f + (1 - f) * r\n",
    "    gnew = f + (1 - f) * g\n",
    "    bnew = f + (1 - f) * b\n",
    "    artist.get_bbox_patch().set(facecolor = (rnew, gnew, bnew),\n",
    "                                edgecolor = 'black')\n",
    "    brightness = np.sqrt(0.299*rnew*rnew + 0.587*gnew*gnew + 0.114*bnew*bnew)\n",
    "    if brightness < 0.5:\n",
    "        artist.set(color = 'white')\n",
    "plt.savefig('docout/sections/localtoglobal/results/baseline_'+data+'_explainer.jpg',dpi=300, bbox_inches='tight', transparent=True, pad_inches=0)"
   ],
   "metadata": {
    "collapsed": false,
    "pycharm": {
     "name": "#%%\n"
    }
   }
  },
  {
   "cell_type": "code",
   "execution_count": null,
   "outputs": [],
   "source": [
    "import pyperclip\n",
    "rules = get_rules(baseline, ['x_1', 'x_2'], class_names = baseline.classes_)\n",
    "rules = '\\n'.join(rules)\n",
    "pyperclip.copy(rules)"
   ],
   "metadata": {
    "collapsed": false,
    "pycharm": {
     "name": "#%%\n"
    }
   }
  }
 ],
 "metadata": {
  "kernelspec": {
   "name": "diroc",
   "language": "python",
   "display_name": "diroc"
  },
  "language_info": {
   "codemirror_mode": {
    "name": "ipython",
    "version": 2
   },
   "file_extension": ".py",
   "mimetype": "text/x-python",
   "name": "python",
   "nbconvert_exporter": "python",
   "pygments_lexer": "ipython2",
   "version": "2.7.6"
  }
 },
 "nbformat": 4,
 "nbformat_minor": 0
}